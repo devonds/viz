{
 "cells": [
  {
   "cell_type": "code",
   "execution_count": 2,
   "metadata": {},
   "outputs": [],
   "source": [
    "import json\n",
    "import pandas as pd\n",
    "import numpy as np\n",
    "import scipy as sc\n",
    "from collections import Counter\n",
    "import seaborn as sns\n",
    "import matplotlib as mpl\n",
    "import matplotlib.pyplot as plt\n",
    "import pickle\n",
    "from os.path import join\n",
    "from config import *\n",
    "\n",
    "import warnings\n",
    "warnings.filterwarnings(\"ignore\", category=UserWarning, module=\"matplotlib\")"
   ]
  },
  {
   "cell_type": "markdown",
   "metadata": {},
   "source": [
    "# Loading"
   ]
  },
  {
   "cell_type": "code",
   "execution_count": 3,
   "metadata": {},
   "outputs": [],
   "source": [
    "data_file_name = '../data/plot_data.tsv'\n",
    "feature_file_name = '../features/processed'"
   ]
  },
  {
   "cell_type": "code",
   "execution_count": 4,
   "metadata": {
    "scrolled": true
   },
   "outputs": [],
   "source": [
    "chunks = pd.read_csv(\n",
    "    data_file_name,\n",
    "    error_bad_lines=False,\n",
    "    chunksize=10000, \n",
    "    encoding='utf-8',\n",
    "    sep='\\t'\n",
    ")\n",
    "\n",
    "num_fields_list = []\n",
    "num_rows_list = []\n",
    "\n",
    "num_traces = 0\n",
    "traces_with_transforms = 0\n",
    "chart_data_field_counts = Counter()\n",
    "layout_field_counts = Counter()\n",
    "\n",
    "num_grids_counts = Counter()\n",
    "user_counts = Counter()\n",
    "\n",
    "fields_and_src = []\n",
    "fields = []\n",
    "src_sets = []\n",
    "\n",
    "for chunk_num, chunk in enumerate(chunks):\n",
    "    for i, chart in chunk.iterrows():\n",
    "        user, chart_id = chart.fid.split(':')\n",
    "        \n",
    "        user_counts[user] += 1\n",
    "        \n",
    "        table_data = json.loads(chart.table_data)\n",
    "        fields = table_data[list(table_data.keys())[0]]['cols']\n",
    "        num_fields = len(fields)\n",
    "        num_fields_list.append(num_fields)\n",
    "        \n",
    "        num_rows = np.max([ len(d['data']) for d in fields.values() ])\n",
    "        num_rows_list.append(num_rows)\n",
    "        \n",
    "        srcs = set()    \n",
    "        chart_data = json.loads(chart.chart_data)\n",
    "        for trace in chart_data:\n",
    "            src_keys = [ k for k in trace.keys() if 'src' in k ]\n",
    "            for src_key in src_keys:\n",
    "                srcs.add(trace[src_key])\n",
    "        fields_and_src.append([ num_fields, len(srcs) ])"
   ]
  },
  {
   "cell_type": "markdown",
   "metadata": {},
   "source": [
    "## Number of Fields"
   ]
  },
  {
   "cell_type": "code",
   "execution_count": 5,
   "metadata": {},
   "outputs": [],
   "source": [
    "num_fields_counts = Counter(num_fields_list)\n",
    "num_fields_counts_df = pd.DataFrame.from_dict(\n",
    "    num_fields_counts, orient='index'\n",
    ")\n",
    "num_fields_counts_df = num_fields_counts_df.rename(columns={\n",
    "    'index': 'num_fields',\n",
    "    0: 'count'\n",
    "}).reset_index()\n",
    "\n",
    "num_fields_counts_df_subset = num_fields_counts_df[num_fields_counts_df['index'] <= 25]"
   ]
  },
  {
   "cell_type": "code",
   "execution_count": 7,
   "metadata": {},
   "outputs": [
    {
     "name": "stderr",
     "output_type": "stream",
     "text": [
      "/Users/devon/opt/anaconda3/lib/python3.7/site-packages/ipykernel_launcher.py:28: UserWarning: Tight layout not applied. The bottom and top margins cannot be made large enough to accommodate all axes decorations. \n",
      "/Users/devon/opt/anaconda3/lib/python3.7/site-packages/ipykernel_launcher.py:29: UserWarning: Tight layout not applied. The bottom and top margins cannot be made large enough to accommodate all axes decorations. \n",
      "/Users/devon/opt/anaconda3/lib/python3.7/site-packages/ipykernel_launcher.py:29: UserWarning: Tight layout not applied. The bottom and top margins cannot be made large enough to accommodate all axes decorations. \n",
      "/Users/devon/opt/anaconda3/lib/python3.7/site-packages/IPython/core/pylabtools.py:132: UserWarning: Tight layout not applied. The bottom and top margins cannot be made large enough to accommodate all axes decorations. \n",
      "  fig.canvas.print_figure(bytes_io, **kw)\n"
     ]
    },
    {
     "data": {
      "image/png": "[encoded data removed]",
      "text/plain": [
       "<Figure size 252x155.748 with 1 Axes>"
      ]
     },
     "metadata": {},
     "output_type": "display_data"
    }
   ],
   "source": [
    "sns.set_style(\"whitegrid\")\n",
    "fig, ax = plt.subplots()\n",
    "\n",
    "num_fields_counts_df_subset.plot.bar(\n",
    "    y='count',\n",
    "    ax=ax,\n",
    "    color=colors_dict['blue'],\n",
    "    width=0.75,\n",
    "    figsize=(10, 10),\n",
    "    legend=False\n",
    ")\n",
    "ax.xaxis.grid(which='major')\n",
    "ax.set_yscale('log')\n",
    "# ax.set_ylim([0, np.max(num_fields_counts_df_subset['count'])])\n",
    "plt.ylabel('Frequency (log)')\n",
    "plt.xlabel('Number of Columns per Dataset')\n",
    "\n",
    "median = np.median([ x for x in num_fields_list if x<= 25])\n",
    "mean = np.mean([ x for x in num_fields_list if x <= 25])\n",
    "\n",
    "plt.annotate(\n",
    "    'Median = {0:.2f}\\nMean = {1:.2f}'.format(median, mean),\n",
    "    xy=(15, 74000),\n",
    "    bbox=dict(boxstyle=\"square,pad=0.5\", fc=\"w\", ec='#cccccc')\n",
    ")\n",
    "\n",
    "fig.set_size_inches(width, height)\n",
    "plt.savefig('../results/plots_per_field_log_linear.svg', format='svg', bbox_inches='tight')\n",
    "plt.savefig('../results/plots_per_field_log_linear.pdf', format='pdf', bbox_inches='tight')"
   ]
  },
  {
   "cell_type": "markdown",
   "metadata": {},
   "source": [
    "## Rows per Dataset"
   ]
  },
  {
   "cell_type": "code",
   "execution_count": 86,
   "metadata": {},
   "outputs": [],
   "source": [
    "max_x_val = np.max(num_rows_list)\n",
    "\n",
    "counts, bin_edges = np.histogram(\n",
    "    np.array(num_rows_list),\n",
    "    bins='auto'\n",
    ")"
   ]
  },
  {
   "cell_type": "code",
   "execution_count": 87,
   "metadata": {},
   "outputs": [
    {
     "data": {
      "image/png": "[encoded data removed]",
      "text/plain": [
       "<Figure size 252x155.748 with 1 Axes>"
      ]
     },
     "metadata": {},
     "output_type": "display_data"
    }
   ],
   "source": [
    "fig, ax = plt.subplots(figsize=(width, height))\n",
    "\n",
    "bin_centers = (bin_edges[:-1] + bin_edges[1:])/2.\n",
    "\n",
    "x = bin_centers\n",
    "y = counts\n",
    "\n",
    "plt.scatter(\n",
    "    x,\n",
    "    y,\n",
    "    c=colors_dict['blue'],\n",
    "    s=3\n",
    ")\n",
    "\n",
    "eps = 1\n",
    "\n",
    "ax.set_xscale('log')\n",
    "ax.set_yscale('log')\n",
    "\n",
    "ax.set_xlim([np.min(bin_centers), np.max(bin_centers)])\n",
    "ax.set_ylim([np.min(counts) + 1, np.max(counts)])\n",
    "\n",
    "plt.annotate(\n",
    "    'Median = {0:.2f}\\nMean = {1:.2f}'.format(median, mean),\n",
    "    xy=(40000, 16200),\n",
    "    bbox=dict(boxstyle=\"square,pad=0.5\", fc=\"w\", ec='#cccccc')\n",
    ")\n",
    "\n",
    "plt.ylabel('Frequency (log)')\n",
    "plt.xlabel('Number of Rows per Dataset (log)')\n",
    "plt.savefig('../results/rows_per_dataset_log_log.svg', format='svg', bbox_inches='tight')\n",
    "plt.savefig('../results/rows_per_dataset_log_log.pdf', format='pdf', bbox_inches='tight')"
   ]
  },
  {
   "cell_type": "code",
   "execution_count": 8,
   "metadata": {},
   "outputs": [
    {
     "name": "stdout",
     "output_type": "stream",
     "text": [
      "/Users/devon/Dropbox/Insight/garden_variety/precident/vizml/notebooks\r\n"
     ]
    }
   ],
   "source": [
    "!pwd"
   ]
  },
  {
   "cell_type": "code",
   "execution_count": null,
   "metadata": {},
   "outputs": [],
   "source": []
  }
 ],
 "metadata": {
  "kernelspec": {
   "display_name": "Python 3",
   "language": "python",
   "name": "python3"
  },
  "language_info": {
   "codemirror_mode": {
    "name": "ipython",
    "version": 3
   },
   "file_extension": ".py",
   "mimetype": "text/x-python",
   "name": "python",
   "nbconvert_exporter": "python",
   "pygments_lexer": "ipython3",
   "version": "3.7.7"
  }
 },
 "nbformat": 4,
 "nbformat_minor": 2
}
