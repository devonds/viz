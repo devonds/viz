{
 "cells": [
  {
   "cell_type": "markdown",
   "metadata": {},
   "source": [
    "# predict chart type from user query text\n",
    "\n",
    "\n",
    "## warning: this data is confidential.  do not push to public repo!\n",
    "\n"
   ]
  },
  {
   "cell_type": "code",
   "execution_count": 71,
   "metadata": {},
   "outputs": [],
   "source": [
    "# imports\n",
    "import json\n",
    "import requests\n",
    "import pandas as pd\n",
    "import re\n",
    "from sklearn.feature_extraction.text import CountVectorizer\n",
    "from sklearn.naive_bayes import MultinomialNB"
   ]
  },
  {
   "cell_type": "markdown",
   "metadata": {},
   "source": [
    "## parse json \n"
   ]
  },
  {
   "cell_type": "code",
   "execution_count": 3,
   "metadata": {},
   "outputs": [
    {
     "name": "stdout",
     "output_type": "stream",
     "text": [
      "/Users/devon/Documents/GitHub/Viz/notebooks\n"
     ]
    }
   ],
   "source": [
    "!pwd"
   ]
  },
  {
   "cell_type": "code",
   "execution_count": 13,
   "metadata": {},
   "outputs": [],
   "source": [
    "data_url = 'https://ichdv2ek6j.execute-api.us-west-2.amazonaws.com/api/clinical?user=63be793a-6e1b-40cd-9f70-49dd73f470ab'\n",
    "response = requests.get(data_url)\n",
    "data_string = response.text\n",
    "\n",
    "data = json.loads(data_string)\n",
    "df = pd.read_json(data_string)"
   ]
  },
  {
   "cell_type": "code",
   "execution_count": 15,
   "metadata": {},
   "outputs": [
    {
     "name": "stdout",
     "output_type": "stream",
     "text": [
      "<class 'pandas.core.frame.DataFrame'>\n",
      "RangeIndex: 141 entries, 0 to 140\n",
      "Data columns (total 13 columns):\n",
      " #   Column     Non-Null Count  Dtype \n",
      "---  ------     --------------  ----- \n",
      " 0   _id        141 non-null    object\n",
      " 1   phrase     141 non-null    object\n",
      " 2   analysis   141 non-null    object\n",
      " 3   status     141 non-null    object\n",
      " 4   cohorts    141 non-null    object\n",
      " 5   options    141 non-null    object\n",
      " 6   results    140 non-null    object\n",
      " 7   _type      141 non-null    object\n",
      " 8   created    141 non-null    object\n",
      " 9   user       141 non-null    object\n",
      " 10  execution  53 non-null     object\n",
      " 11  meta       109 non-null    object\n",
      " 12  substatus  10 non-null     object\n",
      "dtypes: object(13)\n",
      "memory usage: 14.4+ KB\n"
     ]
    }
   ],
   "source": [
    "df.info()"
   ]
  },
  {
   "cell_type": "code",
   "execution_count": 19,
   "metadata": {},
   "outputs": [
    {
     "data": {
      "text/plain": [
       "failed       62\n",
       "succeeded    51\n",
       "running      27\n",
       "RUNNING       1\n",
       "Name: status, dtype: int64"
      ]
     },
     "execution_count": 19,
     "metadata": {},
     "output_type": "execute_result"
    }
   ],
   "source": [
    "df['status'].value_counts()"
   ]
  },
  {
   "cell_type": "code",
   "execution_count": 25,
   "metadata": {},
   "outputs": [
    {
     "data": {
      "text/plain": [
       "58"
      ]
     },
     "execution_count": 25,
     "metadata": {},
     "output_type": "execute_result"
    }
   ],
   "source": [
    "phrases = df['phrase'].unique().tolist()\n",
    "len(phrases)"
   ]
  },
  {
   "cell_type": "code",
   "execution_count": 73,
   "metadata": {},
   "outputs": [
    {
     "data": {
      "text/plain": [
       "[{'name': 'summary',\n",
       "  'type': 'text',\n",
       "  'loading': False,\n",
       "  'data': \"<h1>Okay, it looks like you're searching for Characterization.</h1><p><b>Target patient cohort</b>: +[ patients > 20 years of age ] -[ diabetes ]</p>\"},\n",
       " {'name': 'Demographics Gender',\n",
       "  'type': 'table',\n",
       "  'data': [['sex', 'total', 'fraction'],\n",
       "   ['female', 438, 0.5201900237529691],\n",
       "   ['male', 404, 0.47980997624703003]],\n",
       "  'loading': False,\n",
       "  'suggestions': {}},\n",
       " {'name': 'Condition Era Short Term (condition_era during day -30 through 0 days relative to index)',\n",
       "  'type': 'table',\n",
       "  'data': [['condition', 'count', 'time_window'],\n",
       "   ['Degeneration of lumbosacral intervertebral disc', 9, 'Short Term'],\n",
       "   ['Chest pain', 22, 'Short Term'],\n",
       "   ['Osteoporosis', 14, 'Short Term'],\n",
       "   ['Urinary tract infectious disease', 21, 'Short Term'],\n",
       "   ['Pain in limb', 15, 'Short Term'],\n",
       "   ['Actinic keratosis', 10, 'Short Term'],\n",
       "   ['Hypothyroidism', 28, 'Short Term'],\n",
       "   ['Low back pain', 17, 'Short Term'],\n",
       "   ['Benign prostatic hypertrophy without outflow obstruction',\n",
       "    11,\n",
       "    'Short Term'],\n",
       "   ['Arthralgia of the lower leg', 9, 'Short Term'],\n",
       "   ['Onychomycosis due to dermatophyte', 15, 'Short Term'],\n",
       "   ['Cough', 11, 'Short Term'],\n",
       "   ['Chronic obstructive lung disease', 17, 'Short Term'],\n",
       "   ['Benign essential hypertension', 73, 'Short Term'],\n",
       "   ['Atrial fibrillation', 29, 'Short Term'],\n",
       "   ['Gastroesophageal reflux disease', 10, 'Short Term'],\n",
       "   ['Essential hypertension', 90, 'Short Term'],\n",
       "   ['Pure hypercholesterolemia', 34, 'Short Term'],\n",
       "   ['Hypokalemia', 9, 'Short Term'],\n",
       "   ['Nuclear senile cataract', 18, 'Short Term'],\n",
       "   ['Depressive disorder', 10, 'Short Term'],\n",
       "   ['Type 2 diabetes mellitus', 66, 'Short Term'],\n",
       "   ['Dyspnea', 16, 'Short Term'],\n",
       "   ['Conduction disorder of the heart', 9, 'Short Term'],\n",
       "   ['Coronary arteriosclerosis', 11, 'Short Term'],\n",
       "   ['Congestive heart failure', 20, 'Short Term'],\n",
       "   ['Peripheral vascular disease', 15, 'Short Term'],\n",
       "   ['Hyperlipidemia', 58, 'Short Term'],\n",
       "   ['Edema', 9, 'Short Term'],\n",
       "   ['Primary open angle glaucoma', 11, 'Short Term'],\n",
       "   ['Tobacco dependence syndrome', 10, 'Short Term'],\n",
       "   ['Mixed hyperlipidemia', 15, 'Short Term'],\n",
       "   ['Anemia', 25, 'Short Term'],\n",
       "   ['Pure hyperglyceridemia', 10, 'Short Term'],\n",
       "   ['Type II diabetes mellitus uncontrolled', 13, 'Short Term'],\n",
       "   ['Coronary arteriosclerosis in native artery', 21, 'Short Term']],\n",
       "  'loading': False,\n",
       "  'suggestions': {}},\n",
       " {'name': 'Demographics Index Year Month',\n",
       "  'type': 'table',\n",
       "  'data': [['month_and_year', 'total'],\n",
       "   ['02/2008', 152],\n",
       "   ['04/2008', 65],\n",
       "   ['08/2009', 9],\n",
       "   ['01/2008', 283],\n",
       "   ['02/2009', 9],\n",
       "   ['01/2009', 23],\n",
       "   ['03/2008', 112],\n",
       "   ['09/2008', 11],\n",
       "   ['03/2009', 10],\n",
       "   ['06/2008', 27],\n",
       "   ['12/2008', 9],\n",
       "   ['05/2008', 32],\n",
       "   ['08/2008', 14],\n",
       "   ['07/2008', 12],\n",
       "   ['06/2009', 13]],\n",
       "  'loading': False,\n",
       "  'suggestions': {}},\n",
       " {'name': 'Demographics Age',\n",
       "  'type': 'table',\n",
       "  'data': [['total', 'avg_age', 'std_dev', 'min', 'max'],\n",
       "   [842.0, 72.28859857482183, 12.609984139561794, 26.0, 99.0]],\n",
       "  'loading': False,\n",
       "  'suggestions': {}},\n",
       " {'name': 'Observation Short Term (observation during day -30 through 0 days relative to index)',\n",
       "  'type': 'table',\n",
       "  'data': [['month_and_year', 'total', 'time_window'],\n",
       "   ['Malaise and fatigue', 25, 'Short Term'],\n",
       "   ['High risk drug monitoring status', 18, 'Short Term'],\n",
       "   ['Vaccination required', 12, 'Short Term'],\n",
       "   ['History of clinical finding in subject', 23, 'Short Term'],\n",
       "   ['Ground mileage, per statute mile', 9, 'Short Term'],\n",
       "   ['Syncope and collapse', 9, 'Short Term']],\n",
       "  'loading': False,\n",
       "  'suggestions': {}},\n",
       " {'name': 'Observation Long Term',\n",
       "  'type': 'table',\n",
       "  'data': [['month_and_year', 'total', 'time_window'],\n",
       "   ['Malaise and fatigue', 25, 'Long Term'],\n",
       "   ['High risk drug monitoring status', 18, 'Long Term'],\n",
       "   ['Vaccination required', 12, 'Long Term'],\n",
       "   ['History of clinical finding in subject', 23, 'Long Term'],\n",
       "   ['Ground mileage, per statute mile', 9, 'Long Term'],\n",
       "   ['Syncope and collapse', 9, 'Long Term']],\n",
       "  'loading': False,\n",
       "  'suggestions': {}},\n",
       " {'name': 'Observation Medium Term (observation during day -180 through 0 days relative to index)',\n",
       "  'type': 'table',\n",
       "  'data': [['month_and_year', 'total', 'time_window'],\n",
       "   ['Malaise and fatigue', 25, 'Medium Term'],\n",
       "   ['High risk drug monitoring status', 18, 'Medium Term'],\n",
       "   ['Vaccination required', 12, 'Medium Term'],\n",
       "   ['History of clinical finding in subject', 23, 'Medium Term'],\n",
       "   ['Ground mileage, per statute mile', 9, 'Medium Term'],\n",
       "   ['Syncope and collapse', 9, 'Medium Term']],\n",
       "  'loading': False,\n",
       "  'suggestions': {}},\n",
       " {'name': 'Drug Era Long Term (drug_era during day -365 through 0 days relative to index)',\n",
       "  'type': 'table',\n",
       "  'data': [['drug', 'total', 'time_window'],\n",
       "   ['Trazodone', 19, 'Long Term'],\n",
       "   ['Methocarbamol', 11, 'Long Term'],\n",
       "   ['Amitriptyline', 30, 'Long Term'],\n",
       "   ['Nortriptyline', 9, 'Long Term'],\n",
       "   ['Diazepam', 15, 'Long Term'],\n",
       "   ['Phenobarbital', 9, 'Long Term'],\n",
       "   ['Sertraline', 13, 'Long Term'],\n",
       "   ['Carisoprodol', 9, 'Long Term'],\n",
       "   ['cyclobenzaprine', 11, 'Long Term'],\n",
       "   ['gabapentin', 9, 'Long Term'],\n",
       "   ['Citalopram', 10, 'Long Term'],\n",
       "   ['Temazepam', 9, 'Long Term'],\n",
       "   ['Timolol', 13, 'Long Term'],\n",
       "   ['Esomeprazole', 9, 'Long Term'],\n",
       "   ['Pilocarpine', 11, 'Long Term'],\n",
       "   ['pantoprazole', 9, 'Long Term'],\n",
       "   ['Furosemide', 39, 'Long Term'],\n",
       "   ['Hydrochlorothiazide', 84, 'Long Term'],\n",
       "   ['Hydrocortisone', 14, 'Long Term'],\n",
       "   ['Chlorothiazide', 10, 'Long Term'],\n",
       "   ['Meclizine', 10, 'Long Term'],\n",
       "   ['Tramadol', 11, 'Long Term'],\n",
       "   ['Aspirin', 28, 'Long Term'],\n",
       "   ['Naproxen', 14, 'Long Term'],\n",
       "   ['Oxycodone', 13, 'Long Term'],\n",
       "   ['Acetaminophen', 79, 'Long Term'],\n",
       "   ['Diphenhydramine', 16, 'Long Term'],\n",
       "   ['Albuterol', 20, 'Long Term'],\n",
       "   ['Guaifenesin', 18, 'Long Term'],\n",
       "   ['Hydrocodone', 25, 'Long Term'],\n",
       "   ['Codeine', 26, 'Long Term'],\n",
       "   ['Theophylline', 33, 'Long Term'],\n",
       "   ['Methyldopa', 9, 'Long Term'],\n",
       "   ['Verapamil', 25, 'Long Term'],\n",
       "   ['Lisinopril', 65, 'Long Term'],\n",
       "   ['Atenolol', 33, 'Long Term'],\n",
       "   ['Digoxin', 18, 'Long Term'],\n",
       "   ['Diltiazem', 30, 'Long Term'],\n",
       "   ['quinapril', 11, 'Long Term'],\n",
       "   ['Dipyridamole', 33, 'Long Term'],\n",
       "   ['Ramipril', 10, 'Long Term'],\n",
       "   ['Bisoprolol', 10, 'Long Term'],\n",
       "   ['Captopril', 38, 'Long Term'],\n",
       "   ['carvedilol', 20, 'Long Term'],\n",
       "   ['Prazosin', 16, 'Long Term'],\n",
       "   ['Propranolol', 55, 'Long Term'],\n",
       "   ['Losartan', 15, 'Long Term'],\n",
       "   ['Hydralazine', 10, 'Long Term'],\n",
       "   ['Labetalol', 19, 'Long Term'],\n",
       "   ['thyroid (USP)', 16, 'Long Term'],\n",
       "   ['rosuvastatin', 9, 'Long Term'],\n",
       "   ['Dexamethasone', 12, 'Long Term'],\n",
       "   ['Paroxetine', 12, 'Long Term'],\n",
       "   ['Perphenazine', 13, 'Long Term'],\n",
       "   ['Risperidone', 9, 'Long Term'],\n",
       "   ['Doxepin', 14, 'Long Term'],\n",
       "   ['venlafaxine', 11, 'Long Term'],\n",
       "   ['Bupropion', 21, 'Long Term'],\n",
       "   ['Fluoxetine', 13, 'Long Term'],\n",
       "   ['Hydroxyzine', 13, 'Long Term'],\n",
       "   ['tizanidine', 10, 'Long Term'],\n",
       "   ['Alprazolam', 10, 'Long Term'],\n",
       "   ['Lorazepam', 13, 'Long Term'],\n",
       "   ['Triamcinolone', 18, 'Long Term'],\n",
       "   ['Triamterene', 25, 'Long Term'],\n",
       "   ['Omeprazole', 32, 'Long Term'],\n",
       "   ['lansoprazole', 15, 'Long Term'],\n",
       "   ['Ranitidine', 10, 'Long Term'],\n",
       "   ['Sulfasalazine', 18, 'Long Term'],\n",
       "   ['Simethicone', 10, 'Long Term'],\n",
       "   ['Sodium Chloride', 11, 'Long Term'],\n",
       "   ['Spironolactone', 16, 'Long Term'],\n",
       "   ['Cimetidine', 12, 'Long Term'],\n",
       "   ['Aminophylline', 10, 'Long Term'],\n",
       "   ['Morphine', 15, 'Long Term'],\n",
       "   ['Dextromethorphan', 10, 'Long Term'],\n",
       "   ['Diclofenac', 11, 'Long Term'],\n",
       "   ['Caffeine', 20, 'Long Term'],\n",
       "   ['Phenylephrine', 13, 'Long Term'],\n",
       "   ['butalbital', 17, 'Long Term'],\n",
       "   ['Propoxyphene', 15, 'Long Term'],\n",
       "   ['Pseudoephedrine', 21, 'Long Term'],\n",
       "   ['Allopurinol', 9, 'Long Term'],\n",
       "   ['Ibuprofen', 21, 'Long Term'],\n",
       "   ['Metoprolol', 39, 'Long Term'],\n",
       "   ['valsartan', 22, 'Long Term'],\n",
       "   ['Warfarin', 26, 'Long Term'],\n",
       "   ['Nifedipine', 30, 'Long Term'],\n",
       "   ['Amlodipine', 31, 'Long Term'],\n",
       "   ['benazepril', 28, 'Long Term'],\n",
       "   ['Terazosin', 22, 'Long Term'],\n",
       "   ['Enalapril', 43, 'Long Term'],\n",
       "   ['Nitroglycerin', 10, 'Long Term'],\n",
       "   ['Reserpine', 13, 'Long Term'],\n",
       "   ['Doxazosin', 13, 'Long Term'],\n",
       "   ['Fosinopril', 9, 'Long Term'],\n",
       "   ['Sotalol', 12, 'Long Term'],\n",
       "   ['Isosorbide Dinitrate', 15, 'Long Term'],\n",
       "   ['Chlorthalidone', 18, 'Long Term'],\n",
       "   ['Clonidine', 13, 'Long Term'],\n",
       "   ['levothyroxine', 66, 'Long Term'],\n",
       "   ['Metformin', 43, 'Long Term'],\n",
       "   ['Methylprednisolone', 13, 'Long Term'],\n",
       "   ['pioglitazone', 9, 'Long Term'],\n",
       "   ['Simvastatin', 64, 'Long Term'],\n",
       "   ['atorvastatin', 42, 'Long Term'],\n",
       "   ['prednisolone', 10, 'Long Term'],\n",
       "   ['Fenofibrate', 14, 'Long Term'],\n",
       "   ['Gemfibrozil', 14, 'Long Term'],\n",
       "   ['Glipizide', 29, 'Long Term'],\n",
       "   ['Lovastatin', 49, 'Long Term'],\n",
       "   ['Metronidazole', 12, 'Long Term'],\n",
       "   ['Amoxicillin', 23, 'Long Term'],\n",
       "   ['Ciprofloxacin', 16, 'Long Term'],\n",
       "   ['heparin, porcine', 22, 'Long Term'],\n",
       "   ['Cholestyramine Resin', 16, 'Long Term'],\n",
       "   ['olmesartan', 20, 'Long Term'],\n",
       "   ['ezetimibe', 9, 'Long Term'],\n",
       "   ['Pravastatin', 28, 'Long Term'],\n",
       "   ['Alendronate', 10, 'Long Term'],\n",
       "   ['Glyburide', 24, 'Long Term'],\n",
       "   ['glimepiride', 11, 'Long Term'],\n",
       "   ['Ampicillin', 10, 'Long Term'],\n",
       "   ['Oxygen', 51, 'Long Term'],\n",
       "   ['Potassium Chloride', 17, 'Long Term']],\n",
       "  'loading': False,\n",
       "  'suggestions': {}}]"
      ]
     },
     "execution_count": 73,
     "metadata": {},
     "output_type": "execute_result"
    }
   ],
   "source": [
    "df['results'][0]"
   ]
  },
  {
   "cell_type": "code",
   "execution_count": null,
   "metadata": {},
   "outputs": [],
   "source": [
    "for result in results:\n",
    "   "
   ]
  },
  {
   "cell_type": "code",
   "execution_count": 38,
   "metadata": {},
   "outputs": [],
   "source": [
    "result0 = results[0]\n",
    "q_outputs = []\n",
    "for i in result0:\n",
    "    outputs.append(i.get('type'))"
   ]
  },
  {
   "cell_type": "code",
   "execution_count": 95,
   "metadata": {},
   "outputs": [],
   "source": [
    "def get_charts(row):\n",
    "    for result in results:\n",
    "        charts = [ sub['type'] for sub in result0 ]\n",
    "    return charts"
   ]
  },
  {
   "cell_type": "code",
   "execution_count": 96,
   "metadata": {},
   "outputs": [],
   "source": [
    "df['charts'] = df['results'].apply(get_charts)"
   ]
  },
  {
   "cell_type": "code",
   "execution_count": 115,
   "metadata": {},
   "outputs": [
    {
     "ename": "TypeError",
     "evalue": "unhashable type: 'list'",
     "output_type": "error",
     "traceback": [
      "\u001b[0;31m---------------------------------------------------------------------------\u001b[0m",
      "\u001b[0;31mTypeError\u001b[0m                                 Traceback (most recent call last)",
      "\u001b[0;32mpandas/_libs/hashtable_class_helper.pxi\u001b[0m in \u001b[0;36mpandas._libs.hashtable.PyObjectHashTable.map_locations\u001b[0;34m()\u001b[0m\n",
      "\u001b[0;31mTypeError\u001b[0m: unhashable type: 'list'"
     ]
    },
    {
     "name": "stderr",
     "output_type": "stream",
     "text": [
      "Exception ignored in: 'pandas._libs.index.IndexEngine._call_map_locations'\n",
      "Traceback (most recent call last):\n",
      "  File \"pandas/_libs/hashtable_class_helper.pxi\", line 1652, in pandas._libs.hashtable.PyObjectHashTable.map_locations\n",
      "TypeError: unhashable type: 'list'\n"
     ]
    },
    {
     "data": {
      "text/plain": [
       "[text, table, table, table, table, table, table, table, table]    141\n",
       "Name: charts, dtype: int64"
      ]
     },
     "execution_count": 115,
     "metadata": {},
     "output_type": "execute_result"
    }
   ],
   "source": []
  },
  {
   "cell_type": "code",
   "execution_count": 50,
   "metadata": {},
   "outputs": [
    {
     "ename": "TypeError",
     "evalue": "list indices must be integers or slices, not str",
     "output_type": "error",
     "traceback": [
      "\u001b[0;31m---------------------------------------------------------------------------\u001b[0m",
      "\u001b[0;31mTypeError\u001b[0m                                 Traceback (most recent call last)",
      "\u001b[0;32m<ipython-input-50-1b535bf90af2>\u001b[0m in \u001b[0;36m<module>\u001b[0;34m\u001b[0m\n\u001b[0;32m----> 1\u001b[0;31m \u001b[0mdf\u001b[0m\u001b[0;34m[\u001b[0m\u001b[0;34m'charts'\u001b[0m\u001b[0;34m]\u001b[0m \u001b[0;34m=\u001b[0m \u001b[0;34m[\u001b[0m \u001b[0msub\u001b[0m\u001b[0;34m[\u001b[0m\u001b[0;34m'type'\u001b[0m\u001b[0;34m]\u001b[0m \u001b[0;32mfor\u001b[0m \u001b[0msub\u001b[0m \u001b[0;32min\u001b[0m \u001b[0mresults\u001b[0m \u001b[0;34m]\u001b[0m\u001b[0;34m\u001b[0m\u001b[0;34m\u001b[0m\u001b[0m\n\u001b[0m",
      "\u001b[0;32m<ipython-input-50-1b535bf90af2>\u001b[0m in \u001b[0;36m<listcomp>\u001b[0;34m(.0)\u001b[0m\n\u001b[0;32m----> 1\u001b[0;31m \u001b[0mdf\u001b[0m\u001b[0;34m[\u001b[0m\u001b[0;34m'charts'\u001b[0m\u001b[0;34m]\u001b[0m \u001b[0;34m=\u001b[0m \u001b[0;34m[\u001b[0m \u001b[0msub\u001b[0m\u001b[0;34m[\u001b[0m\u001b[0;34m'type'\u001b[0m\u001b[0;34m]\u001b[0m \u001b[0;32mfor\u001b[0m \u001b[0msub\u001b[0m \u001b[0;32min\u001b[0m \u001b[0mresults\u001b[0m \u001b[0;34m]\u001b[0m\u001b[0;34m\u001b[0m\u001b[0;34m\u001b[0m\u001b[0m\n\u001b[0m",
      "\u001b[0;31mTypeError\u001b[0m: list indices must be integers or slices, not str"
     ]
    }
   ],
   "source": []
  },
  {
   "cell_type": "code",
   "execution_count": 26,
   "metadata": {},
   "outputs": [
    {
     "data": {
      "text/plain": [
       "['what are the characteristics associated with patients taking remdesivir',\n",
       " 'show me treatment pathways for patients with diabetes',\n",
       " 'show me incident rates for patients without cervical cancer',\n",
       " 'pathway',\n",
       " 'pathways',\n",
       " 'characteristics',\n",
       " 'show me characteristics for patients with diabetes',\n",
       " 'Has been on hormone replacement therapy for several years, menopausal for 10 years.  Has breast tenderness and spotting a couple of times a year.  What can I do to lessen her symptoms related to hormone replacement therapy?',\n",
       " 'sdgwdsf',\n",
       " 'How can hydroxychloroquine be administered without causing vomiting or creating arrhythmia risk? ',\n",
       " 'Does hydroxychloroquine, remdesivir, or a hydroxychloroquine-remdesivir combination produce better outcomes in patients with covid-19?',\n",
       " 'asfdsda',\n",
       " 'fgsdfg',\n",
       " 'What is the differential diagnosis of COVID-19?',\n",
       " 'Is there injectable medication for motion sickness?',\n",
       " 'Is weight loss a side effect of any antidepressant, and if so, which ones?',\n",
       " 'what exactly is the function of a rubber duck',\n",
       " 'What is the evidence for Zoloft as a cause of chest pain?',\n",
       " 'Is passage of a mucous plug predictive of how soon the patient will deliver?',\n",
       " 'What is the best way to determine whether dyspnea is due to an organic cause or anxiety?',\n",
       " 'what are the characteristics associated with patients taking hydroxychloroquine',\n",
       " 'Is remdesivir or hydroxychloroquine indicated in patients with coronavirus?',\n",
       " 'What is the best way to determine whether the recent onset of dyspnea in a patient with chronic congestive heart failure is due to the heart failure or something else?',\n",
       " '76-year-old woman with dyspnea for 3 to 4 days.  History of congestive heart failure.  On digoxin and Accupril.  Lungs clear.  Is there something else going on besides congestive heart failure?',\n",
       " 'In a patient with a history of rheumatic fever, do you need to use subacute bacterial endocarditis prophylaxis for pilonidal cyst excision?',\n",
       " 'which patient subpopulation is most at risk for mortality for COVID-19',\n",
       " 'what are the characteristics for patients with prostate cancer but not acute renal faiilure?',\n",
       " 'patients over 30 with acute renal faiilure',\n",
       " 'testicles',\n",
       " 'testicular cancer and over 20',\n",
       " 'What are the characteristics associated with elderly patients with cancer who dont take remdesivir?',\n",
       " 'show me treatment pathways for patients with cancer',\n",
       " 'show me incidence rates for patients without cervical cancer',\n",
       " 'what are the characteristics of patients over 69 wo have taken remdesivir and have cancer?',\n",
       " 'What are the most common treatments prescribed for patients with COPD over 65?',\n",
       " 'What are the most common COPD treatments for patients over 65 years old',\n",
       " 'what are the most common heart disease medications for patients over 65 years old',\n",
       " 'what are the most common treatments for people with COPD',\n",
       " 'show me the',\n",
       " 'asjkdfkasjdfasdflk',\n",
       " 'hey now',\n",
       " 'treatments for patients with cancer and under 40 years of age',\n",
       " 'patients with cancer',\n",
       " 'spoon',\n",
       " 'testicular cancer and under 43',\n",
       " 'what are the characteristics of patients taking remdesivir vs hydrochloroquine?',\n",
       " 'what percentage of patients in the population have COVID-19 or respiratory disease?',\n",
       " 'what are the characteristics of patients taking remdesivir vs hydrochloroquine ?',\n",
       " 'how many patients have prostate cancer?',\n",
       " 'What types of patients take hydroxychloroquine',\n",
       " 'Test-query',\n",
       " 'swine flu',\n",
       " 'computer, boot up celerey man',\n",
       " 'computer, boot up celerey',\n",
       " 'Show me treatment pathways for patients with influenza',\n",
       " 'computer, boot up celery man',\n",
       " 'something is quite strange here',\n",
       " 'what are the characteristics associated with patients taking aspirin']"
      ]
     },
     "execution_count": 26,
     "metadata": {},
     "output_type": "execute_result"
    }
   ],
   "source": [
    "phrases"
   ]
  },
  {
   "cell_type": "code",
   "execution_count": 68,
   "metadata": {},
   "outputs": [],
   "source": [
    "# clean and extract words from phrases\n",
    "stop_words = ['a', \"the\", \"is\", \"are\"]\n",
    "# note: with more data, we'll want to replace stop words with document frequency min and max or TfidfTransformer\n",
    "# and before that, we'll try ngram_range=(1,2) to also include bigrams\n",
    "cv = CountVectorizer(stop_words=stop_words)\n",
    "count_vector=cv.fit_transform(phrases)"
   ]
  },
  {
   "cell_type": "code",
   "execution_count": 69,
   "metadata": {},
   "outputs": [
    {
     "data": {
      "text/plain": [
       "<58x204 sparse matrix of type '<class 'numpy.int64'>'\n",
       "\twith 451 stored elements in Compressed Sparse Row format>"
      ]
     },
     "execution_count": 69,
     "metadata": {},
     "output_type": "execute_result"
    }
   ],
   "source": [
    "count_vector"
   ]
  },
  {
   "cell_type": "code",
   "execution_count": 70,
   "metadata": {},
   "outputs": [
    {
     "data": {
      "text/plain": [
       "['a', 'the', 'is', 'are']"
      ]
     },
     "execution_count": 70,
     "metadata": {},
     "output_type": "execute_result"
    }
   ],
   "source": [
    "cv.stop_words"
   ]
  },
  {
   "cell_type": "code",
   "execution_count": null,
   "metadata": {},
   "outputs": [],
   "source": [
    "clf = MultinomialNB().fit(count_vector, df.chart_type)"
   ]
  },
  {
   "cell_type": "code",
   "execution_count": null,
   "metadata": {},
   "outputs": [],
   "source": [
    "clf = MultinomialNB().fit(X_train_tfidf, twenty_train.target)"
   ]
  },
  {
   "cell_type": "code",
   "execution_count": 62,
   "metadata": {},
   "outputs": [],
   "source": [
    "# clean and extract words frpm phrases\n",
    "ignore_words = ['a', \"the\", \"is\", \"are\"]\n",
    "\n",
    "def word_extraction(phrase):        \n",
    "    words = re.sub(\"[^\\w]\", \" \",  phrase).split()    \n",
    "    cleaned_text = [w.lower() for w in words if w not in ignore_words]    \n",
    "    return cleaned_text\n",
    "\n",
    "from sklearn.feature_extraction.text import CountVectorizer\n",
    "count_vect = CountVectorizer()\n",
    "X_train_counts = count_vect.fit_transform(twenty_train.data)\n",
    "X_train_counts.shape"
   ]
  },
  {
   "cell_type": "code",
   "execution_count": 63,
   "metadata": {},
   "outputs": [
    {
     "data": {
      "text/plain": [
       "['what',\n",
       " 'characteristics',\n",
       " 'associated',\n",
       " 'with',\n",
       " 'patients',\n",
       " 'taking',\n",
       " 'remdesivir']"
      ]
     },
     "execution_count": 63,
     "metadata": {},
     "output_type": "execute_result"
    }
   ],
   "source": [
    "word_extraction(phrases[0])"
   ]
  },
  {
   "cell_type": "code",
   "execution_count": null,
   "metadata": {},
   "outputs": [],
   "source": []
  }
 ],
 "metadata": {
  "kernelspec": {
   "display_name": "Python 3",
   "language": "python",
   "name": "python3"
  },
  "language_info": {
   "codemirror_mode": {
    "name": "ipython",
    "version": 3
   },
   "file_extension": ".py",
   "mimetype": "text/x-python",
   "name": "python",
   "nbconvert_exporter": "python",
   "pygments_lexer": "ipython3",
   "version": "3.7.6"
  }
 },
 "nbformat": 4,
 "nbformat_minor": 4
}
