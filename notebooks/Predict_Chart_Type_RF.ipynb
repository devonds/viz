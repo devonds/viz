{
 "cells": [
  {
   "cell_type": "markdown",
   "metadata": {},
   "source": [
    "# predict chart type with a random forest classifier\n",
    "The Plotly Community Feed has more than a million user-generated charts, many of which include data.  I want to use this data to train a model to predict the kinds of design decisions that a human data analyst would make when looking at a table of data:\n",
    "- What kind of chart to draw?\n",
    "- What goes on the x axis?\n",
    "- What goes on the y axis? \n",
    "- Are any transforms necisary? \n",
    "\n",
    "Conveniently, the precident project vizML has packeged up data from the plotly community feed, along with a package of attributes they calculated from cleaned and de-duplicated data.  As a shortcut, I'll start with their processed attributes. Later, we can go back and collect new data from the plotly community feed to add more information about new types of data -- particularly, about chart types good for visualizing genomic data, like a circos plot.  "
   ]
  },
  {
   "cell_type": "markdown",
   "metadata": {},
   "source": [
    "### Dependencies"
   ]
  },
  {
   "cell_type": "code",
   "execution_count": 65,
   "metadata": {},
   "outputs": [],
   "source": [
    "import pandas as pd\n",
    "import numpy as np\n",
    "import matplotlib.pyplot as plt\n",
    "import seaborn as sns\n",
    "import itertools\n",
    "from sklearn.model_selection import train_test_split\n",
    "from sklearn.ensemble import RandomForestClassifier\n",
    "from sklearn.metrics import confusion_matrix, accuracy_score, precision_score, recall_score, f1_score, roc_auc_score\n",
    "from imblearn.over_sampling import SMOTE\n",
    "import os\n",
    "from os.path import join\n",
    "import sys\n",
    "base_path = os.path.abspath(os.path.join('..'))\n",
    "if base_path not in sys.path:\n",
    "    sys.path.append(base_path)\n"
   ]
  },
  {
   "cell_type": "markdown",
   "metadata": {},
   "source": [
    "### Load Data\n",
    "This data is created from vizML's features data using the notebook \"Load and Clean Plotly Data\".\n",
    "Start there, or download features_with_9_chart_type_labels_888k.csv here (still waiting for it to upload, link coming soon)"
   ]
  },
  {
   "cell_type": "code",
   "execution_count": 12,
   "metadata": {},
   "outputs": [
    {
     "name": "stdout",
     "output_type": "stream",
     "text": [
      "<class 'pandas.core.frame.DataFrame'>\n",
      "RangeIndex: 888484 entries, 0 to 888483\n",
      "Columns: 849 entries, Unnamed: 0 to labels\n",
      "dtypes: bool(120), float64(726), int64(1), object(2)\n",
      "memory usage: 4.9+ GB\n"
     ]
    }
   ],
   "source": [
    "data_dir_name = '../data'\n",
    "data_file_name = 'features_with_chart_type_labels_888k.csv'\n",
    "df_full = pd.read_csv(os.path.join(data_dir_name, data_file_name))\n",
    "df_full.info()\n",
    "# df = df_full # uncomment this one to run everything on the full data set of 888k+ charts"
   ]
  },
  {
   "cell_type": "code",
   "execution_count": 13,
   "metadata": {},
   "outputs": [],
   "source": [
    "# take a random subset of data to be able to make and run models on my laptop\n",
    "# later, skip this step and run df=df_full to run model on full data set\n",
    "\n",
    "# create a series of weights corresponding to the frequency of each label in the data\n",
    "label_weights = df_full.groupby('labels')['labels'].transform('count')\n",
    "# create random sample \n",
    "subset_size = 10000\n",
    "RANDOM_STATE = 42\n",
    "df = df_full.sample(n=subset_size, replace=False, weights=label_weights, random_state=RANDOM_STATE)"
   ]
  },
  {
   "cell_type": "code",
   "execution_count": 14,
   "metadata": {},
   "outputs": [],
   "source": [
    "# features data frame without ids or chart type labels\n",
    "features = df.iloc[:,2:]\n",
    "features.drop('labels', axis=1, inplace=True)\n",
    "# one-hot encode labels\n",
    "labels = pd.get_dummies(df['labels'])\n",
    "# save a list of column labels for later\n",
    "chart_names = labels.columns\n",
    "# labels.head() # take a peek at one-hot encoded labels"
   ]
  },
  {
   "cell_type": "code",
   "execution_count": 15,
   "metadata": {},
   "outputs": [
    {
     "name": "stdout",
     "output_type": "stream",
     "text": [
      "(8500, 846) (1500, 846)\n"
     ]
    }
   ],
   "source": [
    "# split train and test data\n",
    "X_train, X_test, y_train, y_test = train_test_split(features, labels, test_size=.15)\n",
    "print(X_train.shape, X_test.shape) # to make sure they are what we expect"
   ]
  },
  {
   "cell_type": "code",
   "execution_count": null,
   "metadata": {},
   "outputs": [],
   "source": [
    "# SMOTE - Synthetic Minority Oversampling Technique\n",
    "# to balance dataset\n",
    "sm = SMOTE(ratio = \"minority\" , random_state = 42)\n",
    "X_sm, y_sm = sm.fit_sample(X_train, y_train)"
   ]
  },
  {
   "cell_type": "markdown",
   "metadata": {},
   "source": [
    "### Tune model hyperparameters\n",
    "find optimal hyperparameters using a gridsearch"
   ]
  },
  {
   "cell_type": "code",
   "execution_count": 22,
   "metadata": {},
   "outputs": [],
   "source": [
    "from sklearn.model_selection import GridSearchCV\n",
    "# Create the parameter grid based on the results of random search \n",
    "param_grid = {\n",
    "    'bootstrap': [True],\n",
    "    'max_features': ['sqrt', 'log2'],\n",
    "    'min_samples_split': [2, 4, 8],\n",
    "    'n_estimators': [300, 400, 500, 600]\n",
    "}\n",
    "\n",
    "# Create a base model to tune\n",
    "rf = RandomForestClassifier()\n",
    "# Instantiate the grid search model\n",
    "grid_search = GridSearchCV(estimator = rf, param_grid = param_grid, \n",
    "                          cv = 3, n_jobs = -1, verbose = 2)\n",
    "# this should train a 1*2*4*3 = 24 variations on the model; fitting 3 stratifold folds for each\n",
    "# "
   ]
  },
  {
   "cell_type": "code",
   "execution_count": 23,
   "metadata": {},
   "outputs": [
    {
     "name": "stdout",
     "output_type": "stream",
     "text": [
      "Fitting 3 folds for each of 24 candidates, totalling 72 fits\n"
     ]
    },
    {
     "name": "stderr",
     "output_type": "stream",
     "text": [
      "[Parallel(n_jobs=-1)]: Using backend LokyBackend with 8 concurrent workers.\n",
      "[Parallel(n_jobs=-1)]: Done  25 tasks      | elapsed:  3.3min\n",
      "[Parallel(n_jobs=-1)]: Done  72 out of  72 | elapsed:  6.2min finished\n"
     ]
    },
    {
     "data": {
      "text/plain": [
       "{'bootstrap': True,\n",
       " 'max_features': 'sqrt',\n",
       " 'min_samples_split': 2,\n",
       " 'n_estimators': 400}"
      ]
     },
     "execution_count": 23,
     "metadata": {},
     "output_type": "execute_result"
    }
   ],
   "source": [
    "# Fit the grid search to the data\n",
    "grid_search.fit(X_train, y_train)\n",
    "\n",
    "print(grid_search.best_params_)"
   ]
  },
  {
   "cell_type": "code",
   "execution_count": 28,
   "metadata": {},
   "outputs": [
    {
     "data": {
      "text/plain": [
       "RandomForestClassifier(bootstrap=True, ccp_alpha=0.0, class_weight=None,\n",
       "                       criterion='gini', max_depth=None, max_features='sqrt',\n",
       "                       max_leaf_nodes=None, max_samples=None,\n",
       "                       min_impurity_decrease=0.0, min_impurity_split=None,\n",
       "                       min_samples_leaf=1, min_samples_split=2,\n",
       "                       min_weight_fraction_leaf=0.0, n_estimators=400,\n",
       "                       n_jobs=None, oob_score=False, random_state=None,\n",
       "                       verbose=0, warm_start=False)"
      ]
     },
     "execution_count": 28,
     "metadata": {},
     "output_type": "execute_result"
    }
   ],
   "source": [
    "best_estimator = grid_search.best_estimator_"
   ]
  },
  {
   "cell_type": "markdown",
   "metadata": {},
   "source": [
    "### Define and Train Best Model"
   ]
  },
  {
   "cell_type": "code",
   "execution_count": 30,
   "metadata": {},
   "outputs": [
    {
     "data": {
      "text/plain": [
       "RandomForestClassifier(bootstrap=True, ccp_alpha=0.0, class_weight=None,\n",
       "                       criterion='gini', max_depth=None, max_features='sqrt',\n",
       "                       max_leaf_nodes=None, max_samples=None,\n",
       "                       min_impurity_decrease=0.0, min_impurity_split=None,\n",
       "                       min_samples_leaf=1, min_samples_split=2,\n",
       "                       min_weight_fraction_leaf=0.0, n_estimators=400,\n",
       "                       n_jobs=None, oob_score=False, random_state=None,\n",
       "                       verbose=0, warm_start=False)"
      ]
     },
     "execution_count": 30,
     "metadata": {},
     "output_type": "execute_result"
    }
   ],
   "source": [
    "model = best_estimator\n",
    "# Fit on training data\n",
    "model.fit(X_train, y_train)"
   ]
  },
  {
   "cell_type": "code",
   "execution_count": 32,
   "metadata": {},
   "outputs": [],
   "source": [
    "# predictions \n",
    "y_pred = model.predict(X_test)\n",
    "# Probabilities for each class\n",
    "probs = model.predict_proba(X_test)\n",
    "# predicitons as a data frame with chart labels\n",
    "preds = pd.DataFrame(y_pred)\n",
    "chart_names = labels.columns.tolist()\n",
    "preds.columns = chart_names"
   ]
  },
  {
   "cell_type": "markdown",
   "metadata": {},
   "source": [
    "## Model Performance"
   ]
  },
  {
   "cell_type": "code",
   "execution_count": null,
   "metadata": {},
   "outputs": [],
   "source": []
  },
  {
   "cell_type": "code",
   "execution_count": 46,
   "metadata": {},
   "outputs": [
    {
     "name": "stdout",
     "output_type": "stream",
     "text": [
      "Accuracy: 0.74\n",
      "\n",
      "Micro Precision: 0.86\n",
      "Micro Recall: 0.74\n",
      "Micro F1-score: 0.80\n",
      "\n",
      "Macro Precision: 0.80\n",
      "Macro Recall: 0.44\n",
      "Macro F1-score: 0.55\n",
      "\n",
      "Weighted Precision: 0.86\n",
      "Weighted Recall: 0.74\n",
      "Weighted F1-score: 0.79\n",
      "\n",
      "Classification Report\n",
      "\n",
      "              precision    recall  f1-score   support\n",
      "\n",
      "         bar       0.93      0.39      0.55       103\n",
      "         box       1.00      0.53      0.69        19\n",
      "     heatmap       0.00      0.00      0.00         0\n",
      "   histogram       1.00      0.20      0.33         5\n",
      "        line       0.89      0.84      0.86       889\n",
      "         pie       1.00      0.50      0.67         2\n",
      "     scatter       0.81      0.65      0.72       482\n",
      "\n",
      "   micro avg       0.86      0.74      0.80      1500\n",
      "   macro avg       0.80      0.44      0.55      1500\n",
      "weighted avg       0.86      0.74      0.79      1500\n",
      " samples avg       0.74      0.74      0.74      1500\n",
      "\n"
     ]
    },
    {
     "name": "stderr",
     "output_type": "stream",
     "text": [
      "/Users/devon/opt/anaconda3/lib/python3.7/site-packages/sklearn/metrics/_classification.py:1272: UndefinedMetricWarning: Precision is ill-defined and being set to 0.0 in labels with no predicted samples. Use `zero_division` parameter to control this behavior.\n",
      "  _warn_prf(average, modifier, msg_start, len(result))\n",
      "/Users/devon/opt/anaconda3/lib/python3.7/site-packages/sklearn/metrics/_classification.py:1272: UndefinedMetricWarning: Recall is ill-defined and being set to 0.0 in labels with no true samples. Use `zero_division` parameter to control this behavior.\n",
      "  _warn_prf(average, modifier, msg_start, len(result))\n",
      "/Users/devon/opt/anaconda3/lib/python3.7/site-packages/sklearn/metrics/_classification.py:1515: UndefinedMetricWarning: F-score is ill-defined and being set to 0.0 in labels with no true nor predicted samples. Use `zero_division` parameter to control this behavior.\n",
      "  average, \"true nor predicted\", 'F-score is', len(true_sum)\n",
      "/Users/devon/opt/anaconda3/lib/python3.7/site-packages/sklearn/metrics/_classification.py:1272: UndefinedMetricWarning: Precision and F-score are ill-defined and being set to 0.0 in labels with no predicted samples. Use `zero_division` parameter to control this behavior.\n",
      "  _warn_prf(average, modifier, msg_start, len(result))\n",
      "/Users/devon/opt/anaconda3/lib/python3.7/site-packages/sklearn/metrics/_classification.py:1272: UndefinedMetricWarning: Recall and F-score are ill-defined and being set to 0.0 in labels with no true samples. Use `zero_division` parameter to control this behavior.\n",
      "  _warn_prf(average, modifier, msg_start, len(result))\n",
      "/Users/devon/opt/anaconda3/lib/python3.7/site-packages/sklearn/metrics/_classification.py:1272: UndefinedMetricWarning: Precision and F-score are ill-defined and being set to 0.0 in samples with no predicted labels. Use `zero_division` parameter to control this behavior.\n",
      "  _warn_prf(average, modifier, msg_start, len(result))\n"
     ]
    },
    {
     "data": {
      "text/plain": [
       "0.7446666666666667"
      ]
     },
     "execution_count": 46,
     "metadata": {},
     "output_type": "execute_result"
    }
   ],
   "source": [
    "# Summarize model performance\n",
    "def evaluate_model(y_test, preds):\n",
    "    '''prints a lot of model evaluation metrics, returns accuracy'''\n",
    "    # ROC-AUC is useful -- but for smaller subsets (e.g., 10k), the model tends predict less common\n",
    "    # chart types zero times, and in that case AUC can't be computed.\n",
    "    try:\n",
    "        print('\\nArea Under the Curve: {:.2f}\\n'.format(roc_auc_score(y_test, preds)))\n",
    "    except ValueError:\n",
    "        pass\n",
    "\n",
    "    print('Accuracy: {:.2f}\\n'.format(accuracy_score(y_test, preds)))\n",
    "\n",
    "    print('Micro Precision: {:.2f}'.format(precision_score(y_test, preds, average='micro')))\n",
    "    print('Micro Recall: {:.2f}'.format(recall_score(y_test, preds, average='micro')))\n",
    "    print('Micro F1-score: {:.2f}\\n'.format(f1_score(y_test, preds, average='micro')))\n",
    "\n",
    "    print('Macro Precision: {:.2f}'.format(precision_score(y_test, preds, average='macro')))\n",
    "    print('Macro Recall: {:.2f}'.format(recall_score(y_test, preds, average='macro')))\n",
    "    print('Macro F1-score: {:.2f}\\n'.format(f1_score(y_test, preds, average='macro')))\n",
    "\n",
    "    print('Weighted Precision: {:.2f}'.format(precision_score(y_test, preds, average='weighted')))\n",
    "    print('Weighted Recall: {:.2f}'.format(recall_score(y_test, preds, average='weighted')))\n",
    "    print('Weighted F1-score: {:.2f}'.format(f1_score(y_test, preds, average='weighted')))\n",
    "\n",
    "    from sklearn.metrics import classification_report\n",
    "    print('\\nClassification Report\\n')\n",
    "    print(classification_report(y_test, preds, target_names=chart_names))\n",
    "    \n",
    "    return accuracy_score(y_test, preds) \n",
    "\n",
    "evaluate_model(y_test, preds)"
   ]
  },
  {
   "cell_type": "code",
   "execution_count": 47,
   "metadata": {},
   "outputs": [
    {
     "name": "stdout",
     "output_type": "stream",
     "text": [
      "Confusion Matrix\n",
      "\n",
      "[[ 83   0   0  11   0   9]\n",
      " [  6  10   0   0   0   3]\n",
      " [  3   0   1   0   0   1]\n",
      " [ 76   0   0 750   0  63]\n",
      " [  1   0   0   0   1   0]\n",
      " [ 81   0   0  86   0 315]]\n"
     ]
    }
   ],
   "source": [
    "# confusion matrix\n",
    "confusion = confusion_matrix(\n",
    "    y_test.idxmax(1), preds.idxmax(1))\n",
    "print('Confusion Matrix\\n')\n",
    "print(confusion)"
   ]
  },
  {
   "cell_type": "code",
   "execution_count": 48,
   "metadata": {},
   "outputs": [
    {
     "data": {
      "text/plain": [
       "Text(0.5, 69.0, 'Predicted label')"
      ]
     },
     "execution_count": 48,
     "metadata": {},
     "output_type": "execute_result"
    },
    {
     "data": {
      "image/png": "[encoded data removed]",
      "text/plain": [
       "<Figure size 864x720 with 2 Axes>"
      ]
     },
     "metadata": {
      "needs_background": "light"
     },
     "output_type": "display_data"
    }
   ],
   "source": [
    "# plot confusion matrix\n",
    "plt.figure(figsize=(12,10))\n",
    "sns.heatmap(confusion/np.sum(confusion), annot=True, \n",
    "            cmap='Blues', xticklabels=chart_names, yticklabels=chart_names)\n",
    "plt.ylabel('True label')\n",
    "plt.xlabel('Predicted label')"
   ]
  },
  {
   "cell_type": "markdown",
   "metadata": {},
   "source": [
    "### Train and evaluate selected model on full data set"
   ]
  },
  {
   "cell_type": "code",
   "execution_count": 50,
   "metadata": {},
   "outputs": [
    {
     "name": "stdout",
     "output_type": "stream",
     "text": [
      "(755211, 846) (133273, 846)\n"
     ]
    }
   ],
   "source": [
    "# re-load full data set, split into train and test sets\n",
    "df = df_full # uncomment this one to run everything on the full data set of 888k+ charts\n",
    "# features data frame without ids or chart type labels\n",
    "features = df.iloc[:,2:]\n",
    "features.drop('labels', axis=1, inplace=True)\n",
    "# one-hot encode labels\n",
    "labels = pd.get_dummies(df['labels'])\n",
    "# save a list of column labels for later\n",
    "chart_names = labels.columns\n",
    "# split train and test data\n",
    "X_train, X_test, y_train, y_test = train_test_split(features, labels, test_size=.15)\n",
    "print(X_train.shape, X_test.shape) # to make sure they are what we expect"
   ]
  },
  {
   "cell_type": "code",
   "execution_count": 51,
   "metadata": {},
   "outputs": [],
   "source": [
    "# define model using best params from above grid search\n",
    "model = best_estimator\n",
    "# Fit on training data\n",
    "model.fit(X_train, y_train)\n",
    "# predictions \n",
    "y_pred = model.predict(X_test)\n",
    "# probabilities for each class\n",
    "probs = model.predict_proba(X_test)\n",
    "# predicitons as a data frame with chart labels\n",
    "preds = pd.DataFrame(y_pred)\n",
    "chart_names = labels.columns.tolist()\n",
    "preds.columns = chart_names"
   ]
  },
  {
   "cell_type": "code",
   "execution_count": 52,
   "metadata": {},
   "outputs": [
    {
     "name": "stdout",
     "output_type": "stream",
     "text": [
      "\n",
      "Area Under the Curve: 0.90\n",
      "\n",
      "Accuracy: 0.85\n",
      "\n",
      "Micro Precision: 0.94\n",
      "Micro Recall: 0.85\n",
      "Micro F1-score: 0.89\n",
      "\n",
      "Macro Precision: 0.97\n",
      "Macro Recall: 0.81\n",
      "Macro F1-score: 0.87\n",
      "\n",
      "Weighted Precision: 0.94\n",
      "Weighted Recall: 0.85\n",
      "Weighted F1-score: 0.89\n",
      "\n",
      "Classification Report\n",
      "\n",
      "              precision    recall  f1-score   support\n",
      "\n",
      "         bar       0.93      0.79      0.86     18623\n",
      "         box       0.97      0.82      0.89      7308\n",
      "     heatmap       1.00      0.80      0.89      1879\n",
      "   histogram       0.93      0.84      0.88      4421\n",
      "        line       0.96      0.87      0.91     54623\n",
      "         pie       0.98      0.92      0.95      3879\n",
      "      sankey       1.00      0.90      0.95       120\n",
      "     scatter       0.91      0.85      0.88     42370\n",
      "       table       1.00      0.48      0.65        50\n",
      "\n",
      "   micro avg       0.94      0.85      0.89    133273\n",
      "   macro avg       0.97      0.81      0.87    133273\n",
      "weighted avg       0.94      0.85      0.89    133273\n",
      " samples avg       0.85      0.85      0.85    133273\n",
      "\n"
     ]
    },
    {
     "name": "stderr",
     "output_type": "stream",
     "text": [
      "/Users/devon/opt/anaconda3/lib/python3.7/site-packages/sklearn/metrics/_classification.py:1272: UndefinedMetricWarning: Precision and F-score are ill-defined and being set to 0.0 in samples with no predicted labels. Use `zero_division` parameter to control this behavior.\n",
      "  _warn_prf(average, modifier, msg_start, len(result))\n"
     ]
    },
    {
     "data": {
      "text/plain": [
       "0.8501571961312494"
      ]
     },
     "execution_count": 52,
     "metadata": {},
     "output_type": "execute_result"
    }
   ],
   "source": [
    "# evaluate\n",
    "evaluate_model(y_test, preds)"
   ]
  },
  {
   "cell_type": "code",
   "execution_count": 53,
   "metadata": {},
   "outputs": [
    {
     "data": {
      "text/plain": [
       "Text(0.5, 69.0, 'Predicted label')"
      ]
     },
     "execution_count": 53,
     "metadata": {},
     "output_type": "execute_result"
    },
    {
     "data": {
      "image/png": "[encoded data removed]",
      "text/plain": [
       "<Figure size 864x720 with 2 Axes>"
      ]
     },
     "metadata": {
      "needs_background": "light"
     },
     "output_type": "display_data"
    }
   ],
   "source": [
    "# plot confusion matrix\n",
    "plt.figure(figsize=(12,10))\n",
    "sns.heatmap(confusion/np.sum(confusion), annot=True, \n",
    "            cmap='Blues', xticklabels=chart_names, yticklabels=chart_names)\n",
    "plt.ylabel('True label')\n",
    "plt.xlabel('Predicted label')"
   ]
  },
  {
   "cell_type": "code",
   "execution_count": 61,
   "metadata": {},
   "outputs": [],
   "source": [
    "# confusion matrix\n",
    "confusion = confusion_matrix(\n",
    "    y_test.idxmax(1), preds.idxmax(1))"
   ]
  },
  {
   "cell_type": "code",
   "execution_count": 68,
   "metadata": {},
   "outputs": [],
   "source": [
    "def plot_confusion_matrix(cm, classes,\n",
    "                          normalize=False,\n",
    "                          title='Confusion matrix',\n",
    "                          cmap=plt.cm.Blues):\n",
    "    \"\"\"\n",
    "    This function prints and plots the confusion matrix.\n",
    "    Normalization can be applied by setting `normalize=True`.\n",
    "    \"\"\"\n",
    "    if normalize:\n",
    "        cm = cm.astype('float') / cm.sum(axis=1)[:, np.newaxis]\n",
    "\n",
    "    plt.imshow(cm, interpolation='nearest', cmap=cmap)\n",
    "    plt.title(title)\n",
    "    plt.colorbar()\n",
    "    tick_marks = np.arange(len(classes))\n",
    "    plt.xticks(tick_marks, classes, rotation=45)\n",
    "    plt.yticks(tick_marks, classes)\n",
    "\n",
    "    fmt = '.2f' if normalize else 'd'\n",
    "    thresh = cm.max() / 2.\n",
    "    for i, j in itertools.product(range(cm.shape[0]), range(cm.shape[1])):\n",
    "        plt.text(j, i, format(cm[i, j], fmt),\n",
    "                 horizontalalignment=\"center\",\n",
    "                 color=\"white\" if cm[i, j] > thresh else \"black\")\n",
    "\n",
    "    plt.tight_layout()\n",
    "    plt.ylabel('True label')\n",
    "    plt.xlabel('Predicted label')"
   ]
  },
  {
   "cell_type": "code",
   "execution_count": 71,
   "metadata": {},
   "outputs": [
    {
     "data": {
      "image/png": "[encoded data removed]",
      "text/plain": [
       "<Figure size 864x720 with 2 Axes>"
      ]
     },
     "metadata": {
      "needs_background": "light"
     },
     "output_type": "display_data"
    }
   ],
   "source": [
    "fig, ax = plt.subplots(figsize = (12,10))\n",
    "plot_confusion_matrix(confusion, chart_names, normalize=True)"
   ]
  },
  {
   "cell_type": "code",
   "execution_count": 93,
   "metadata": {},
   "outputs": [],
   "source": [
    "def format_feature_importances(model, columns, limit=10):\n",
    "    importances = model.feature_importances_\n",
    "    indices = np.argsort(importances)[::-1]\n",
    "    feature_importance_table = [\n",
    "        [columns[i], importances[i]] for i in indices][:limit]\n",
    "    feature_importance_df = pd.DataFrame(\n",
    "        feature_importance_table, columns=[\n",
    "            'feature', 'importance'])\n",
    "    display(feature_importance_df)"
   ]
  },
  {
   "cell_type": "code",
   "execution_count": 94,
   "metadata": {},
   "outputs": [],
   "source": [
    "columns = features.columns.tolist()"
   ]
  },
  {
   "cell_type": "code",
   "execution_count": 95,
   "metadata": {},
   "outputs": [
    {
     "data": {
      "text/html": [
       "<div>\n",
       "<style scoped>\n",
       "    .dataframe tbody tr th:only-of-type {\n",
       "        vertical-align: middle;\n",
       "    }\n",
       "\n",
       "    .dataframe tbody tr th {\n",
       "        vertical-align: top;\n",
       "    }\n",
       "\n",
       "    .dataframe thead th {\n",
       "        text-align: right;\n",
       "    }\n",
       "</style>\n",
       "<table border=\"1\" class=\"dataframe\">\n",
       "  <thead>\n",
       "    <tr style=\"text-align: right;\">\n",
       "      <th></th>\n",
       "      <th>feature</th>\n",
       "      <th>importance</th>\n",
       "    </tr>\n",
       "  </thead>\n",
       "  <tbody>\n",
       "    <tr>\n",
       "      <th>0</th>\n",
       "      <td>length-agg-min</td>\n",
       "      <td>0.009960</td>\n",
       "    </tr>\n",
       "    <tr>\n",
       "      <th>1</th>\n",
       "      <td>length-agg-max</td>\n",
       "      <td>0.008754</td>\n",
       "    </tr>\n",
       "    <tr>\n",
       "      <th>2</th>\n",
       "      <td>length-agg-mean</td>\n",
       "      <td>0.008253</td>\n",
       "    </tr>\n",
       "    <tr>\n",
       "      <th>3</th>\n",
       "      <td>data_type_is_time-agg-num</td>\n",
       "      <td>0.007430</td>\n",
       "    </tr>\n",
       "    <tr>\n",
       "      <th>4</th>\n",
       "      <td>entropy-agg-min</td>\n",
       "      <td>0.006781</td>\n",
       "    </tr>\n",
       "    <tr>\n",
       "      <th>5</th>\n",
       "      <td>y_in_name-agg-num</td>\n",
       "      <td>0.006136</td>\n",
       "    </tr>\n",
       "    <tr>\n",
       "      <th>6</th>\n",
       "      <td>entropy-agg-max</td>\n",
       "      <td>0.006074</td>\n",
       "    </tr>\n",
       "    <tr>\n",
       "      <th>7</th>\n",
       "      <td>general_type_is_t-agg-has</td>\n",
       "      <td>0.005607</td>\n",
       "    </tr>\n",
       "    <tr>\n",
       "      <th>8</th>\n",
       "      <td>general_type_entropy</td>\n",
       "      <td>0.005602</td>\n",
       "    </tr>\n",
       "    <tr>\n",
       "      <th>9</th>\n",
       "      <td>field_name_length-agg-mean</td>\n",
       "      <td>0.005571</td>\n",
       "    </tr>\n",
       "  </tbody>\n",
       "</table>\n",
       "</div>"
      ],
      "text/plain": [
       "                      feature  importance\n",
       "0              length-agg-min    0.009960\n",
       "1              length-agg-max    0.008754\n",
       "2             length-agg-mean    0.008253\n",
       "3   data_type_is_time-agg-num    0.007430\n",
       "4             entropy-agg-min    0.006781\n",
       "5           y_in_name-agg-num    0.006136\n",
       "6             entropy-agg-max    0.006074\n",
       "7   general_type_is_t-agg-has    0.005607\n",
       "8        general_type_entropy    0.005602\n",
       "9  field_name_length-agg-mean    0.005571"
      ]
     },
     "metadata": {},
     "output_type": "display_data"
    }
   ],
   "source": [
    "format_feature_importances(model, columns)"
   ]
  }
 ],
 "metadata": {
  "kernelspec": {
   "display_name": "Python 3",
   "language": "python",
   "name": "python3"
  },
  "language_info": {
   "codemirror_mode": {
    "name": "ipython",
    "version": 3
   },
   "file_extension": ".py",
   "mimetype": "text/x-python",
   "name": "python",
   "nbconvert_exporter": "python",
   "pygments_lexer": "ipython3",
   "version": "3.7.6"
  }
 },
 "nbformat": 4,
 "nbformat_minor": 4
}
