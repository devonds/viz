{
 "cells": [
  {
   "cell_type": "markdown",
   "metadata": {},
   "source": [
    "# predict chart type with a random forest classifier\n",
    "The Plotly Community Feed has more than a million user-generated charts, many of which include data.  I want to use this data to train a model to predict the kinds of design decisions that a human data analyst would make when looking at a table of data:\n",
    "- What kind of chart to draw?\n",
    "- What goes on the x axis?\n",
    "- What goes on the y axis? \n",
    "- Are any transforms necisary? \n",
    "\n",
    "Conveniently, the precident project vizML has packeged up data from the plotly community feed, along with a package of attributes they calculated from cleaned and de-duplicated data.  As a shortcut, I'll start with their processed attributes. Later, we can go back and collect new data from the plotly community feed to add more information about new types of data -- particularly, about chart types good for visualizing genomic data, like a circos plot.  "
   ]
  },
  {
   "cell_type": "markdown",
   "metadata": {},
   "source": [
    "### Dependencies"
   ]
  },
  {
   "cell_type": "code",
   "execution_count": 1,
   "metadata": {},
   "outputs": [],
   "source": [
    "import pandas as pd\n",
    "import numpy as np\n",
    "import matplotlib.pyplot as plt\n",
    "import seaborn as sns\n",
    "import itertools\n",
    "import sklearn\n",
    "from sklearn.model_selection import train_test_split\n",
    "from sklearn.ensemble import RandomForestClassifier\n",
    "from sklearn.metrics import confusion_matrix, accuracy_score, precision_score, recall_score, f1_score, roc_auc_score\n",
    "from imblearn.over_sampling import SMOTE\n",
    "import os\n",
    "from os.path import join\n",
    "import sys\n",
    "base_path = os.path.abspath(os.path.join('..'))\n",
    "if base_path not in sys.path:\n",
    "    sys.path.append(base_path)\n"
   ]
  },
  {
   "cell_type": "markdown",
   "metadata": {},
   "source": [
    "### Data\n",
    "Data comes from Plotly's community feed of user generated data. Conveniently, the VizML project from MIT Media Lab provides two files for download: raw data extracted from the community feed and the aggrigated features they have extracted from each user-generated plot. The latter contains features and labels for 1,989,068 charts. \n",
    "\n",
    "The VizML features needs some cleaning and adjustment before I can use it to train Photon:\n",
    "- Some charts do not have corresponding data \n",
    "- There are many near-duplicates in the data (mostly slightly different charts drawn from the same dataset, ~88% of charts had near-duplicates)\n",
    "- VizML only labels three possible chart types.  We want photon to be able to draw more types of charts. \n",
    "\n",
    "After eliminating charts without data, eliminating charts that combine multiple kinds of data presentations, agressively de-duplicating charts drawn with similar data, and infering nine chart type labels from tick and trace types, I'm left with 110,244 uniqe examples of charts with data. This processed features and labels data is available here: [plotly_data_processed.csv](https://drive.google.com/file/d/16RioCknQirQ5ZiALhTDXIgQ8uDI7JDyB/view?usp=sharing). The data cleaning process is documented in the notebook \"Load and Clean Plotly Data\"."
   ]
  },
  {
   "cell_type": "code",
   "execution_count": 2,
   "metadata": {},
   "outputs": [
    {
     "name": "stdout",
     "output_type": "stream",
     "text": [
      "<class 'pandas.core.frame.DataFrame'>\n",
      "RangeIndex: 110244 entries, 0 to 110243\n",
      "Columns: 850 entries, Unnamed: 0 to labels\n",
      "dtypes: bool(120), float64(726), int64(2), object(2)\n",
      "memory usage: 626.6+ MB\n"
     ]
    }
   ],
   "source": [
    "data_dir_name = '../data'\n",
    "data_file_name = 'plotly_data_processed.csv'\n",
    "\n",
    "# full data - use this to train tuned model. It is about 1.6 GB\n",
    "df = pd.read_csv(os.path.join(data_dir_name, data_file_name)) # uncomment this one to run everything on the full data set of 888k+ charts\n",
    "\n",
    "# this options loads just the first 10k rows. It is about 57 MB.  For figuring all this out on my laptop. \n",
    "# df = pd.read_csv(os.path.join(data_dir_name, data_file_name), nrows=10000) # uncomment this one for the subset\n",
    "df.info()"
   ]
  },
  {
   "cell_type": "code",
   "execution_count": 122,
   "metadata": {},
   "outputs": [],
   "source": [
    "# take a random subset of data to be able to make and run models on my laptop\n",
    "# later, skip this step and run df=df_full to run model on full data set\n",
    "\n",
    "# create a series of weights corresponding to the frequency of each label in the data\n",
    "# label_weights = df_full.groupby('labels')['labels'].transform('count')\n",
    "# create random sample \n",
    "# subset_size = 10000\n",
    "# RANDOM_STATE = 42\n",
    "# df = df_full.sample(n=subset_size, replace=False, weights=label_weights, random_state=RANDOM_STATE)"
   ]
  },
  {
   "cell_type": "code",
   "execution_count": 16,
   "metadata": {},
   "outputs": [
    {
     "data": {
      "text/html": [
       "<div>\n",
       "<style scoped>\n",
       "    .dataframe tbody tr th:only-of-type {\n",
       "        vertical-align: middle;\n",
       "    }\n",
       "\n",
       "    .dataframe tbody tr th {\n",
       "        vertical-align: top;\n",
       "    }\n",
       "\n",
       "    .dataframe thead th {\n",
       "        text-align: right;\n",
       "    }\n",
       "</style>\n",
       "<table border=\"1\" class=\"dataframe\">\n",
       "  <thead>\n",
       "    <tr style=\"text-align: right;\">\n",
       "      <th></th>\n",
       "      <th>Unnamed: 0</th>\n",
       "      <th>Unnamed: 0.1</th>\n",
       "      <th>fid</th>\n",
       "      <th>exists-agg-num</th>\n",
       "      <th>exists-agg-has</th>\n",
       "      <th>exists-agg-only_one</th>\n",
       "      <th>exists-agg-all</th>\n",
       "      <th>exists-agg-percentage</th>\n",
       "      <th>length-agg-mean</th>\n",
       "      <th>length-agg-var</th>\n",
       "      <th>...</th>\n",
       "      <th>num_shared_words-agg-min</th>\n",
       "      <th>num_shared_words-agg-max</th>\n",
       "      <th>percent_shared_words-agg-mean</th>\n",
       "      <th>percent_shared_words-agg-var</th>\n",
       "      <th>percent_shared_words-agg-std</th>\n",
       "      <th>percent_shared_words-agg-avg_abs_dev</th>\n",
       "      <th>percent_shared_words-agg-med_abs_dev</th>\n",
       "      <th>percent_shared_words-agg-min</th>\n",
       "      <th>percent_shared_words-agg-max</th>\n",
       "      <th>labels</th>\n",
       "    </tr>\n",
       "  </thead>\n",
       "  <tbody>\n",
       "    <tr>\n",
       "      <th>0</th>\n",
       "      <td>0</td>\n",
       "      <td>0</td>\n",
       "      <td>automata:52280</td>\n",
       "      <td>0.770345</td>\n",
       "      <td>True</td>\n",
       "      <td>False</td>\n",
       "      <td>False</td>\n",
       "      <td>0.770345</td>\n",
       "      <td>0.067238</td>\n",
       "      <td>-0.137411</td>\n",
       "      <td>...</td>\n",
       "      <td>0.0</td>\n",
       "      <td>0.0</td>\n",
       "      <td>0.0</td>\n",
       "      <td>0.0</td>\n",
       "      <td>0.0</td>\n",
       "      <td>0.0</td>\n",
       "      <td>0.0</td>\n",
       "      <td>0.0</td>\n",
       "      <td>0.0</td>\n",
       "      <td>scatter</td>\n",
       "    </tr>\n",
       "    <tr>\n",
       "      <th>1</th>\n",
       "      <td>1</td>\n",
       "      <td>1</td>\n",
       "      <td>barisguclu:21</td>\n",
       "      <td>-0.707945</td>\n",
       "      <td>True</td>\n",
       "      <td>False</td>\n",
       "      <td>False</td>\n",
       "      <td>-0.707945</td>\n",
       "      <td>-0.222991</td>\n",
       "      <td>-0.137411</td>\n",
       "      <td>...</td>\n",
       "      <td>0.0</td>\n",
       "      <td>0.0</td>\n",
       "      <td>0.0</td>\n",
       "      <td>0.0</td>\n",
       "      <td>0.0</td>\n",
       "      <td>0.0</td>\n",
       "      <td>0.0</td>\n",
       "      <td>0.0</td>\n",
       "      <td>0.0</td>\n",
       "      <td>scatter</td>\n",
       "    </tr>\n",
       "    <tr>\n",
       "      <th>2</th>\n",
       "      <td>2</td>\n",
       "      <td>2</td>\n",
       "      <td>glengal:43</td>\n",
       "      <td>-0.707945</td>\n",
       "      <td>True</td>\n",
       "      <td>False</td>\n",
       "      <td>False</td>\n",
       "      <td>-0.707945</td>\n",
       "      <td>-0.225834</td>\n",
       "      <td>-0.137411</td>\n",
       "      <td>...</td>\n",
       "      <td>0.0</td>\n",
       "      <td>0.0</td>\n",
       "      <td>0.0</td>\n",
       "      <td>0.0</td>\n",
       "      <td>0.0</td>\n",
       "      <td>0.0</td>\n",
       "      <td>0.0</td>\n",
       "      <td>0.0</td>\n",
       "      <td>0.0</td>\n",
       "      <td>bar</td>\n",
       "    </tr>\n",
       "    <tr>\n",
       "      <th>3</th>\n",
       "      <td>3</td>\n",
       "      <td>3</td>\n",
       "      <td>eunyong0718:32</td>\n",
       "      <td>-0.707945</td>\n",
       "      <td>True</td>\n",
       "      <td>False</td>\n",
       "      <td>False</td>\n",
       "      <td>-0.707945</td>\n",
       "      <td>-0.225509</td>\n",
       "      <td>-0.137411</td>\n",
       "      <td>...</td>\n",
       "      <td>0.0</td>\n",
       "      <td>0.0</td>\n",
       "      <td>0.0</td>\n",
       "      <td>0.0</td>\n",
       "      <td>0.0</td>\n",
       "      <td>0.0</td>\n",
       "      <td>0.0</td>\n",
       "      <td>0.0</td>\n",
       "      <td>0.0</td>\n",
       "      <td>scatter</td>\n",
       "    </tr>\n",
       "    <tr>\n",
       "      <th>4</th>\n",
       "      <td>4</td>\n",
       "      <td>4</td>\n",
       "      <td>likunyi2:24</td>\n",
       "      <td>2.002253</td>\n",
       "      <td>True</td>\n",
       "      <td>False</td>\n",
       "      <td>False</td>\n",
       "      <td>2.002253</td>\n",
       "      <td>-0.223560</td>\n",
       "      <td>-0.137411</td>\n",
       "      <td>...</td>\n",
       "      <td>0.0</td>\n",
       "      <td>0.0</td>\n",
       "      <td>0.0</td>\n",
       "      <td>0.0</td>\n",
       "      <td>0.0</td>\n",
       "      <td>0.0</td>\n",
       "      <td>0.0</td>\n",
       "      <td>0.0</td>\n",
       "      <td>0.0</td>\n",
       "      <td>scatter</td>\n",
       "    </tr>\n",
       "  </tbody>\n",
       "</table>\n",
       "<p>5 rows × 850 columns</p>\n",
       "</div>"
      ],
      "text/plain": [
       "   Unnamed: 0  Unnamed: 0.1             fid  exists-agg-num  exists-agg-has  \\\n",
       "0           0             0  automata:52280        0.770345            True   \n",
       "1           1             1   barisguclu:21       -0.707945            True   \n",
       "2           2             2      glengal:43       -0.707945            True   \n",
       "3           3             3  eunyong0718:32       -0.707945            True   \n",
       "4           4             4     likunyi2:24        2.002253            True   \n",
       "\n",
       "   exists-agg-only_one  exists-agg-all  exists-agg-percentage  \\\n",
       "0                False           False               0.770345   \n",
       "1                False           False              -0.707945   \n",
       "2                False           False              -0.707945   \n",
       "3                False           False              -0.707945   \n",
       "4                False           False               2.002253   \n",
       "\n",
       "   length-agg-mean  length-agg-var  ...  num_shared_words-agg-min  \\\n",
       "0         0.067238       -0.137411  ...                       0.0   \n",
       "1        -0.222991       -0.137411  ...                       0.0   \n",
       "2        -0.225834       -0.137411  ...                       0.0   \n",
       "3        -0.225509       -0.137411  ...                       0.0   \n",
       "4        -0.223560       -0.137411  ...                       0.0   \n",
       "\n",
       "   num_shared_words-agg-max  percent_shared_words-agg-mean  \\\n",
       "0                       0.0                            0.0   \n",
       "1                       0.0                            0.0   \n",
       "2                       0.0                            0.0   \n",
       "3                       0.0                            0.0   \n",
       "4                       0.0                            0.0   \n",
       "\n",
       "   percent_shared_words-agg-var  percent_shared_words-agg-std  \\\n",
       "0                           0.0                           0.0   \n",
       "1                           0.0                           0.0   \n",
       "2                           0.0                           0.0   \n",
       "3                           0.0                           0.0   \n",
       "4                           0.0                           0.0   \n",
       "\n",
       "   percent_shared_words-agg-avg_abs_dev  percent_shared_words-agg-med_abs_dev  \\\n",
       "0                                   0.0                                   0.0   \n",
       "1                                   0.0                                   0.0   \n",
       "2                                   0.0                                   0.0   \n",
       "3                                   0.0                                   0.0   \n",
       "4                                   0.0                                   0.0   \n",
       "\n",
       "   percent_shared_words-agg-min  percent_shared_words-agg-max   labels  \n",
       "0                           0.0                           0.0  scatter  \n",
       "1                           0.0                           0.0  scatter  \n",
       "2                           0.0                           0.0      bar  \n",
       "3                           0.0                           0.0  scatter  \n",
       "4                           0.0                           0.0  scatter  \n",
       "\n",
       "[5 rows x 850 columns]"
      ]
     },
     "execution_count": 16,
     "metadata": {},
     "output_type": "execute_result"
    }
   ],
   "source": [
    "df.head()"
   ]
  },
  {
   "cell_type": "code",
   "execution_count": 3,
   "metadata": {},
   "outputs": [],
   "source": [
    "# features data frame without ids or chart type labels\n",
    "features = df.drop(['fid', 'labels'], axis=1, inplace=True)\n",
    "\n",
    "labels = df['labels']"
   ]
  },
  {
   "cell_type": "code",
   "execution_count": 15,
   "metadata": {},
   "outputs": [
    {
     "data": {
      "text/html": [
       "<div>\n",
       "<style scoped>\n",
       "    .dataframe tbody tr th:only-of-type {\n",
       "        vertical-align: middle;\n",
       "    }\n",
       "\n",
       "    .dataframe tbody tr th {\n",
       "        vertical-align: top;\n",
       "    }\n",
       "\n",
       "    .dataframe thead th {\n",
       "        text-align: right;\n",
       "    }\n",
       "</style>\n",
       "<table border=\"1\" class=\"dataframe\">\n",
       "  <thead>\n",
       "    <tr style=\"text-align: right;\">\n",
       "      <th></th>\n",
       "      <th>exists-agg-num</th>\n",
       "      <th>exists-agg-has</th>\n",
       "      <th>exists-agg-only_one</th>\n",
       "      <th>exists-agg-all</th>\n",
       "      <th>exists-agg-percentage</th>\n",
       "      <th>length-agg-mean</th>\n",
       "      <th>length-agg-var</th>\n",
       "      <th>length-agg-std</th>\n",
       "      <th>length-agg-avg_abs_dev</th>\n",
       "      <th>length-agg-med_abs_dev</th>\n",
       "      <th>...</th>\n",
       "      <th>num_shared_words-agg-med_abs_dev</th>\n",
       "      <th>num_shared_words-agg-min</th>\n",
       "      <th>num_shared_words-agg-max</th>\n",
       "      <th>percent_shared_words-agg-mean</th>\n",
       "      <th>percent_shared_words-agg-var</th>\n",
       "      <th>percent_shared_words-agg-std</th>\n",
       "      <th>percent_shared_words-agg-avg_abs_dev</th>\n",
       "      <th>percent_shared_words-agg-med_abs_dev</th>\n",
       "      <th>percent_shared_words-agg-min</th>\n",
       "      <th>percent_shared_words-agg-max</th>\n",
       "    </tr>\n",
       "  </thead>\n",
       "  <tbody>\n",
       "    <tr>\n",
       "      <th>0</th>\n",
       "      <td>0.770345</td>\n",
       "      <td>True</td>\n",
       "      <td>False</td>\n",
       "      <td>False</td>\n",
       "      <td>0.770345</td>\n",
       "      <td>0.067238</td>\n",
       "      <td>-0.137411</td>\n",
       "      <td>-0.207664</td>\n",
       "      <td>-0.207261</td>\n",
       "      <td>-0.154171</td>\n",
       "      <td>...</td>\n",
       "      <td>0.0</td>\n",
       "      <td>0.0</td>\n",
       "      <td>0.0</td>\n",
       "      <td>0.0</td>\n",
       "      <td>0.0</td>\n",
       "      <td>0.0</td>\n",
       "      <td>0.0</td>\n",
       "      <td>0.0</td>\n",
       "      <td>0.0</td>\n",
       "      <td>0.0</td>\n",
       "    </tr>\n",
       "    <tr>\n",
       "      <th>1</th>\n",
       "      <td>-0.707945</td>\n",
       "      <td>True</td>\n",
       "      <td>False</td>\n",
       "      <td>False</td>\n",
       "      <td>-0.707945</td>\n",
       "      <td>-0.222991</td>\n",
       "      <td>-0.137411</td>\n",
       "      <td>-0.206446</td>\n",
       "      <td>-0.205936</td>\n",
       "      <td>-0.148720</td>\n",
       "      <td>...</td>\n",
       "      <td>0.0</td>\n",
       "      <td>0.0</td>\n",
       "      <td>0.0</td>\n",
       "      <td>0.0</td>\n",
       "      <td>0.0</td>\n",
       "      <td>0.0</td>\n",
       "      <td>0.0</td>\n",
       "      <td>0.0</td>\n",
       "      <td>0.0</td>\n",
       "      <td>0.0</td>\n",
       "    </tr>\n",
       "    <tr>\n",
       "      <th>2</th>\n",
       "      <td>-0.707945</td>\n",
       "      <td>True</td>\n",
       "      <td>False</td>\n",
       "      <td>False</td>\n",
       "      <td>-0.707945</td>\n",
       "      <td>-0.225834</td>\n",
       "      <td>-0.137411</td>\n",
       "      <td>-0.207664</td>\n",
       "      <td>-0.207261</td>\n",
       "      <td>-0.154171</td>\n",
       "      <td>...</td>\n",
       "      <td>0.0</td>\n",
       "      <td>0.0</td>\n",
       "      <td>0.0</td>\n",
       "      <td>0.0</td>\n",
       "      <td>0.0</td>\n",
       "      <td>0.0</td>\n",
       "      <td>0.0</td>\n",
       "      <td>0.0</td>\n",
       "      <td>0.0</td>\n",
       "      <td>0.0</td>\n",
       "    </tr>\n",
       "    <tr>\n",
       "      <th>3</th>\n",
       "      <td>-0.707945</td>\n",
       "      <td>True</td>\n",
       "      <td>False</td>\n",
       "      <td>False</td>\n",
       "      <td>-0.707945</td>\n",
       "      <td>-0.225509</td>\n",
       "      <td>-0.137411</td>\n",
       "      <td>-0.207664</td>\n",
       "      <td>-0.207261</td>\n",
       "      <td>-0.154171</td>\n",
       "      <td>...</td>\n",
       "      <td>0.0</td>\n",
       "      <td>0.0</td>\n",
       "      <td>0.0</td>\n",
       "      <td>0.0</td>\n",
       "      <td>0.0</td>\n",
       "      <td>0.0</td>\n",
       "      <td>0.0</td>\n",
       "      <td>0.0</td>\n",
       "      <td>0.0</td>\n",
       "      <td>0.0</td>\n",
       "    </tr>\n",
       "    <tr>\n",
       "      <th>4</th>\n",
       "      <td>2.002253</td>\n",
       "      <td>True</td>\n",
       "      <td>False</td>\n",
       "      <td>False</td>\n",
       "      <td>2.002253</td>\n",
       "      <td>-0.223560</td>\n",
       "      <td>-0.137411</td>\n",
       "      <td>-0.207664</td>\n",
       "      <td>-0.207261</td>\n",
       "      <td>-0.154171</td>\n",
       "      <td>...</td>\n",
       "      <td>0.0</td>\n",
       "      <td>0.0</td>\n",
       "      <td>0.0</td>\n",
       "      <td>0.0</td>\n",
       "      <td>0.0</td>\n",
       "      <td>0.0</td>\n",
       "      <td>0.0</td>\n",
       "      <td>0.0</td>\n",
       "      <td>0.0</td>\n",
       "      <td>0.0</td>\n",
       "    </tr>\n",
       "  </tbody>\n",
       "</table>\n",
       "<p>5 rows × 846 columns</p>\n",
       "</div>"
      ],
      "text/plain": [
       "   exists-agg-num  exists-agg-has  exists-agg-only_one  exists-agg-all  \\\n",
       "0        0.770345            True                False           False   \n",
       "1       -0.707945            True                False           False   \n",
       "2       -0.707945            True                False           False   \n",
       "3       -0.707945            True                False           False   \n",
       "4        2.002253            True                False           False   \n",
       "\n",
       "   exists-agg-percentage  length-agg-mean  length-agg-var  length-agg-std  \\\n",
       "0               0.770345         0.067238       -0.137411       -0.207664   \n",
       "1              -0.707945        -0.222991       -0.137411       -0.206446   \n",
       "2              -0.707945        -0.225834       -0.137411       -0.207664   \n",
       "3              -0.707945        -0.225509       -0.137411       -0.207664   \n",
       "4               2.002253        -0.223560       -0.137411       -0.207664   \n",
       "\n",
       "   length-agg-avg_abs_dev  length-agg-med_abs_dev  ...  \\\n",
       "0               -0.207261               -0.154171  ...   \n",
       "1               -0.205936               -0.148720  ...   \n",
       "2               -0.207261               -0.154171  ...   \n",
       "3               -0.207261               -0.154171  ...   \n",
       "4               -0.207261               -0.154171  ...   \n",
       "\n",
       "   num_shared_words-agg-med_abs_dev  num_shared_words-agg-min  \\\n",
       "0                               0.0                       0.0   \n",
       "1                               0.0                       0.0   \n",
       "2                               0.0                       0.0   \n",
       "3                               0.0                       0.0   \n",
       "4                               0.0                       0.0   \n",
       "\n",
       "   num_shared_words-agg-max  percent_shared_words-agg-mean  \\\n",
       "0                       0.0                            0.0   \n",
       "1                       0.0                            0.0   \n",
       "2                       0.0                            0.0   \n",
       "3                       0.0                            0.0   \n",
       "4                       0.0                            0.0   \n",
       "\n",
       "   percent_shared_words-agg-var  percent_shared_words-agg-std  \\\n",
       "0                           0.0                           0.0   \n",
       "1                           0.0                           0.0   \n",
       "2                           0.0                           0.0   \n",
       "3                           0.0                           0.0   \n",
       "4                           0.0                           0.0   \n",
       "\n",
       "   percent_shared_words-agg-avg_abs_dev  percent_shared_words-agg-med_abs_dev  \\\n",
       "0                                   0.0                                   0.0   \n",
       "1                                   0.0                                   0.0   \n",
       "2                                   0.0                                   0.0   \n",
       "3                                   0.0                                   0.0   \n",
       "4                                   0.0                                   0.0   \n",
       "\n",
       "   percent_shared_words-agg-min  percent_shared_words-agg-max  \n",
       "0                           0.0                           0.0  \n",
       "1                           0.0                           0.0  \n",
       "2                           0.0                           0.0  \n",
       "3                           0.0                           0.0  \n",
       "4                           0.0                           0.0  \n",
       "\n",
       "[5 rows x 846 columns]"
      ]
     },
     "execution_count": 15,
     "metadata": {},
     "output_type": "execute_result"
    }
   ],
   "source": []
  },
  {
   "cell_type": "code",
   "execution_count": 17,
   "metadata": {},
   "outputs": [
    {
     "name": "stdout",
     "output_type": "stream",
     "text": [
      "(93707, 846) (16537, 846)\n",
      "(93707,) (16537,)\n"
     ]
    }
   ],
   "source": [
    "# split train and test data\n",
    "X_train, X_test, y_train, y_test = train_test_split(features, labels, test_size=.15)\n",
    "print(X_train.shape, X_test.shape) # to make sure they are what we expect\n",
    "print(y_train.shape, y_test.shape)"
   ]
  },
  {
   "cell_type": "code",
   "execution_count": 18,
   "metadata": {},
   "outputs": [],
   "source": [
    "# SMOTE - Synthetic Minority Oversampling Technique\n",
    "# to balance dataset\n",
    "sm = SMOTE(sampling_strategy = \"minority\" , random_state = 42)\n",
    "X_sm, y_sm = sm.fit_sample(X_train, y_train)"
   ]
  },
  {
   "cell_type": "code",
   "execution_count": 20,
   "metadata": {},
   "outputs": [
    {
     "name": "stdout",
     "output_type": "stream",
     "text": [
      "(93707, 846) (16537, 846)\n",
      "(93707,) (16537,)\n"
     ]
    }
   ],
   "source": [
    "print(X_train.shape, X_test.shape) # to make sure they are what we expect\n",
    "print(y_train.shape, y_test.shape)"
   ]
  },
  {
   "cell_type": "code",
   "execution_count": 21,
   "metadata": {},
   "outputs": [
    {
     "data": {
      "text/plain": [
       "81941          box\n",
       "24877         line\n",
       "14602    histogram\n",
       "37499    histogram\n",
       "83140      scatter\n",
       "Name: labels, dtype: object"
      ]
     },
     "execution_count": 21,
     "metadata": {},
     "output_type": "execute_result"
    }
   ],
   "source": [
    "y_train.head()"
   ]
  },
  {
   "cell_type": "code",
   "execution_count": 24,
   "metadata": {},
   "outputs": [
    {
     "data": {
      "text/html": [
       "<div>\n",
       "<style scoped>\n",
       "    .dataframe tbody tr th:only-of-type {\n",
       "        vertical-align: middle;\n",
       "    }\n",
       "\n",
       "    .dataframe tbody tr th {\n",
       "        vertical-align: top;\n",
       "    }\n",
       "\n",
       "    .dataframe thead th {\n",
       "        text-align: right;\n",
       "    }\n",
       "</style>\n",
       "<table border=\"1\" class=\"dataframe\">\n",
       "  <thead>\n",
       "    <tr style=\"text-align: right;\">\n",
       "      <th></th>\n",
       "      <th>bar</th>\n",
       "      <th>box</th>\n",
       "      <th>heatmap</th>\n",
       "      <th>histogram</th>\n",
       "      <th>line</th>\n",
       "      <th>pie</th>\n",
       "      <th>sankey</th>\n",
       "      <th>scatter</th>\n",
       "      <th>table</th>\n",
       "    </tr>\n",
       "  </thead>\n",
       "  <tbody>\n",
       "    <tr>\n",
       "      <th>81941</th>\n",
       "      <td>0</td>\n",
       "      <td>1</td>\n",
       "      <td>0</td>\n",
       "      <td>0</td>\n",
       "      <td>0</td>\n",
       "      <td>0</td>\n",
       "      <td>0</td>\n",
       "      <td>0</td>\n",
       "      <td>0</td>\n",
       "    </tr>\n",
       "    <tr>\n",
       "      <th>24877</th>\n",
       "      <td>0</td>\n",
       "      <td>0</td>\n",
       "      <td>0</td>\n",
       "      <td>0</td>\n",
       "      <td>1</td>\n",
       "      <td>0</td>\n",
       "      <td>0</td>\n",
       "      <td>0</td>\n",
       "      <td>0</td>\n",
       "    </tr>\n",
       "    <tr>\n",
       "      <th>14602</th>\n",
       "      <td>0</td>\n",
       "      <td>0</td>\n",
       "      <td>0</td>\n",
       "      <td>1</td>\n",
       "      <td>0</td>\n",
       "      <td>0</td>\n",
       "      <td>0</td>\n",
       "      <td>0</td>\n",
       "      <td>0</td>\n",
       "    </tr>\n",
       "    <tr>\n",
       "      <th>37499</th>\n",
       "      <td>0</td>\n",
       "      <td>0</td>\n",
       "      <td>0</td>\n",
       "      <td>1</td>\n",
       "      <td>0</td>\n",
       "      <td>0</td>\n",
       "      <td>0</td>\n",
       "      <td>0</td>\n",
       "      <td>0</td>\n",
       "    </tr>\n",
       "    <tr>\n",
       "      <th>83140</th>\n",
       "      <td>0</td>\n",
       "      <td>0</td>\n",
       "      <td>0</td>\n",
       "      <td>0</td>\n",
       "      <td>0</td>\n",
       "      <td>0</td>\n",
       "      <td>0</td>\n",
       "      <td>1</td>\n",
       "      <td>0</td>\n",
       "    </tr>\n",
       "  </tbody>\n",
       "</table>\n",
       "</div>"
      ],
      "text/plain": [
       "       bar  box  heatmap  histogram  line  pie  sankey  scatter  table\n",
       "81941    0    1        0          0     0    0       0        0      0\n",
       "24877    0    0        0          0     1    0       0        0      0\n",
       "14602    0    0        0          1     0    0       0        0      0\n",
       "37499    0    0        0          1     0    0       0        0      0\n",
       "83140    0    0        0          0     0    0       0        1      0"
      ]
     },
     "execution_count": 24,
     "metadata": {},
     "output_type": "execute_result"
    }
   ],
   "source": [
    "# one-hot encode labels\n",
    "y_train = pd.get_dummies(y_train)\n",
    "y_test = pd.get_dummies(y_test)\n",
    "# save a list of column labels for later\n",
    "chart_names = y_train.columns\n",
    "y_train.head() # take a peek at one-hot encoded labels"
   ]
  },
  {
   "cell_type": "markdown",
   "metadata": {},
   "source": [
    "### Tune model hyperparameters\n",
    "find optimal hyperparameters using a gridsearch"
   ]
  },
  {
   "cell_type": "code",
   "execution_count": 26,
   "metadata": {},
   "outputs": [],
   "source": [
    "from sklearn.model_selection import GridSearchCV\n",
    "# Create the parameter grid based on the results of random search \n",
    "param_grid = {\n",
    "    'bootstrap': [True],\n",
    "    'max_features': ['sqrt', 'log2'],\n",
    "    'min_samples_split': [2, 4, 8],\n",
    "    'n_estimators': [400, 500, 600, 700]\n",
    "}\n",
    "\n",
    "# Create a base model to tune\n",
    "rf = RandomForestClassifier()\n",
    "# Instantiate the grid search model\n",
    "grid_search = GridSearchCV(estimator = rf, param_grid = param_grid, \n",
    "                          cv = 3, n_jobs = -1, verbose = 2)\n",
    "# this should train a 1*2*4*3 = 24 variations on the model; fitting 3 stratifold folds for each\n",
    "# "
   ]
  },
  {
   "cell_type": "code",
   "execution_count": 40,
   "metadata": {},
   "outputs": [
    {
     "name": "stdout",
     "output_type": "stream",
     "text": [
      "Fitting 3 folds for each of 24 candidates, totalling 72 fits\n"
     ]
    },
    {
     "name": "stderr",
     "output_type": "stream",
     "text": [
      "[Parallel(n_jobs=-1)]: Using backend LokyBackend with 8 concurrent workers.\n",
      "[Parallel(n_jobs=-1)]: Done  25 tasks      | elapsed: 76.5min\n",
      "[Parallel(n_jobs=-1)]: Done  72 out of  72 | elapsed: 143.4min finished\n"
     ]
    },
    {
     "name": "stdout",
     "output_type": "stream",
     "text": [
      "{'bootstrap': True, 'max_features': 'sqrt', 'min_samples_split': 2, 'n_estimators': 500}\n"
     ]
    }
   ],
   "source": [
    "# Fit the grid search to the data\n",
    "grid_search.fit(X_train, y_train)\n",
    "\n",
    "print(grid_search.best_params_)"
   ]
  },
  {
   "cell_type": "code",
   "execution_count": 41,
   "metadata": {},
   "outputs": [],
   "source": [
    "best_estimator = grid_search.best_estimator_"
   ]
  },
  {
   "cell_type": "markdown",
   "metadata": {},
   "source": [
    "### Define and Train Best Model"
   ]
  },
  {
   "cell_type": "code",
   "execution_count": 29,
   "metadata": {},
   "outputs": [
    {
     "data": {
      "text/plain": [
       "RandomForestClassifier(max_features='sqrt', n_estimators=600)"
      ]
     },
     "execution_count": 29,
     "metadata": {},
     "output_type": "execute_result"
    }
   ],
   "source": [
    "model = best_estimator\n",
    "# Fit on training data\n",
    "model.fit(X_train, y_train)"
   ]
  },
  {
   "cell_type": "code",
   "execution_count": 31,
   "metadata": {},
   "outputs": [],
   "source": [
    "# predictions \n",
    "y_pred = model.predict(X_test)\n",
    "# Probabilities for each class\n",
    "probs = model.predict_proba(X_test)\n",
    "# predicitons as a data frame with chart labels\n",
    "preds = pd.DataFrame(y_pred)\n",
    "preds.columns = chart_names"
   ]
  },
  {
   "cell_type": "markdown",
   "metadata": {},
   "source": [
    "## Model Performance"
   ]
  },
  {
   "cell_type": "code",
   "execution_count": null,
   "metadata": {},
   "outputs": [],
   "source": []
  },
  {
   "cell_type": "code",
   "execution_count": 35,
   "metadata": {},
   "outputs": [
    {
     "name": "stdout",
     "output_type": "stream",
     "text": [
      "\n",
      "Area Under the Curve: 0.82\n",
      "\n",
      "Accuracy: 0.71\n",
      "\n",
      "Micro Precision: 0.90\n",
      "Micro Recall: 0.71\n",
      "Micro F1-score: 0.80\n",
      "\n",
      "Macro Precision: 0.95\n",
      "Macro Recall: 0.65\n",
      "Macro F1-score: 0.76\n",
      "\n",
      "Weighted Precision: 0.91\n",
      "Weighted Recall: 0.71\n",
      "Weighted F1-score: 0.79\n",
      "\n",
      "Classification Report\n",
      "\n",
      "              precision    recall  f1-score   support\n",
      "\n",
      "         bar       0.92      0.43      0.59      1188\n",
      "         box       0.95      0.77      0.85      2055\n",
      "     heatmap       0.99      0.72      0.84       468\n",
      "   histogram       0.91      0.78      0.84      1128\n",
      "        line       0.89      0.77      0.83      6206\n",
      "         pie       1.00      0.51      0.67       138\n",
      "      sankey       1.00      0.84      0.92        58\n",
      "     scatter       0.89      0.68      0.77      5269\n",
      "       table       1.00      0.33      0.50        27\n",
      "\n",
      "   micro avg       0.90      0.71      0.80     16537\n",
      "   macro avg       0.95      0.65      0.76     16537\n",
      "weighted avg       0.91      0.71      0.79     16537\n",
      " samples avg       0.71      0.71      0.71     16537\n",
      "\n"
     ]
    },
    {
     "name": "stderr",
     "output_type": "stream",
     "text": [
      "/Users/devon/opt/anaconda3/envs/photon/lib/python3.8/site-packages/sklearn/metrics/_classification.py:1221: UndefinedMetricWarning: Precision and F-score are ill-defined and being set to 0.0 in samples with no predicted labels. Use `zero_division` parameter to control this behavior.\n",
      "  _warn_prf(average, modifier, msg_start, len(result))\n"
     ]
    },
    {
     "data": {
      "text/plain": [
       "0.7131281369051219"
      ]
     },
     "execution_count": 35,
     "metadata": {},
     "output_type": "execute_result"
    }
   ],
   "source": [
    "# Summarize model performance\n",
    "def evaluate_model(y_test, preds):\n",
    "    '''prints a lot of model evaluation metrics, returns accuracy'''\n",
    "    # ROC-AUC is useful -- but for smaller subsets (e.g., 10k), the model tends predict less common\n",
    "    # chart types zero times, and in that case AUC can't be computed.\n",
    "    try:\n",
    "        print('\\nArea Under the Curve: {:.2f}\\n'.format(roc_auc_score(y_test, preds)))\n",
    "    except ValueError:\n",
    "        pass\n",
    "\n",
    "    print('Accuracy: {:.2f}\\n'.format(accuracy_score(y_test, preds)))\n",
    "\n",
    "    print('Micro Precision: {:.2f}'.format(precision_score(y_test, preds, average='micro')))\n",
    "    print('Micro Recall: {:.2f}'.format(recall_score(y_test, preds, average='micro')))\n",
    "    print('Micro F1-score: {:.2f}\\n'.format(f1_score(y_test, preds, average='micro')))\n",
    "\n",
    "    print('Macro Precision: {:.2f}'.format(precision_score(y_test, preds, average='macro')))\n",
    "    print('Macro Recall: {:.2f}'.format(recall_score(y_test, preds, average='macro')))\n",
    "    print('Macro F1-score: {:.2f}\\n'.format(f1_score(y_test, preds, average='macro')))\n",
    "\n",
    "    print('Weighted Precision: {:.2f}'.format(precision_score(y_test, preds, average='weighted')))\n",
    "    print('Weighted Recall: {:.2f}'.format(recall_score(y_test, preds, average='weighted')))\n",
    "    print('Weighted F1-score: {:.2f}'.format(f1_score(y_test, preds, average='weighted')))\n",
    "\n",
    "    from sklearn.metrics import classification_report\n",
    "    print('\\nClassification Report\\n')\n",
    "    print(classification_report(y_test, preds, target_names=chart_names))\n",
    "    \n",
    "    return accuracy_score(y_test, preds) \n",
    "\n",
    "evaluate_model(y_test, preds)"
   ]
  },
  {
   "cell_type": "code",
   "execution_count": 36,
   "metadata": {},
   "outputs": [
    {
     "name": "stdout",
     "output_type": "stream",
     "text": [
      "Confusion Matrix\n",
      "\n",
      "[[1053    2    0    5   73    0    0   55    0]\n",
      " [ 381 1589    2   60   11    0    0   12    0]\n",
      " [ 126    0  337    1    1    0    0    3    0]\n",
      " [ 188   51    0  875    6    0    0    8    0]\n",
      " [1034    8    0    7 4783    0    0  374    0]\n",
      " [  66    1    0    1    0   70    0    0    0]\n",
      " [   9    0    0    0    0    0   49    0    0]\n",
      " [1176   13    0   10  500    0    0 3570    0]\n",
      " [  18    0    0    0    0    0    0    0    9]]\n"
     ]
    }
   ],
   "source": [
    "# confusion matrix\n",
    "confusion = confusion_matrix(\n",
    "    y_test.idxmax(1), preds.idxmax(1))\n",
    "print('Confusion Matrix\\n')\n",
    "print(confusion)"
   ]
  },
  {
   "cell_type": "code",
   "execution_count": 33,
   "metadata": {},
   "outputs": [],
   "source": [
    "def plot_confusion_matrix(cm, classes,\n",
    "                          normalize=False,\n",
    "                          title='Confusion matrix',\n",
    "                          cmap=plt.cm.Blues):\n",
    "    \"\"\"\n",
    "    This function prints and plots the confusion matrix.\n",
    "    Normalization can be applied by setting `normalize=True`.\n",
    "    \"\"\"\n",
    "    if normalize:\n",
    "        cm = cm.astype('float') / cm.sum(axis=1)[:, np.newaxis]\n",
    "\n",
    "    plt.imshow(cm, interpolation='nearest', cmap=cmap)\n",
    "    plt.title(title)\n",
    "    plt.colorbar()\n",
    "    tick_marks = np.arange(len(classes))\n",
    "    plt.xticks(tick_marks, classes, rotation=45)\n",
    "    plt.yticks(tick_marks, classes)\n",
    "\n",
    "    fmt = '.2f' if normalize else 'd'\n",
    "    thresh = cm.max() / 2.\n",
    "    for i, j in itertools.product(range(cm.shape[0]), range(cm.shape[1])):\n",
    "        plt.text(j, i, format(cm[i, j], fmt),\n",
    "                 horizontalalignment=\"center\",\n",
    "                 color=\"white\" if cm[i, j] > thresh else \"black\")\n",
    "\n",
    "    plt.tight_layout()\n",
    "    plt.ylabel('True label')\n",
    "    plt.xlabel('Predicted label')"
   ]
  },
  {
   "cell_type": "code",
   "execution_count": 34,
   "metadata": {},
   "outputs": [
    {
     "data": {
      "image/png": "[encoded data removed]",
      "text/plain": [
       "<Figure size 864x720 with 2 Axes>"
      ]
     },
     "metadata": {
      "needs_background": "light"
     },
     "output_type": "display_data"
    }
   ],
   "source": [
    "# draw confusion matrix\n",
    "fig, ax = plt.subplots(figsize = (12,10))\n",
    "plot_confusion_matrix(confusion, chart_names, normalize=True)"
   ]
  },
  {
   "cell_type": "code",
   "execution_count": null,
   "metadata": {},
   "outputs": [],
   "source": []
  },
  {
   "cell_type": "code",
   "execution_count": null,
   "metadata": {},
   "outputs": [],
   "source": []
  },
  {
   "cell_type": "code",
   "execution_count": null,
   "metadata": {},
   "outputs": [],
   "source": []
  },
  {
   "cell_type": "code",
   "execution_count": null,
   "metadata": {},
   "outputs": [],
   "source": []
  },
  {
   "cell_type": "markdown",
   "metadata": {},
   "source": [
    "### Train and evaluate selected model on full data set"
   ]
  },
  {
   "cell_type": "code",
   "execution_count": 50,
   "metadata": {},
   "outputs": [
    {
     "name": "stdout",
     "output_type": "stream",
     "text": [
      "(755211, 846) (133273, 846)\n"
     ]
    }
   ],
   "source": [
    "# re-load full data set, split into train and test sets\n",
    "df = df_full # uncomment this one to run everything on the full data set of 888k+ charts\n",
    "# features data frame without ids or chart type labels\n",
    "features = df.iloc[:,2:]\n",
    "features.drop('labels', axis=1, inplace=True)\n",
    "# one-hot encode labels\n",
    "labels = pd.get_dummies(df['labels'])\n",
    "# save a list of column labels for later\n",
    "chart_names = labels.columns\n",
    "# split train and test data\n",
    "X_train, X_test, y_train, y_test = train_test_split(features, labels, test_size=.15)\n",
    "print(X_train.shape, X_test.shape) # to make sure they are what we expect"
   ]
  },
  {
   "cell_type": "code",
   "execution_count": 51,
   "metadata": {},
   "outputs": [],
   "source": [
    "# define model using best params from above grid search\n",
    "model = best_estimator\n",
    "# Fit on training data\n",
    "model.fit(X_train, y_train)\n",
    "# predictions \n",
    "y_pred = model.predict(X_test)\n",
    "# probabilities for each class\n",
    "probs = model.predict_proba(X_test)\n",
    "# predicitons as a data frame with chart labels\n",
    "preds = pd.DataFrame(y_pred)\n",
    "chart_names = labels.columns.tolist()\n",
    "preds.columns = chart_names"
   ]
  },
  {
   "cell_type": "code",
   "execution_count": 52,
   "metadata": {},
   "outputs": [
    {
     "name": "stdout",
     "output_type": "stream",
     "text": [
      "\n",
      "Area Under the Curve: 0.90\n",
      "\n",
      "Accuracy: 0.85\n",
      "\n",
      "Micro Precision: 0.94\n",
      "Micro Recall: 0.85\n",
      "Micro F1-score: 0.89\n",
      "\n",
      "Macro Precision: 0.97\n",
      "Macro Recall: 0.81\n",
      "Macro F1-score: 0.87\n",
      "\n",
      "Weighted Precision: 0.94\n",
      "Weighted Recall: 0.85\n",
      "Weighted F1-score: 0.89\n",
      "\n",
      "Classification Report\n",
      "\n",
      "              precision    recall  f1-score   support\n",
      "\n",
      "         bar       0.93      0.79      0.86     18623\n",
      "         box       0.97      0.82      0.89      7308\n",
      "     heatmap       1.00      0.80      0.89      1879\n",
      "   histogram       0.93      0.84      0.88      4421\n",
      "        line       0.96      0.87      0.91     54623\n",
      "         pie       0.98      0.92      0.95      3879\n",
      "      sankey       1.00      0.90      0.95       120\n",
      "     scatter       0.91      0.85      0.88     42370\n",
      "       table       1.00      0.48      0.65        50\n",
      "\n",
      "   micro avg       0.94      0.85      0.89    133273\n",
      "   macro avg       0.97      0.81      0.87    133273\n",
      "weighted avg       0.94      0.85      0.89    133273\n",
      " samples avg       0.85      0.85      0.85    133273\n",
      "\n"
     ]
    },
    {
     "name": "stderr",
     "output_type": "stream",
     "text": [
      "/Users/devon/opt/anaconda3/lib/python3.7/site-packages/sklearn/metrics/_classification.py:1272: UndefinedMetricWarning: Precision and F-score are ill-defined and being set to 0.0 in samples with no predicted labels. Use `zero_division` parameter to control this behavior.\n",
      "  _warn_prf(average, modifier, msg_start, len(result))\n"
     ]
    },
    {
     "data": {
      "text/plain": [
       "0.8501571961312494"
      ]
     },
     "execution_count": 52,
     "metadata": {},
     "output_type": "execute_result"
    }
   ],
   "source": [
    "# evaluate\n",
    "evaluate_model(y_test, preds)"
   ]
  },
  {
   "cell_type": "code",
   "execution_count": 61,
   "metadata": {},
   "outputs": [],
   "source": [
    "# confusion matrix\n",
    "confusion = confusion_matrix(\n",
    "    y_test.idxmax(1), preds.idxmax(1))"
   ]
  },
  {
   "cell_type": "code",
   "execution_count": 68,
   "metadata": {},
   "outputs": [],
   "source": [
    "def plot_confusion_matrix(cm, classes,\n",
    "                          normalize=False,\n",
    "                          title='Confusion matrix',\n",
    "                          cmap=plt.cm.Blues):\n",
    "    \"\"\"\n",
    "    This function prints and plots the confusion matrix.\n",
    "    Normalization can be applied by setting `normalize=True`.\n",
    "    \"\"\"\n",
    "    if normalize:\n",
    "        cm = cm.astype('float') / cm.sum(axis=1)[:, np.newaxis]\n",
    "\n",
    "    plt.imshow(cm, interpolation='nearest', cmap=cmap)\n",
    "    plt.title(title)\n",
    "    plt.colorbar()\n",
    "    tick_marks = np.arange(len(classes))\n",
    "    plt.xticks(tick_marks, classes, rotation=45)\n",
    "    plt.yticks(tick_marks, classes)\n",
    "\n",
    "    fmt = '.2f' if normalize else 'd'\n",
    "    thresh = cm.max() / 2.\n",
    "    for i, j in itertools.product(range(cm.shape[0]), range(cm.shape[1])):\n",
    "        plt.text(j, i, format(cm[i, j], fmt),\n",
    "                 horizontalalignment=\"center\",\n",
    "                 color=\"white\" if cm[i, j] > thresh else \"black\")\n",
    "\n",
    "    plt.tight_layout()\n",
    "    plt.ylabel('True label')\n",
    "    plt.xlabel('Predicted label')"
   ]
  },
  {
   "cell_type": "code",
   "execution_count": 71,
   "metadata": {},
   "outputs": [
    {
     "data": {
      "image/png": "[encoded data removed]",
      "text/plain": [
       "<Figure size 864x720 with 2 Axes>"
      ]
     },
     "metadata": {
      "needs_background": "light"
     },
     "output_type": "display_data"
    }
   ],
   "source": [
    "fig, ax = plt.subplots(figsize = (12,10))\n",
    "plot_confusion_matrix(confusion, chart_names, normalize=True)"
   ]
  },
  {
   "cell_type": "code",
   "execution_count": 37,
   "metadata": {},
   "outputs": [],
   "source": [
    "def format_feature_importances(model, columns, limit=10):\n",
    "    importances = model.feature_importances_\n",
    "    indices = np.argsort(importances)[::-1]\n",
    "    feature_importance_table = [\n",
    "        [columns[i], importances[i]] for i in indices][:limit]\n",
    "    feature_importance_df = pd.DataFrame(\n",
    "        feature_importance_table, columns=[\n",
    "            'feature', 'importance'])\n",
    "    display(feature_importance_df)"
   ]
  },
  {
   "cell_type": "code",
   "execution_count": 38,
   "metadata": {},
   "outputs": [],
   "source": [
    "columns = features.columns.tolist()"
   ]
  },
  {
   "cell_type": "code",
   "execution_count": 39,
   "metadata": {},
   "outputs": [
    {
     "data": {
      "text/html": [
       "<div>\n",
       "<style scoped>\n",
       "    .dataframe tbody tr th:only-of-type {\n",
       "        vertical-align: middle;\n",
       "    }\n",
       "\n",
       "    .dataframe tbody tr th {\n",
       "        vertical-align: top;\n",
       "    }\n",
       "\n",
       "    .dataframe thead th {\n",
       "        text-align: right;\n",
       "    }\n",
       "</style>\n",
       "<table border=\"1\" class=\"dataframe\">\n",
       "  <thead>\n",
       "    <tr style=\"text-align: right;\">\n",
       "      <th></th>\n",
       "      <th>feature</th>\n",
       "      <th>importance</th>\n",
       "    </tr>\n",
       "  </thead>\n",
       "  <tbody>\n",
       "    <tr>\n",
       "      <th>0</th>\n",
       "      <td>y_in_name-agg-num</td>\n",
       "      <td>0.009446</td>\n",
       "    </tr>\n",
       "    <tr>\n",
       "      <th>1</th>\n",
       "      <td>y_in_name-agg-percentage</td>\n",
       "      <td>0.008403</td>\n",
       "    </tr>\n",
       "    <tr>\n",
       "      <th>2</th>\n",
       "      <td>x_in_name-agg-percentage</td>\n",
       "      <td>0.007590</td>\n",
       "    </tr>\n",
       "    <tr>\n",
       "      <th>3</th>\n",
       "      <td>length-agg-min</td>\n",
       "      <td>0.007346</td>\n",
       "    </tr>\n",
       "    <tr>\n",
       "      <th>4</th>\n",
       "      <td>x_in_name-agg-num</td>\n",
       "      <td>0.007223</td>\n",
       "    </tr>\n",
       "    <tr>\n",
       "      <th>5</th>\n",
       "      <td>number_of_words_in_name-agg-mean</td>\n",
       "      <td>0.006995</td>\n",
       "    </tr>\n",
       "    <tr>\n",
       "      <th>6</th>\n",
       "      <td>y_in_name-agg-has</td>\n",
       "      <td>0.006916</td>\n",
       "    </tr>\n",
       "    <tr>\n",
       "      <th>7</th>\n",
       "      <td>field_name_length-agg-mean</td>\n",
       "      <td>0.006693</td>\n",
       "    </tr>\n",
       "    <tr>\n",
       "      <th>8</th>\n",
       "      <td>field_name_length-agg-min</td>\n",
       "      <td>0.006574</td>\n",
       "    </tr>\n",
       "    <tr>\n",
       "      <th>9</th>\n",
       "      <td>x_in_name-agg-has</td>\n",
       "      <td>0.006310</td>\n",
       "    </tr>\n",
       "  </tbody>\n",
       "</table>\n",
       "</div>"
      ],
      "text/plain": [
       "                            feature  importance\n",
       "0                 y_in_name-agg-num    0.009446\n",
       "1          y_in_name-agg-percentage    0.008403\n",
       "2          x_in_name-agg-percentage    0.007590\n",
       "3                    length-agg-min    0.007346\n",
       "4                 x_in_name-agg-num    0.007223\n",
       "5  number_of_words_in_name-agg-mean    0.006995\n",
       "6                 y_in_name-agg-has    0.006916\n",
       "7        field_name_length-agg-mean    0.006693\n",
       "8         field_name_length-agg-min    0.006574\n",
       "9                 x_in_name-agg-has    0.006310"
      ]
     },
     "metadata": {},
     "output_type": "display_data"
    }
   ],
   "source": [
    "format_feature_importances(model, columns)"
   ]
  },
  {
   "cell_type": "code",
   "execution_count": null,
   "metadata": {},
   "outputs": [],
   "source": []
  }
 ],
 "metadata": {
  "kernelspec": {
   "display_name": "Python 3",
   "language": "python",
   "name": "python3"
  },
  "language_info": {
   "codemirror_mode": {
    "name": "ipython",
    "version": 3
   },
   "file_extension": ".py",
   "mimetype": "text/x-python",
   "name": "python",
   "nbconvert_exporter": "python",
   "pygments_lexer": "ipython3",
   "version": "3.8.3"
  }
 },
 "nbformat": 4,
 "nbformat_minor": 4
}
