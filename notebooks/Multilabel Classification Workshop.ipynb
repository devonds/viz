{
 "cells": [
  {
   "cell_type": "markdown",
   "metadata": {},
   "source": [
    "# **Introduction**\n",
    "---\n",
    "\n",
    "> **This computer vision tutorial will demonstrate how to use transfer learning with a pretrained convolutional neural network (CNN) in PyTorch (https://pytorch.org/) to perform multi-label classification with a custom dataset. It will also demonstrate how to finetune a pretrained CNN to create a feature extractor for a custom dataset. The feature extractor generates feature vectors for images that can be used in other machine learning algorithms, or used to calculate similarity between images. This tutorial will use widely-used data science and machine learning libraries: NumPy, pandas, scikit-learn, Matplotlib, PyTorch, Torchvision, and Pillow. I recommend installing these with pip in a virtual environment with Python 3.7 (https://docs.python.org/3.7/tutorial/venv.html):**\n",
    "\n",
    "> `pip install numpy pandas scikit-learn matplotlib torch torchvision Pillow`\n",
    "\n",
    "> **This tutorial will focus on practical aspects of getting a custom dataset ready for training and inference, and will not attempt to explain computer vision theory or the mathematics underlying CNNs. For a detailed overview of computer vision I recommend watching the lectures of the University of Washington course taught by Joseph Redmon (creator of the YOLO object detection algorithm) when he was a graduate student, https://www.youtube.com/playlist?list=PLjMXczUzEYcHvw5YYSU92WrY8IwhTuq7p. For a detailed overview of CNNs I recommend watching the lectures of Stanford's CS231n course, https://www.youtube.com/playlist?list=PL3FW7Lu3i5JvHM8ljYj-zLfQRF3EO8sYv. If you are interested in a mathematical understanding of neural networks, I recommend this book written by Ian Goodfellow (creator of Generative Adversarial Networks) and Yoshua Bengio (one of the founders of deep learning), https://www.deeplearningbook.org/**"
   ]
  },
  {
   "cell_type": "code",
   "execution_count": 1,
   "metadata": {},
   "outputs": [],
   "source": [
    "import os\n",
    "import copy\n",
    "import time\n",
    "import datetime\n",
    "import numpy as np\n",
    "import pandas as pd\n",
    "from sklearn.model_selection import train_test_split\n",
    "from sklearn.metrics import roc_auc_score\n",
    "import torch\n",
    "import torchvision\n",
    "from torchvision import transforms as T\n",
    "import matplotlib.pyplot as plt\n",
    "from PIL import Image"
   ]
  },
  {
   "cell_type": "markdown",
   "metadata": {},
   "source": [
    "## **Table of Contents**\n",
    "---\n",
    "1. [Organize dataset](#1)<br>\n",
    "    1.1 [Importing and cleaning data](#1p1)<br>\n",
    "    1.2 [One-hot encoding labels](#1p2)<br>\n",
    "    1.3 [Create train, validation, and test sets](#1p3)<br>\n",
    "2. [Prepare data for CNN](#2)<br>\n",
    "    2.1 [PyTorch dataset class](#2p1)<br>\n",
    "    2.2 [Image Transformations](#2p2)<br>\n",
    "    2.3 [Image Augmentation](#2p3)<br>\n",
    "3. [Training a new multi-label clasifier with a pretrained model](#3)<br>\n",
    "    3.1 [Evaluation metric: AUC](#3p1)<br>\n",
    "    3.2 [Set up model and training parameters](#3p2)<br>\n",
    "    3.3 [Define train, test and fit functions](#3p3)<br>\n",
    "    3.4 [Evaluate trained model](#3p4)<br>\n",
    "4. [Fine-tune a pretrained model](#4)<br>\n",
    "5. [Model inference](#5)<br>"
   ]
  },
  {
   "cell_type": "markdown",
   "metadata": {},
   "source": [
    "<a id='1'></a>\n",
    "# **1. Organize Dataset**\n",
    "---\n",
    "\n",
    "> **In this tutorial I will be using a fashion dataset available on Kaggle (https://www.kaggle.com/paramaggarwal/fashion-product-images-dataset). This dataset contains ~44K images with associated labels such as category (ex. Apparel, Accessories), article type (ex. Shirts, Jeans), usage (ex. Casual, Formal) and color. There are some errors and null values in the dataset, so I will demonstrate how to use pandas (https://pandas.pydata.org) to clean up the data and format it for input into a CNN.**"
   ]
  },
  {
   "cell_type": "markdown",
   "metadata": {},
   "source": [
    "<a id='1p1'></a>\n",
    "## **1.1 Importing and cleaning data**\n",
    "---\n",
    "\n",
    "> **The styles.csv file contains one row for every image in the dataset, with the columns corresponding to the image ID and 9 categorical labels for the image. This csv file can be read using the `read_csv()` function in pandas. There are some poorly formatted lines in the the csv, so setting the `error_bad_lines` parameters to `False` will skip these lines. Loading the csv in pandas creates a *dataframe*, the primary data structure used in pandas, and is similar to a spreadsheet or SQL table.**"
   ]
  },
  {
   "cell_type": "code",
   "execution_count": 62,
   "metadata": {},
   "outputs": [
    {
     "name": "stdout",
     "output_type": "stream",
     "text": [
      "Num Rows: 44424\n"
     ]
    }
   ],
   "source": [
    "# Read in .csv as pandas dataframe.\n",
    "# Set error_bad_lines=False to skip incorrectly formatted rows.\n",
    "# Set warn_bad_lines=False to stop printing a warning every time a line is skipped.\n",
    "csv_path = 'C:/Users/matth/Documents/fashion_product_dataset/data/styles.csv'\n",
    "style_df = pd.read_csv(csv_path, error_bad_lines=False, warn_bad_lines=False)\n",
    "print(f'Num Rows: {len(style_df)}')"
   ]
  },
  {
   "cell_type": "markdown",
   "metadata": {},
   "source": [
    "> **There are 44424 items in our dataset, let's see what the data looks like by using the pandas function `head()` to return the first 5 rows of the dataframe.**"
   ]
  },
  {
   "cell_type": "code",
   "execution_count": 63,
   "metadata": {},
   "outputs": [
    {
     "data": {
      "text/html": [
       "<div>\n",
       "<style scoped>\n",
       "    .dataframe tbody tr th:only-of-type {\n",
       "        vertical-align: middle;\n",
       "    }\n",
       "\n",
       "    .dataframe tbody tr th {\n",
       "        vertical-align: top;\n",
       "    }\n",
       "\n",
       "    .dataframe thead th {\n",
       "        text-align: right;\n",
       "    }\n",
       "</style>\n",
       "<table border=\"1\" class=\"dataframe\">\n",
       "  <thead>\n",
       "    <tr style=\"text-align: right;\">\n",
       "      <th></th>\n",
       "      <th>id</th>\n",
       "      <th>gender</th>\n",
       "      <th>masterCategory</th>\n",
       "      <th>subCategory</th>\n",
       "      <th>articleType</th>\n",
       "      <th>baseColour</th>\n",
       "      <th>season</th>\n",
       "      <th>year</th>\n",
       "      <th>usage</th>\n",
       "      <th>productDisplayName</th>\n",
       "    </tr>\n",
       "  </thead>\n",
       "  <tbody>\n",
       "    <tr>\n",
       "      <th>0</th>\n",
       "      <td>15970</td>\n",
       "      <td>Men</td>\n",
       "      <td>Apparel</td>\n",
       "      <td>Topwear</td>\n",
       "      <td>Shirts</td>\n",
       "      <td>Navy Blue</td>\n",
       "      <td>Fall</td>\n",
       "      <td>2011.0</td>\n",
       "      <td>Casual</td>\n",
       "      <td>Turtle Check Men Navy Blue Shirt</td>\n",
       "    </tr>\n",
       "    <tr>\n",
       "      <th>1</th>\n",
       "      <td>39386</td>\n",
       "      <td>Men</td>\n",
       "      <td>Apparel</td>\n",
       "      <td>Bottomwear</td>\n",
       "      <td>Jeans</td>\n",
       "      <td>Blue</td>\n",
       "      <td>Summer</td>\n",
       "      <td>2012.0</td>\n",
       "      <td>Casual</td>\n",
       "      <td>Peter England Men Party Blue Jeans</td>\n",
       "    </tr>\n",
       "    <tr>\n",
       "      <th>2</th>\n",
       "      <td>59263</td>\n",
       "      <td>Women</td>\n",
       "      <td>Accessories</td>\n",
       "      <td>Watches</td>\n",
       "      <td>Watches</td>\n",
       "      <td>Silver</td>\n",
       "      <td>Winter</td>\n",
       "      <td>2016.0</td>\n",
       "      <td>Casual</td>\n",
       "      <td>Titan Women Silver Watch</td>\n",
       "    </tr>\n",
       "    <tr>\n",
       "      <th>3</th>\n",
       "      <td>21379</td>\n",
       "      <td>Men</td>\n",
       "      <td>Apparel</td>\n",
       "      <td>Bottomwear</td>\n",
       "      <td>Track Pants</td>\n",
       "      <td>Black</td>\n",
       "      <td>Fall</td>\n",
       "      <td>2011.0</td>\n",
       "      <td>Casual</td>\n",
       "      <td>Manchester United Men Solid Black Track Pants</td>\n",
       "    </tr>\n",
       "    <tr>\n",
       "      <th>4</th>\n",
       "      <td>53759</td>\n",
       "      <td>Men</td>\n",
       "      <td>Apparel</td>\n",
       "      <td>Topwear</td>\n",
       "      <td>Tshirts</td>\n",
       "      <td>Grey</td>\n",
       "      <td>Summer</td>\n",
       "      <td>2012.0</td>\n",
       "      <td>Casual</td>\n",
       "      <td>Puma Men Grey T-shirt</td>\n",
       "    </tr>\n",
       "  </tbody>\n",
       "</table>\n",
       "</div>"
      ],
      "text/plain": [
       "      id gender masterCategory subCategory  articleType baseColour  season  \\\n",
       "0  15970    Men        Apparel     Topwear       Shirts  Navy Blue    Fall   \n",
       "1  39386    Men        Apparel  Bottomwear        Jeans       Blue  Summer   \n",
       "2  59263  Women    Accessories     Watches      Watches     Silver  Winter   \n",
       "3  21379    Men        Apparel  Bottomwear  Track Pants      Black    Fall   \n",
       "4  53759    Men        Apparel     Topwear      Tshirts       Grey  Summer   \n",
       "\n",
       "     year   usage                             productDisplayName  \n",
       "0  2011.0  Casual               Turtle Check Men Navy Blue Shirt  \n",
       "1  2012.0  Casual             Peter England Men Party Blue Jeans  \n",
       "2  2016.0  Casual                       Titan Women Silver Watch  \n",
       "3  2011.0  Casual  Manchester United Men Solid Black Track Pants  \n",
       "4  2012.0  Casual                          Puma Men Grey T-shirt  "
      ]
     },
     "execution_count": 63,
     "metadata": {},
     "output_type": "execute_result"
    }
   ],
   "source": [
    "style_df.head()"
   ]
  },
  {
   "cell_type": "markdown",
   "metadata": {},
   "source": [
    "> **Machine learning algorithms cannot handle null (empty) values, so lets check if there are any null values in the labels.**"
   ]
  },
  {
   "cell_type": "code",
   "execution_count": 64,
   "metadata": {},
   "outputs": [
    {
     "data": {
      "text/plain": [
       "id                      0\n",
       "gender                  0\n",
       "masterCategory          0\n",
       "subCategory             0\n",
       "articleType             0\n",
       "baseColour             15\n",
       "season                 21\n",
       "year                    1\n",
       "usage                 317\n",
       "productDisplayName      7\n",
       "dtype: int64"
      ]
     },
     "execution_count": 64,
     "metadata": {},
     "output_type": "execute_result"
    }
   ],
   "source": [
    "style_df.isnull().sum()"
   ]
  },
  {
   "cell_type": "markdown",
   "metadata": {},
   "source": [
    "> **There are indeed null values in data. We will need to either remove these, or replace them with real values. There are relatively few null values in this dataset, so in this tutorial we will simply remove any row that contains a null value in any of its columns. pandas has a guide on how to deal with missing data (https://pandas.pydata.org/pandas-docs/stable/user_guide/missing_data.html), and scikit-learn has a guide on how to impute (infer from the rest of the data) missing values (https://scikit-learn.org/stable/modules/impute.html)**"
   ]
  },
  {
   "cell_type": "code",
   "execution_count": 65,
   "metadata": {},
   "outputs": [
    {
     "name": "stdout",
     "output_type": "stream",
     "text": [
      "Num Rows after dropping null: 44077\n"
     ]
    }
   ],
   "source": [
    "# Inplace-drop any row (axis='index') that has at least one null value in any of it's columns (how='any')\n",
    "style_df.dropna(axis='index', how='any', inplace=True)\n",
    "print(f'Num Rows after dropping null: {len(style_df)}')"
   ]
  },
  {
   "cell_type": "markdown",
   "metadata": {},
   "source": [
    "> **347 items were removed after dropping rows with null values. This is less than 1% of the data, so simply removing these rows is likely a viable strategy for this dataset.**"
   ]
  },
  {
   "cell_type": "markdown",
   "metadata": {},
   "source": [
    "<a id='1p2'></a>\n",
    "## **1.2 One-hot encoding labels**\n",
    "---\n",
    "> **The labels in this dataset are categorical, but machine learning algorithms require labels to be numerical. One way of encoding categorial features is called one-hot encoding, where a positive instance of a label is given the value 1, otherwise its value is 0. Note that there are also other methods of encoding categorial labels (https://scikit-learn.org/stable/modules/preprocessing.html#encoding-categorical-features). The pandas function `describe()` can be used to see how many unique labels are in each of the categories (columns) of our dataset.**"
   ]
  },
  {
   "cell_type": "code",
   "execution_count": 6,
   "metadata": {},
   "outputs": [
    {
     "data": {
      "text/html": [
       "<div>\n",
       "<style scoped>\n",
       "    .dataframe tbody tr th:only-of-type {\n",
       "        vertical-align: middle;\n",
       "    }\n",
       "\n",
       "    .dataframe tbody tr th {\n",
       "        vertical-align: top;\n",
       "    }\n",
       "\n",
       "    .dataframe thead th {\n",
       "        text-align: right;\n",
       "    }\n",
       "</style>\n",
       "<table border=\"1\" class=\"dataframe\">\n",
       "  <thead>\n",
       "    <tr style=\"text-align: right;\">\n",
       "      <th></th>\n",
       "      <th>gender</th>\n",
       "      <th>masterCategory</th>\n",
       "      <th>subCategory</th>\n",
       "      <th>articleType</th>\n",
       "      <th>baseColour</th>\n",
       "      <th>season</th>\n",
       "      <th>usage</th>\n",
       "      <th>productDisplayName</th>\n",
       "    </tr>\n",
       "  </thead>\n",
       "  <tbody>\n",
       "    <tr>\n",
       "      <th>count</th>\n",
       "      <td>44077</td>\n",
       "      <td>44077</td>\n",
       "      <td>44077</td>\n",
       "      <td>44077</td>\n",
       "      <td>44077</td>\n",
       "      <td>44077</td>\n",
       "      <td>44077</td>\n",
       "      <td>44077</td>\n",
       "    </tr>\n",
       "    <tr>\n",
       "      <th>unique</th>\n",
       "      <td>5</td>\n",
       "      <td>7</td>\n",
       "      <td>45</td>\n",
       "      <td>142</td>\n",
       "      <td>46</td>\n",
       "      <td>4</td>\n",
       "      <td>8</td>\n",
       "      <td>30806</td>\n",
       "    </tr>\n",
       "    <tr>\n",
       "      <th>top</th>\n",
       "      <td>Men</td>\n",
       "      <td>Apparel</td>\n",
       "      <td>Topwear</td>\n",
       "      <td>Tshirts</td>\n",
       "      <td>Black</td>\n",
       "      <td>Summer</td>\n",
       "      <td>Casual</td>\n",
       "      <td>Lucera Women Silver Earrings</td>\n",
       "    </tr>\n",
       "    <tr>\n",
       "      <th>freq</th>\n",
       "      <td>22109</td>\n",
       "      <td>21366</td>\n",
       "      <td>15387</td>\n",
       "      <td>7066</td>\n",
       "      <td>9700</td>\n",
       "      <td>21440</td>\n",
       "      <td>34397</td>\n",
       "      <td>82</td>\n",
       "    </tr>\n",
       "  </tbody>\n",
       "</table>\n",
       "</div>"
      ],
      "text/plain": [
       "       gender masterCategory subCategory articleType baseColour  season  \\\n",
       "count   44077          44077       44077       44077      44077   44077   \n",
       "unique      5              7          45         142         46       4   \n",
       "top       Men        Apparel     Topwear     Tshirts      Black  Summer   \n",
       "freq    22109          21366       15387        7066       9700   21440   \n",
       "\n",
       "         usage            productDisplayName  \n",
       "count    44077                         44077  \n",
       "unique       8                         30806  \n",
       "top     Casual  Lucera Women Silver Earrings  \n",
       "freq     34397                            82  "
      ]
     },
     "execution_count": 6,
     "metadata": {},
     "output_type": "execute_result"
    }
   ],
   "source": [
    "style_df.describe(include=np.object) # use include=np.object to get categorical data, include=np.number to get numeric data"
   ]
  },
  {
   "cell_type": "markdown",
   "metadata": {},
   "source": [
    "> **Here we can see the column masterCategory has 7 unique labels, with the top label being *apparel* with a frequency of 21366/44077 items. Let's look at the names of the unique labels in *masterCategory***"
   ]
  },
  {
   "cell_type": "code",
   "execution_count": 7,
   "metadata": {},
   "outputs": [
    {
     "name": "stdout",
     "output_type": "stream",
     "text": [
      "['Apparel' 'Accessories' 'Footwear' 'Personal Care' 'Free Items'\n",
      " 'Sporting Goods' 'Home']\n"
     ]
    }
   ],
   "source": [
    "print(style_df.masterCategory.unique())"
   ]
  },
  {
   "cell_type": "markdown",
   "metadata": {},
   "source": [
    "> **In this tutorial, we will train a CNN to predict style aspects of an item. The categories season and year will not be very useful here because they do not describe the style content of the item in the image. Similarly *productDisplayName* is too complicated to one-hot encode in its current state (note that there are 30806 unique labels), though NLP techniques could potentially be used to simplify it. We will therefore exclude these three columns from from one-hot encoding. pandas has a handy `get_dummies()` function that will one-hot encode selected columns.**"
   ]
  },
  {
   "cell_type": "code",
   "execution_count": 8,
   "metadata": {},
   "outputs": [],
   "source": [
    "one_hot_categories = ['gender', 'masterCategory', 'subCategory', 'articleType', 'baseColour', 'usage'] # Choose which columns to one-hot encode\n",
    "one_hot_df = pd.get_dummies(style_df, columns=one_hot_categories)                                      # One-hot encode the columns\n",
    "one_hot_df.drop(labels=['season', 'year', 'productDisplayName'], axis='columns', inplace=True)         # Drop columns we are not interested in using"
   ]
  },
  {
   "cell_type": "markdown",
   "metadata": {},
   "source": [
    "> **Let's see what the one-hot encoded data looks like**"
   ]
  },
  {
   "cell_type": "code",
   "execution_count": 9,
   "metadata": {},
   "outputs": [
    {
     "data": {
      "text/html": [
       "<div>\n",
       "<style scoped>\n",
       "    .dataframe tbody tr th:only-of-type {\n",
       "        vertical-align: middle;\n",
       "    }\n",
       "\n",
       "    .dataframe tbody tr th {\n",
       "        vertical-align: top;\n",
       "    }\n",
       "\n",
       "    .dataframe thead th {\n",
       "        text-align: right;\n",
       "    }\n",
       "</style>\n",
       "<table border=\"1\" class=\"dataframe\">\n",
       "  <thead>\n",
       "    <tr style=\"text-align: right;\">\n",
       "      <th></th>\n",
       "      <th>id</th>\n",
       "      <th>gender_Boys</th>\n",
       "      <th>gender_Girls</th>\n",
       "      <th>gender_Men</th>\n",
       "      <th>gender_Unisex</th>\n",
       "      <th>gender_Women</th>\n",
       "      <th>masterCategory_Accessories</th>\n",
       "      <th>masterCategory_Apparel</th>\n",
       "      <th>masterCategory_Footwear</th>\n",
       "      <th>masterCategory_Free Items</th>\n",
       "      <th>...</th>\n",
       "      <th>baseColour_White</th>\n",
       "      <th>baseColour_Yellow</th>\n",
       "      <th>usage_Casual</th>\n",
       "      <th>usage_Ethnic</th>\n",
       "      <th>usage_Formal</th>\n",
       "      <th>usage_Home</th>\n",
       "      <th>usage_Party</th>\n",
       "      <th>usage_Smart Casual</th>\n",
       "      <th>usage_Sports</th>\n",
       "      <th>usage_Travel</th>\n",
       "    </tr>\n",
       "  </thead>\n",
       "  <tbody>\n",
       "    <tr>\n",
       "      <th>0</th>\n",
       "      <td>15970</td>\n",
       "      <td>0</td>\n",
       "      <td>0</td>\n",
       "      <td>1</td>\n",
       "      <td>0</td>\n",
       "      <td>0</td>\n",
       "      <td>0</td>\n",
       "      <td>1</td>\n",
       "      <td>0</td>\n",
       "      <td>0</td>\n",
       "      <td>...</td>\n",
       "      <td>0</td>\n",
       "      <td>0</td>\n",
       "      <td>1</td>\n",
       "      <td>0</td>\n",
       "      <td>0</td>\n",
       "      <td>0</td>\n",
       "      <td>0</td>\n",
       "      <td>0</td>\n",
       "      <td>0</td>\n",
       "      <td>0</td>\n",
       "    </tr>\n",
       "    <tr>\n",
       "      <th>1</th>\n",
       "      <td>39386</td>\n",
       "      <td>0</td>\n",
       "      <td>0</td>\n",
       "      <td>1</td>\n",
       "      <td>0</td>\n",
       "      <td>0</td>\n",
       "      <td>0</td>\n",
       "      <td>1</td>\n",
       "      <td>0</td>\n",
       "      <td>0</td>\n",
       "      <td>...</td>\n",
       "      <td>0</td>\n",
       "      <td>0</td>\n",
       "      <td>1</td>\n",
       "      <td>0</td>\n",
       "      <td>0</td>\n",
       "      <td>0</td>\n",
       "      <td>0</td>\n",
       "      <td>0</td>\n",
       "      <td>0</td>\n",
       "      <td>0</td>\n",
       "    </tr>\n",
       "    <tr>\n",
       "      <th>2</th>\n",
       "      <td>59263</td>\n",
       "      <td>0</td>\n",
       "      <td>0</td>\n",
       "      <td>0</td>\n",
       "      <td>0</td>\n",
       "      <td>1</td>\n",
       "      <td>1</td>\n",
       "      <td>0</td>\n",
       "      <td>0</td>\n",
       "      <td>0</td>\n",
       "      <td>...</td>\n",
       "      <td>0</td>\n",
       "      <td>0</td>\n",
       "      <td>1</td>\n",
       "      <td>0</td>\n",
       "      <td>0</td>\n",
       "      <td>0</td>\n",
       "      <td>0</td>\n",
       "      <td>0</td>\n",
       "      <td>0</td>\n",
       "      <td>0</td>\n",
       "    </tr>\n",
       "    <tr>\n",
       "      <th>3</th>\n",
       "      <td>21379</td>\n",
       "      <td>0</td>\n",
       "      <td>0</td>\n",
       "      <td>1</td>\n",
       "      <td>0</td>\n",
       "      <td>0</td>\n",
       "      <td>0</td>\n",
       "      <td>1</td>\n",
       "      <td>0</td>\n",
       "      <td>0</td>\n",
       "      <td>...</td>\n",
       "      <td>0</td>\n",
       "      <td>0</td>\n",
       "      <td>1</td>\n",
       "      <td>0</td>\n",
       "      <td>0</td>\n",
       "      <td>0</td>\n",
       "      <td>0</td>\n",
       "      <td>0</td>\n",
       "      <td>0</td>\n",
       "      <td>0</td>\n",
       "    </tr>\n",
       "    <tr>\n",
       "      <th>4</th>\n",
       "      <td>53759</td>\n",
       "      <td>0</td>\n",
       "      <td>0</td>\n",
       "      <td>1</td>\n",
       "      <td>0</td>\n",
       "      <td>0</td>\n",
       "      <td>0</td>\n",
       "      <td>1</td>\n",
       "      <td>0</td>\n",
       "      <td>0</td>\n",
       "      <td>...</td>\n",
       "      <td>0</td>\n",
       "      <td>0</td>\n",
       "      <td>1</td>\n",
       "      <td>0</td>\n",
       "      <td>0</td>\n",
       "      <td>0</td>\n",
       "      <td>0</td>\n",
       "      <td>0</td>\n",
       "      <td>0</td>\n",
       "      <td>0</td>\n",
       "    </tr>\n",
       "  </tbody>\n",
       "</table>\n",
       "<p>5 rows × 254 columns</p>\n",
       "</div>"
      ],
      "text/plain": [
       "      id  gender_Boys  gender_Girls  gender_Men  gender_Unisex  gender_Women  \\\n",
       "0  15970            0             0           1              0             0   \n",
       "1  39386            0             0           1              0             0   \n",
       "2  59263            0             0           0              0             1   \n",
       "3  21379            0             0           1              0             0   \n",
       "4  53759            0             0           1              0             0   \n",
       "\n",
       "   masterCategory_Accessories  masterCategory_Apparel  \\\n",
       "0                           0                       1   \n",
       "1                           0                       1   \n",
       "2                           1                       0   \n",
       "3                           0                       1   \n",
       "4                           0                       1   \n",
       "\n",
       "   masterCategory_Footwear  masterCategory_Free Items  ...  baseColour_White  \\\n",
       "0                        0                          0  ...                 0   \n",
       "1                        0                          0  ...                 0   \n",
       "2                        0                          0  ...                 0   \n",
       "3                        0                          0  ...                 0   \n",
       "4                        0                          0  ...                 0   \n",
       "\n",
       "   baseColour_Yellow  usage_Casual  usage_Ethnic  usage_Formal  usage_Home  \\\n",
       "0                  0             1             0             0           0   \n",
       "1                  0             1             0             0           0   \n",
       "2                  0             1             0             0           0   \n",
       "3                  0             1             0             0           0   \n",
       "4                  0             1             0             0           0   \n",
       "\n",
       "   usage_Party  usage_Smart Casual  usage_Sports  usage_Travel  \n",
       "0            0                   0             0             0  \n",
       "1            0                   0             0             0  \n",
       "2            0                   0             0             0  \n",
       "3            0                   0             0             0  \n",
       "4            0                   0             0             0  \n",
       "\n",
       "[5 rows x 254 columns]"
      ]
     },
     "execution_count": 9,
     "metadata": {},
     "output_type": "execute_result"
    }
   ],
   "source": [
    "one_hot_df.head()"
   ]
  },
  {
   "cell_type": "markdown",
   "metadata": {},
   "source": [
    "> **Now, for every unique label in each category, each item can take the value 1 or 0 depending on whether that label applies to the item. This means each label is now a 253-element one-hot encoded vector (254 columns - 1 column for the id). We can plot the sorted distribution of positive label instances to see how balanced the labels are.**"
   ]
  },
  {
   "cell_type": "code",
   "execution_count": 10,
   "metadata": {},
   "outputs": [
    {
     "data": {
      "image/png": "[encoded data removed]",
      "text/plain": [
       "<Figure size 1080x360 with 2 Axes>"
      ]
     },
     "metadata": {
      "needs_background": "light"
     },
     "output_type": "display_data"
    }
   ],
   "source": [
    "# Labels are one-hot encoded, so we can get the total number of positive instances of each label by summing the columns of the dataframe. The first column is image ID, so it will be excluded.\n",
    "num_positive_instances = one_hot_df.sum()[1:]\n",
    "\n",
    "# Plot the full distribution (left), and a zoomed-in view (right; y-axis max set to 500)\n",
    "fig, ax = plt.subplots(nrows=1, ncols=2, figsize=(15,5))\n",
    "ax[0].plot(sorted(num_positive_instances, reverse=True))\n",
    "ax[1].plot(sorted(num_positive_instances, reverse=True))\n",
    "ax[1].set_ylim([0, 500])\n",
    "for i in range(0, 2):\n",
    "    ax[i].set_ylabel('Positive Labels')\n",
    "    ax[i].set_xlabel('One-hot encoded category')\n",
    "plt.show()"
   ]
  },
  {
   "cell_type": "markdown",
   "metadata": {},
   "source": [
    "> **Looking at the plot on the left, we can see that this dataset is imbalanced: there is a skewed distribution of positive labels. This makes sense because the original dataset was organized in a hierarchical manner: there are few possible master categories (7), and many possible article types (142). Looking at the zoomed-in plot on the right, we can see that many categories in this dataset have very few positive instances, so using these categories as labels in machine learning algorithms will likely give poor results. Let's find and remove any category with fewer than 100 instances.**"
   ]
  },
  {
   "cell_type": "code",
   "execution_count": 11,
   "metadata": {},
   "outputs": [
    {
     "name": "stdout",
     "output_type": "stream",
     "text": [
      "Categories with fewer than 100 entries:\n",
      "\n",
      " masterCategory_Home, masterCategory_Sporting Goods, subCategory_Bath and Body, subCategory_Beauty Accessories, subCategory_Eyes, subCategory_Gloves, subCategory_Hair, subCategory_Home Furnishing, subCategory_Mufflers, subCategory_Perfumes, subCategory_Shoe Accessories, subCategory_Skin, subCategory_Skin Care, subCategory_Sports Accessories, subCategory_Sports Equipment, subCategory_Stoles, subCategory_Umbrellas, subCategory_Vouchers, subCategory_Water Bottle, subCategory_Wristbands, articleType_Accessory Gift Set, articleType_Baby Dolls, articleType_Bangle, articleType_Basketballs, articleType_Bath Robe, articleType_Beauty Accessory, articleType_Blazers, articleType_Body Lotion, articleType_Body Wash and Scrub, articleType_Booties, articleType_Boxers, articleType_Bracelet, articleType_Camisoles, articleType_Churidar, articleType_Clothing Set, articleType_Compact, articleType_Concealer, articleType_Cushion Covers, articleType_Duffel Bag, articleType_Eye Cream, articleType_Eyeshadow, articleType_Face Moisturisers, articleType_Face Scrub and Exfoliator, articleType_Face Serum and Gel, articleType_Face Wash and Cleanser, articleType_Footballs, articleType_Foundation and Primer, articleType_Fragrance Gift Set, articleType_Free Gifts, articleType_Gloves, articleType_Hair Accessory, articleType_Hair Colour, articleType_Hat, articleType_Headband, articleType_Highlighter and Blush, articleType_Ipad, articleType_Jeggings, articleType_Jewellery Set, articleType_Jumpsuit, articleType_Kajal and Eyeliner, articleType_Key chain, articleType_Kurta Sets, articleType_Laptop Bag, articleType_Lehenga Choli, articleType_Lip Care, articleType_Lip Liner, articleType_Lip Plumper, articleType_Lounge Pants, articleType_Lounge Shorts, articleType_Lounge Tshirts, articleType_Makeup Remover, articleType_Mascara, articleType_Mask and Peel, articleType_Mens Grooming Kit, articleType_Messenger Bag, articleType_Mobile Pouch, articleType_Mufflers, articleType_Nail Essentials, articleType_Nehru Jackets, articleType_Patiala, articleType_Rain Jacket, articleType_Robe, articleType_Rompers, articleType_Rucksacks, articleType_Salwar, articleType_Salwar and Dupatta, articleType_Shapewear, articleType_Shoe Accessories, articleType_Shoe Laces, articleType_Shrug, articleType_Sports Sandals, articleType_Stockings, articleType_Stoles, articleType_Suits, articleType_Sunscreen, articleType_Suspenders, articleType_Swimwear, articleType_Tablet Sleeve, articleType_Ties and Cufflinks, articleType_Tights, articleType_Toner, articleType_Tracksuits, articleType_Travel Accessory, articleType_Trolley Bag, articleType_Umbrellas, articleType_Waist Pouch, articleType_Waistcoat, articleType_Water Bottle, articleType_Wristbands, baseColour_Bronze, baseColour_Burgundy, baseColour_Coffee Brown, baseColour_Copper, baseColour_Fluorescent Green, baseColour_Lime Green, baseColour_Mauve, baseColour_Metallic, baseColour_Mushroom Brown, baseColour_Mustard, baseColour_Nude, baseColour_Rose, baseColour_Rust, baseColour_Sea Green, baseColour_Taupe, baseColour_Turquoise Blue, usage_Home, usage_Party, usage_Smart Casual, usage_Travel\n"
     ]
    }
   ],
   "source": [
    "min_num_entries_per_category = 100\n",
    "too_few_categories = [col for col, val in one_hot_df.sum().iteritems() if val < min_num_entries_per_category]\n",
    "print(f'Categories with fewer than {min_num_entries_per_category} entries:\\n\\n {\", \".join(too_few_categories)}')"
   ]
  },
  {
   "cell_type": "markdown",
   "metadata": {},
   "source": [
    "> **Now drop these columns**"
   ]
  },
  {
   "cell_type": "code",
   "execution_count": 12,
   "metadata": {},
   "outputs": [
    {
     "name": "stdout",
     "output_type": "stream",
     "text": [
      "Num categories: 124\n"
     ]
    }
   ],
   "source": [
    "one_hot_df.drop(too_few_categories, axis='columns', inplace=True)\n",
    "print(f'Num categories: {len(one_hot_df.columns)-1}')\n",
    "\n",
    "categories = one_hot_df.columns[1:]"
   ]
  },
  {
   "cell_type": "markdown",
   "metadata": {},
   "source": [
    "> **Dropping these columns removed 130 categories, leaving our dataframe columns as the image ID and 123 possible labels that we would like a classifier to predict.**"
   ]
  },
  {
   "cell_type": "markdown",
   "metadata": {},
   "source": [
    "<a id='1p3'></a>\n",
    "## **1.3 Create train, validation, and test sets**\n",
    "---\n",
    "> **Before we start training a model, we need to separate our data into train, validation, and test sets. First, 20% of our original dataset will be allocated to the test set, which will be used for final model evaluation. Of the remaining 80% of the data, 15% will be allocated to a validation set, which will be used during training to check for model overfitting. A more sophisticated approach would be to use cross-validation to separate the remaining 80% of the data into multiple train-val sets. It is important to *never touch the test set* until you report final model metrics. Here, we will simply randomly separate the data using scikit-learn's `train_test_split()` function. There are more sophisticated methods of separating data such as stratified sampling, where the relative frequecies of labels is kept equal between train/val/test sets (often a good idea when dealing with imbalanced data). You can read more about cross-validation and sampling methods at (https://scikit-learn.org/stable/modules/cross_validation.html)**"
   ]
  },
  {
   "cell_type": "code",
   "execution_count": 13,
   "metadata": {},
   "outputs": [
    {
     "name": "stdout",
     "output_type": "stream",
     "text": [
      "X_train: 29971, X_val: 5290, X_test: 8816, Total: 44077\n",
      "y_train: 29971, y_val: 5290, y_test: 8816, Total: 44077\n"
     ]
    }
   ],
   "source": [
    "# Convert pandas dataframe data to numpy datatypes\n",
    "X = one_hot_df['id'].to_numpy()                     # X is the image ID (the first column in the dataframe)\n",
    "y = one_hot_df[one_hot_df.columns[1:]].to_numpy()   # y is the one-hot encoded label vector (all but the first column in the dataframe)\n",
    "\n",
    "X_train, X_test, y_train, y_test = train_test_split(X, y, test_size=0.2, random_state=54)               # Create train and test sets from entire dataset\n",
    "X_train, X_val, y_train, y_val = train_test_split(X_train, y_train, test_size=0.15, random_state=45)    # Create train and val sets from train set. Here is where you could also do k-fold cross validation.\n",
    "\n",
    "print(f'X_train: {len(X_train)}, X_val: {len(X_val)}, X_test: {len(X_test)}, Total: {len(X_train)+len(X_val)+len(X_test)}')\n",
    "print(f'y_train: {len(y_train)}, y_val: {len(y_val)}, y_test: {len(y_test)}, Total: {len(y_train)+len(y_val)+len(y_test)}')"
   ]
  },
  {
   "cell_type": "markdown",
   "metadata": {},
   "source": [
    "> **Overall, 68% of the data is in the train set, 12% in the validation set, and 20% in the test set. It is now a good idea to save these splits.**"
   ]
  },
  {
   "cell_type": "code",
   "execution_count": 13,
   "metadata": {},
   "outputs": [],
   "source": [
    "np.savez('fashion_data_splits.npz',\n",
    "         X_train=X_train, y_train=y_train,\n",
    "         X_val=X_val,     y_val=y_val,\n",
    "         X_test=X_test,   y_test=y_test,\n",
    "         categories=categories)"
   ]
  },
  {
   "cell_type": "markdown",
   "metadata": {},
   "source": [
    "> **In the future, we can load the data using:**"
   ]
  },
  {
   "cell_type": "code",
   "execution_count": 14,
   "metadata": {},
   "outputs": [],
   "source": [
    "data_path = 'C:/Users/matth/Documents/fashion_product_dataset/fashion_data_splits.npz'\n",
    "data_splits = np.load(data_path, allow_pickle=True)\n",
    "X_train     = data_splits['X_train']\n",
    "y_train     = data_splits['y_train']\n",
    "X_val       = data_splits['X_val']\n",
    "y_val       = data_splits['y_val']\n",
    "X_test      = data_splits['X_test']\n",
    "y_test      = data_splits['y_test']\n",
    "categories  = data_splits['categories']"
   ]
  },
  {
   "cell_type": "code",
   "execution_count": 66,
   "metadata": {},
   "outputs": [
    {
     "data": {
      "text/plain": [
       "array([ 7595, 41231, 39309, ..., 52090,  7793, 10128], dtype=int64)"
      ]
     },
     "execution_count": 66,
     "metadata": {},
     "output_type": "execute_result"
    }
   ],
   "source": [
    "X_train"
   ]
  },
  {
   "cell_type": "markdown",
   "metadata": {},
   "source": [
    "<a id='2'></a>\n",
    "# **2. Prepare Data for CNN**\n",
    "---\n",
    "> **We now have three sets of (X, y) data, where X is a list of image IDs, and y is an array of one-hot encoded vectors. To train the CNN, we need to load and preprocess the images corresponding to the image IDs in X, pass the images through the CNN, and compare the CNN output to the labels in y. PyTorch requires data to be formatted in a special Tensor datatype, and images must be in formatted in rank-4 tensor (4 axes/dimensions) corresponding to: [batchsize, channels, height, width]. Fortunately, PyTorch comes with functions to make these data transformations easier.**"
   ]
  },
  {
   "cell_type": "markdown",
   "metadata": {},
   "source": [
    "<a id='2p1'></a>\n",
    "## **2.1 PyTorch Dataset Class**\n",
    "---\n",
    "> **PyTorch uses Dataset and DataLoader classes to help organize the flow of data into a neural network. For a custom dataset, you must write a class that inherits Dataset and overrides three functions: `__init__`, `__len__`, and `__getitem__`. Here, we will create a FashionDataset class that stores and returns the image paths and labels for any (X, y) set of data. Our X data only has image IDs, so we also provide the FashionDataset class a directory where the JPEG-formatted images are saved. We can also provide an optional transform function that will be discussed latter when we reshape, normalize, and potentially augment images. PyTorch has a nice tutorial about writing custom dataset classes https://pytorch.org/tutorials/beginner/data_loading_tutorial.html**"
   ]
  },
  {
   "cell_type": "code",
   "execution_count": 15,
   "metadata": {},
   "outputs": [],
   "source": [
    "img_dir = 'C:/Users/matth/Documents/fashion_product_dataset/data/images/'  # Define the directory where images are stored"
   ]
  },
  {
   "cell_type": "code",
   "execution_count": 16,
   "metadata": {},
   "outputs": [],
   "source": [
    "class FashionDataset(torch.utils.data.Dataset):                # Define our new class that inherits torch.utils.data.Dataset\n",
    "    def __init__(self, X, y, data_dir, transform=None):        # Creating our class requires we give it X (image ids), y (labels), data_dir (where our images are),\n",
    "                                                               #   and a transform function that resizes, normalizes, and potentially augments images (optional, so it defaults to None)\n",
    "            \n",
    "        self.img_paths = []                                    # Define an empty list where we will store the image paths corresponding to the IDs in X\n",
    "        self.labels = []                                       # Define an empty list where we will store the labels in y\n",
    "        self.transform = transform                             # Define the optional transform\n",
    "        \n",
    "        for img_id, label in zip(X, y):                        # Loop through both X and y\n",
    "            img_path = os.path.join(data_dir, f'{img_id}.jpg') # The image path is the image ID with a '.jpg' extension in the data_dir directory\n",
    "            if os.path.exists(img_path):                       # Make sure the image path actually exists first\n",
    "                self.img_paths.append(img_path)                # Add the image path to the self.img_paths list\n",
    "                label = torch.from_numpy(label)                # Convert the label in numpy format to the PyTorch Tensor format\n",
    "                self.labels.append(label)                      # Add the label to the self.labels list\n",
    "                \n",
    "    def __len__(self):\n",
    "        return len(self.img_paths)                             # Return the number of images in self.img_paths\n",
    "    \n",
    "    def __getitem__(self, i):\n",
    "        img_path = self.img_paths[i]                           # Get the image path at index i from self.img_paths\n",
    "        img = Image.open(img_path)                             # Open the image path with Pillow\n",
    "        \n",
    "        if self.transform:                                     # If a transformation function was provided,\n",
    "            img = self.transform(img)                          #   Apply a transformation to the image\n",
    "            \n",
    "        label = self.labels[i]                                 # Get the label at index i from self.labels\n",
    "        return img, label.float()                              # Return the img, and the label in floating point format"
   ]
  },
  {
   "cell_type": "markdown",
   "metadata": {},
   "source": [
    "> **An instance of our FashionDataset class is defined by passing in X, y, data_dir, and (optionally) transform. Instances of our FashionDataset class can be indexed like a list to call the function we defined in __getitem__. Here, we create an instance called `train_dataset` that returns the image and one-hot encoded label for each item in the training set.**"
   ]
  },
  {
   "cell_type": "code",
   "execution_count": 67,
   "metadata": {},
   "outputs": [
    {
     "name": "stdout",
     "output_type": "stream",
     "text": [
      "One-hot Label:\n",
      "tensor([0., 0., 0., 0., 1., 0., 0., 1., 0., 0., 0., 0., 0., 0., 0., 0., 0., 0.,\n",
      "        0., 0., 0., 0., 0., 0., 0., 0., 0., 0., 0., 0., 0., 1., 0., 0., 0., 0.,\n",
      "        0., 0., 0., 0., 0., 0., 0., 0., 0., 0., 0., 0., 0., 0., 0., 0., 0., 0.,\n",
      "        0., 0., 0., 0., 0., 0., 0., 0., 0., 0., 0., 0., 0., 0., 0., 0., 0., 0.,\n",
      "        0., 0., 0., 0., 0., 1., 0., 0., 0., 0., 0., 0., 0., 0., 0., 0., 0., 0.,\n",
      "        0., 0., 1., 0., 0., 0., 0., 0., 0., 0., 0., 0., 0., 0., 0., 0., 0., 0.,\n",
      "        0., 0., 0., 0., 0., 0., 0., 0., 0., 0., 0., 0., 0., 0., 0., 1.])\n",
      "\n",
      "Categorical Labels:\n",
      "['gender_Women', 'masterCategory_Footwear', 'subCategory_Shoes', 'articleType_Sports Shoes', 'baseColour_Blue', 'usage_Sports']\n",
      "\n",
      "Img Size:\n",
      "(1800, 2400)\n",
      "\n"
     ]
    },
    {
     "data": {
      "image/png": "[encoded data removed]",
      "text/plain": [
       "<Figure size 432x288 with 1 Axes>"
      ]
     },
     "metadata": {
      "needs_background": "light"
     },
     "output_type": "display_data"
    }
   ],
   "source": [
    "train_dataset = FashionDataset(X=X_train, y=y_train, data_dir=img_dir)   # Instantiate a training dataset with X,y training data and the img_dir defined above\n",
    "\n",
    "img, label = train_dataset[0]                                            # Accessing an index of the train_dataset instance of FashionDataset calls __getitem__, which returns an image and label\n",
    "print(f'One-hot Label:\\n{label}\\n')\n",
    "categorical_labels = [col for one_hot, col in zip(label, categories) if one_hot == 1]  # Get the names of the categories represented by 1 in the one-hot encoded label\n",
    "print(f'Categorical Labels:\\n{categorical_labels}\\n')\n",
    "print(f'Img Size:\\n{img.size}\\n')\n",
    "plt.imshow(img);"
   ]
  },
  {
   "cell_type": "markdown",
   "metadata": {},
   "source": [
    "> **We can see that the first index of `train_dataset` returns an 1800x2400 pixel image of a shoe and a one-hot encoded vector corresponding to the categories 'gender_Women', 'masterCategory_Footwear', 'subCategory_Shoes', 'articleType_Sports Shoes', 'baseColour_Blue', 'usage_Sports'. However, this image is not yet ready to be used in a CNN, first it must be resized, normalized, and converted to a PyTorch Tensor datatype. We can do this by passing an appropriate transformation function to `transform` when we instantiate the class.**"
   ]
  },
  {
   "cell_type": "markdown",
   "metadata": {},
   "source": [
    "<a id='2p2'></a>\n",
    "## **2.2 Image Transformations**\n",
    "---\n",
    "> **Torchvision is a library associated with PyTorch to provide useful functions for dealing with image data, including transforms that prepare images for a CNN. `simple_transform` here is defined as a composition of functions that resize, center crop, and convert an image to a Tensor. Note that in this tutorial the `torchvision.transforms` library has been import as `'T'`, and the transforms used in this tutorial only work on images in Pillow format (remember when we created the FashionDataset class we opened the images using the Pillow library in the `__getitem__` function).**\n",
    "\n",
    "> **WARNING: The `ToTensor()` transform not only converts an image to a PyTorch Tensor, but also scales the pixel values to floating point values between 0 and 1. Images in this dataset are RGB-formatted (the most common image format), with pixel values between 0 and 255 encoded as an unsigned 8-bit integer. `ToTensor()` converts pixel data to floating point numbers, divides by 255, and converts to Tensor. Scaling is a very important step in preprocessing images for a CNN, so in other tutorials and blog posts you may see steps where pixel values are explicitly divided by 255. `ToTensor()` already does this, so do not divide by 255 again after applying this transformation.**"
   ]
  },
  {
   "cell_type": "code",
   "execution_count": 18,
   "metadata": {},
   "outputs": [
    {
     "name": "stdout",
     "output_type": "stream",
     "text": [
      "torch.Size([3, 224, 224])\n",
      "Img Mean: 0.86\n",
      "Img Std: 0.26\n"
     ]
    },
    {
     "data": {
      "image/png": "[encoded data removed]",
      "text/plain": [
       "<Figure size 432x288 with 1 Axes>"
      ]
     },
     "metadata": {
      "needs_background": "light"
     },
     "output_type": "display_data"
    }
   ],
   "source": [
    "simple_transform = T.Compose([         # Compose a sequential list of functions\n",
    "    T.Resize(256),                     # Resize an image while maintaining aspect ratio such that the smaller edge of the image is matched to 256 pixels\n",
    "    T.CenterCrop(224),                 # Crop the image at the center such the the resulting image is a square with all sides matched to 224 pixels\n",
    "    T.ToTensor()                       # Convert the image to a Tensor and scale the pixel values to between 0 and 1.\n",
    "])\n",
    "\n",
    "train_dataset = FashionDataset(X=X_train, y=y_train, data_dir=img_dir, transform=simple_transform)  # This time provide the simple_transform function\n",
    "\n",
    "img, label = train_dataset[0]\n",
    "print(img.shape)\n",
    "plt.imshow(img.permute(1, 2, 0));       # PyTorch places the channel dimension of an image at the beginning, but matplotlib assumes the channel dimension is last,\n",
    "                                        #   so we must move the channel dimension with the permute() function in order to display the image with matplotlib.\n",
    "\n",
    "print(f'Img Mean: {img.mean():.2f}')    # Calculate the mean of the pixel values in the image\n",
    "print(f'Img Std: {img.std():.2f}')      # Calculate the standard deviation of the pixel values in the image"
   ]
  },
  {
   "cell_type": "markdown",
   "metadata": {},
   "source": [
    "> **After providing the transformation function, the image is now a 3x224x224 tensor, and is almost ready to be used in a CNN. The pretrained CNN we will use in this tutorial (ResNet-18), assumes that input images have been normalized such that the mean of the pixel values is 0 with a standard deviation of 1 (across the entire dataset). We can see above that the mean pixel value in this image is 0.86 with a standard deviation of .26, so using this unnormalized images will not give optimal results on the pretrained model. Therefore, we will calculate the mean and standard deviation of the pixel values of all the images in our dataset.**\n",
    "\n",
    "> **Note: the pretrained model we will use was trained on ImageNet, a dataset of over 14 million images. ImageNet has channel-wise mean pixel values of [0.485, 0.456, 0.406] with standard deviation [0.229, 0.224, 0.225]. It takes a long time to calculate the channel-wise mean and standard deviation of a dataset, so I have precomputed it for our fashion dataset used here: mean = [0.7969, 0.7716, 0.7642], std = [0.2562, 0.2739, 0.2792]. We can see that the mean pixel values are very different between ImageNet and out dataset. This is because the images in our dataset have backgrounds consisting of entirely white pixels (which have a value of 1), while ImageNet consists of natural images. Thus, it is very important to normalize our dataset because the distribution of pixel intensities is different than the datset that the pretrained model was trained on.**"
   ]
  },
  {
   "cell_type": "code",
   "execution_count": null,
   "metadata": {},
   "outputs": [],
   "source": [
    "# This takes a long time to run. For this dataset, the mean and std of the training set is:\n",
    "#   mean = [0.7969, 0.7716, 0.7642]\n",
    "#   std = [0.2562, 0.2739, 0.2792]\n",
    "\n",
    "mean = 0.\n",
    "std = 0.\n",
    "for img, label in train_dataset:\n",
    "    mean += img.mean([1,2])\n",
    "    std += img.std([1,2])\n",
    "mean /= len(train_dataset)\n",
    "std /= len(train_dataset)\n",
    "\n",
    "print(f'Mean: {mean}')\n",
    "print(f'Std: {std}')"
   ]
  },
  {
   "cell_type": "markdown",
   "metadata": {},
   "source": [
    "> **Now that we know the channel-wise mean and standard deviation of the images in our dataset, we can add a normalization transform to our `simple_transform` function.**"
   ]
  },
  {
   "cell_type": "code",
   "execution_count": 68,
   "metadata": {},
   "outputs": [
    {
     "name": "stderr",
     "output_type": "stream",
     "text": [
      "Clipping input data to the valid range for imshow with RGB data ([0..1] for floats or [0..255] for integers).\n"
     ]
    },
    {
     "name": "stdout",
     "output_type": "stream",
     "text": [
      "Img Mean: 0.29\n",
      "Img Std: 1.00\n"
     ]
    },
    {
     "data": {
      "image/png": "[encoded data removed]",
      "text/plain": [
       "<Figure size 432x288 with 1 Axes>"
      ]
     },
     "metadata": {
      "needs_background": "light"
     },
     "output_type": "display_data"
    }
   ],
   "source": [
    "simple_transform = T.Compose([\n",
    "    T.Resize(256),\n",
    "    T.CenterCrop(224),\n",
    "    T.ToTensor(),\n",
    "    T.Normalize(mean=[0.7969, 0.7716, 0.7642],   # Normalize an image with channel-wise means\n",
    "                std=[0.2562, 0.2739, 0.2792])    #   and standard deviations\n",
    "])\n",
    "\n",
    "train_dataset = FashionDataset(X_train, y_train, data_dir=img_dir, transform=simple_transform)\n",
    "\n",
    "img, label = train_dataset[0]\n",
    "plt.imshow(img.permute(1, 2, 0))\n",
    "print(f'Img Mean: {img.mean():.2f}')\n",
    "print(f'Img Std: {img.std():.2f}')"
   ]
  },
  {
   "cell_type": "markdown",
   "metadata": {},
   "source": [
    "> **Now the mean pixel value of our image is 0.29 with a standard deviation of 1. Note that the image does not appear normal when displayed in matplotlib because normalization makes some pixel values negative. Negative values are automatically clipped to 0 in matplotlib (as indicated by the warning message).**"
   ]
  },
  {
   "cell_type": "markdown",
   "metadata": {},
   "source": [
    "<a id='2p3'></a>\n",
    "## **2.3 Image Augmentation**\n",
    "---\n",
    "> **When training a CNN, it is often very useful to apply Image Augmentation to the training set. The purpose of augmentation is to change the image appearence without changing the content (and thus the labels). This increases the diversity in training images passed through the model without having to obtain and label more data. Some common image augmentations are: flipping across the vertical or horizontal axis, rotation, translation, scaling, and random cropping. Augmentations are usually randomized, so that passing the same image through an augmenting transform multiple times produces different images. When training a CNN, it is common to apply image augmentation to the training set, but not the test set. Here we will define two transformations, `train_transform` with augmentation, and `test_transform` without augmentation. We will then create three FashionDataset instances, `train_dataset`, `val_dataset`, and `test_dataset`.**"
   ]
  },
  {
   "cell_type": "code",
   "execution_count": 74,
   "metadata": {},
   "outputs": [],
   "source": [
    "train_transform = T.Compose([\n",
    "    T.Resize(256),\n",
    "    T.RandomVerticalFlip(),                                                                     # Flip the image vertically\n",
    "    T.RandomHorizontalFlip(),                                                                   # Flip the image horizontally\n",
    "    T.RandomAffine(degrees=90, translate=(.2, .2), scale=(.5, 1.5), fillcolor=(255,255,255)),   # Apply random affine transformation consisting of rotation, translation, scaling (zoom in/out).\n",
    "                                                                                                #   fillcolor=(255,255,255) means new pixels resulting from rotation, translation, or scaling\n",
    "                                                                                                #   are replaced by white pixels (because the background of all of the images in our dataset is white).\n",
    "    T.RandomCrop(224),                                                                          # Randomly crop a square with sides of length 224 pixels\n",
    "    T.ToTensor(),\n",
    "    T.Normalize(mean=[0.7969, 0.7716, 0.7642],\n",
    "                std=[0.2562, 0.2739, 0.2792])\n",
    "])\n",
    "\n",
    "test_transform = T.Compose([\n",
    "    T.Resize(256),\n",
    "    T.CenterCrop(224),\n",
    "    T.ToTensor(),\n",
    "    T.Normalize(mean=[0.7969, 0.7716, 0.7642],\n",
    "                std=[0.2562, 0.2739, 0.2792])\n",
    "])\n",
    "\n",
    "train_dataset = FashionDataset(X_train, y_train, data_dir=img_dir, transform=train_transform)\n",
    "val_dataset = FashionDataset(X_val, y_val, data_dir=img_dir, transform=test_transform)\n",
    "test_dataset = FashionDataset(X_test, y_test, data_dir=img_dir, transform=test_transform)"
   ]
  },
  {
   "cell_type": "code",
   "execution_count": 79,
   "metadata": {},
   "outputs": [
    {
     "name": "stderr",
     "output_type": "stream",
     "text": [
      "Clipping input data to the valid range for imshow with RGB data ([0..1] for floats or [0..255] for integers).\n"
     ]
    },
    {
     "name": "stdout",
     "output_type": "stream",
     "text": [
      "Categorical Labels: ['gender_Women', 'masterCategory_Footwear', 'subCategory_Shoes', 'articleType_Sports Shoes', 'baseColour_Blue', 'usage_Sports']\n"
     ]
    },
    {
     "data": {
      "image/png": "[encoded data removed]",
      "text/plain": [
       "<Figure size 432x288 with 1 Axes>"
      ]
     },
     "metadata": {
      "needs_background": "light"
     },
     "output_type": "display_data"
    }
   ],
   "source": [
    "img, label = train_dataset[0]\n",
    "categorical_labels = [col for one_hot, col in zip(label, categories) if one_hot == 1]\n",
    "print(f'Categorical Labels: {categorical_labels}')\n",
    "plt.imshow(img.permute(1, 2, 0));"
   ]
  },
  {
   "cell_type": "markdown",
   "metadata": {},
   "source": [
    "> **Each time the same item is selected from `train_dataset`, the image appears different, but the label is the same.**"
   ]
  },
  {
   "cell_type": "code",
   "execution_count": 82,
   "metadata": {},
   "outputs": [
    {
     "name": "stderr",
     "output_type": "stream",
     "text": [
      "Clipping input data to the valid range for imshow with RGB data ([0..1] for floats or [0..255] for integers).\n"
     ]
    },
    {
     "name": "stdout",
     "output_type": "stream",
     "text": [
      "Categorical Labels: ['gender_Women', 'masterCategory_Accessories', 'subCategory_Eyewear', 'articleType_Sunglasses', 'baseColour_Brown', 'usage_Casual']\n"
     ]
    },
    {
     "data": {
      "image/png": "[encoded data removed]",
      "text/plain": [
       "<Figure size 432x288 with 1 Axes>"
      ]
     },
     "metadata": {
      "needs_background": "light"
     },
     "output_type": "display_data"
    }
   ],
   "source": [
    "img, label = val_dataset[0]\n",
    "categorical_labels = [col for one_hot, col in zip(label, categories) if one_hot == 1]\n",
    "print(f'Categorical Labels: {categorical_labels}')\n",
    "plt.imshow(img.permute(1, 2, 0));"
   ]
  },
  {
   "cell_type": "markdown",
   "metadata": {},
   "source": [
    "> **Each time the same item is selected from `val_dataset`, the image and label are the same.**"
   ]
  },
  {
   "cell_type": "markdown",
   "metadata": {},
   "source": [
    "<a id='3'></a>\n",
    "# **3. Training a New Multi-label Classifier with a Pretrained Model**\n",
    "---\n",
    "> **Now that we have created train/val/test datasets, we are ready to start training a new multilabel classifier using a pretrained ResNet-18 model as a fixed feature extractor. However, before we set up model training, first we should define the metric we'll use to evaluate our model.**"
   ]
  },
  {
   "cell_type": "markdown",
   "metadata": {},
   "source": [
    "<a id='3p1'></a>\n",
    "## **3.1 Evaluation metric: AUC**\n",
    "---\n",
    "> **For multilabel classification, one commonly used metric for evaluation is Area Under the Reciever Operator Characteristic Curve (ROC-AUC, or simply AUC). Using the `roc_auc_score` function in scikit-learn, we can see in the following code that a random classifier will have an AUC of 0.5, while a perfect classifier will have an AUC of 1. More details can be found at https://scikit-learn.org/stable/modules/model_evaluation.html#roc-metrics**"
   ]
  },
  {
   "cell_type": "code",
   "execution_count": 28,
   "metadata": {},
   "outputs": [
    {
     "name": "stdout",
     "output_type": "stream",
     "text": [
      "Random AUC: 0.5007\n",
      "Perfect AUC: 1.0000\n"
     ]
    }
   ],
   "source": [
    "# An AUC score corresponding to a random choice is 0.5\n",
    "print(f'Random AUC: {roc_auc_score(y_val, np.random.random_sample(y_val.shape), average=\"samples\"):.4f}')\n",
    "\n",
    "# A perfect AUC score is 1\n",
    "print(f'Perfect AUC: {roc_auc_score(y_val, y_val, average=\"samples\"):.4f}')"
   ]
  },
  {
   "cell_type": "markdown",
   "metadata": {},
   "source": [
    "<a id='3p2'></a>\n",
    "## **3.2 Set up Model and Training Parameters**\n",
    "---\n",
    "> **To train a neural network, we need 1) a model architecture, 2) optimizer, 3) loss function, and 3) data. We also need to set 3 parameters: number of epochs, learning rate, and batchsize. I have included an optional parameter called `num_workers` that defines how many CPU threads should be used for loading data to the GPU (more = faster).**\n",
    "\n",
    "> **1. The model architecture we will use here is ResNet-18, a relatively simply CNN with 18 layers and skip connections. A pretrained model can be easily loaded in PyTorch using the `torchvision.models` library and setting `pretrained=True`. Many other easily imported pretrained models are available at https://pytorch.org/docs/stable/torchvision/models.html. If you are interested in a large state-of-the-art model, I recommend `torchvision.models.resnext101_32x8d()`. For a fast, compact model I recommend `torchvision.models.mobilenet_v2()`.**\n",
    "\n",
    "> **2. The optimizer we will use here is Adam, which has fine performance without tuning learning rate parameters. There are many other optimizers available at https://pytorch.org/docs/stable/optim.html#algorithms, but I recommend starting off with Adam using a learning rate of 0.001.**\n",
    "\n",
    "> **3. The loss function we will use is Binary Cross Entropy. Here we are doing multilabel classification with 124 categories, so using Binary Cross Entropy as our loss function makes our problem similar to doing 124 simultaneous binary classifications (note that this is not the only way, or necessarily the best way, to do multilabel classification). The actual implementation we will use in PyTorch is `BCEWithLogitsLoss()`, which is a more numerically stable version of the loss function that incorporates a sigmoid function. Since this loss function includes a sigmoid function, we will not explicitly put our model outputs through a sigmoid layer before calculating loss. When we are making predictions later, however, we will need to apply a sigmoid function to the model output. Details of the loss function can be found at https://pytorch.org/docs/stable/nn.html#bcewithlogitsloss**\n",
    "\n",
    "> **4. We have already defined our dataset classes. However, indexing our datasets returns a single image with dimensions [channels, height, width], while CNNs in PyTorch require batched input with dimenions [batchsize, channels, height, width]. PyTorch includes the DataLoader class that simply takes in a dataset and batchsize, and returns an iterator that returns images and labels in the required format. The DataLoader class also includes helpful options for shuffling the data and multiprocessing so that multiple CPU cores can load different iamges simultaneously to speed up training.**"
   ]
  },
  {
   "cell_type": "code",
   "execution_count": 30,
   "metadata": {},
   "outputs": [],
   "source": [
    "num_epochs = 50\n",
    "learning_rate = 0.001\n",
    "batchsize = 256\n",
    "num_workers = 16                                                         # Number of CPU cores to use when loading data. Using more cores will load data faster.\n",
    "                                                                         #   If you are unsure, set to 0 (single-core, main process)\n",
    "\n",
    "device = torch.device(\"cuda:0\" if torch.cuda.is_available() else \"cpu\")  # Define the computing device for training the model. Options are 'cpu' (very slow),\n",
    "                                                                         #   or 'cuda' if you have an NVIDIA gpu with CUDA drivers installed\n",
    "\n",
    "model = torchvision.models.resnet18(pretrained=True)                     # Load a ResNet-18 model pretrained on ImageNet\n",
    "for param in model.parameters():                                         # Loop through all of the parameters (weights) of the model\n",
    "    param.requires_grad = False                                          # Freeze the weights of the parameters (stop gradients from being tracked)\n",
    "num_ftrs = model.fc.in_features                                          # Get the number of features from the second-to-last layer of the network (before the classifier)\n",
    "model.fc = torch.nn.Linear(num_ftrs, len(categories))                    # Create a new classifier layer (fully-connected layer) with the number of categories we want to predict\n",
    "model = model.to(device)                                                 # Send the model to the computing device\n",
    "\n",
    "criterion = torch.nn.BCEWithLogitsLoss()                                 # Define the criterion (loss function). Here we will use Binary Cross Entropy with Logits\n",
    "optimizer = torch.optim.Adam(model.fc.parameters(), lr=learning_rate)    # Define the optimizer with model parameters and learning rate.\n",
    "                                                                         #   Here we will use Adam optimizer on our newly-created fully-connect layer only.\n",
    "\n",
    "train_dataloader = torch.utils.data.DataLoader(dataset=train_dataset, batch_size=batchsize, shuffle=True, num_workers=num_workers)   # Create train and val dataloaders that handle batchsize,\n",
    "val_dataloader = torch.utils.data.DataLoader(dataset=val_dataset, batch_size=batchsize, shuffle=True, num_workers=num_workers)       #   shuffling the dataset each epoch, and multicore processing."
   ]
  },
  {
   "cell_type": "markdown",
   "metadata": {},
   "source": [
    "<a id='3p3'></a>\n",
    "## **3.3 Define train, test, and fit functions**\n",
    "---\n",
    "> **Unlike another popular neural network library, Keras, in PyTorch we must define our own training functions. This means we must write more repetative boiler-plate code (most train functions are very similar), but it also gives us more freedom to easily change the training process. Here I have written three functions to help train a CNN: train, test and fit. The train function trains a CNN for one epoch. The test function evaluates a CNN without changing the weights of the model. The fit function applies train and test functions over a set number of epochs, keeps a log of training progress, and saves train and val losses and AUC scores while training so they can be plotted later.**"
   ]
  },
  {
   "cell_type": "code",
   "execution_count": 31,
   "metadata": {},
   "outputs": [],
   "source": [
    "def train(model, dataloader, optimizer, criterion, device):\n",
    "    model.train()                                                  # Set model parameters to training mode\n",
    "    running_loss = 0.0                                             # Keep track of running loss so average loss can be calculated at the end of the epoch\n",
    "    all_true = []                                                  # Keep track of all of the true and predicted labels\n",
    "    all_pred = []                                                  #   so AUC score can be calculated at the end of the epoch\n",
    "    \n",
    "    for i, (imgs, labels) in enumerate(dataloader):                # Loop through all batches in the dataloader\n",
    "        \n",
    "        all_true += labels.tolist()                                # Save true labels\n",
    "        imgs = imgs.to(device)                                     # Send images and labels to computing device. If the model is on 'cuda',\n",
    "        labels = labels.to(device)                                 #   the images and labels must also be on cuda\n",
    "        \n",
    "        optimizer.zero_grad()                                      # Zero the gradients so the optimizer can keep track of a new pass of data through the network\n",
    "        pred = model(imgs)                                         # Pass a batch of images through the model\n",
    "        loss = criterion(pred, labels)                             # Calculate the loss between the ground truth labels and the model predictions\n",
    "        loss.backward()                                            # Perform backpropagation on the loss to train the network\n",
    "        optimizer.step()                                           # Step the optimizer forward\n",
    "        \n",
    "        all_pred += torch.sigmoid(pred).tolist()                   # Keep track of model predictions to calculate AUC later.\n",
    "                                                                   #   When we want to make predictions with our model without calculating BCEWithLogitsLoss,\n",
    "                                                                   #   we must manually apply the sigmoid function to the model output to get predicted values\n",
    "                                                                   #   between 0 and 1. tolist() simply converts the result to a normal Python list.\n",
    "        \n",
    "        running_loss += loss.item()\n",
    "    return running_loss / (i+1), roc_auc_score(all_true, all_pred, average='weighted')    # Return the average loss over the epoch and the AUC score"
   ]
  },
  {
   "cell_type": "markdown",
   "metadata": {},
   "source": [
    "> **The test function is almost exactly the same as the train function, except that 1) the model is placed in `eval()` mode rather than `train()` mode, and 2) the optimizer is not used and gradients through the model are not tracked because backpropagation is not being performed.**"
   ]
  },
  {
   "cell_type": "code",
   "execution_count": 32,
   "metadata": {},
   "outputs": [],
   "source": [
    "def test(model, dataloader, criterion, device):\n",
    "    model.eval()                                                   # Set model parameters to evaluation mode\n",
    "    running_loss = 0.0\n",
    "    all_true = []\n",
    "    all_pred = []\n",
    "    for i, (imgs, labels) in enumerate(dataloader):\n",
    "        all_true += labels.tolist()\n",
    "        imgs = imgs.to(device)\n",
    "        labels = labels.to(device)\n",
    "        \n",
    "        with torch.no_grad():                                      # Don't track gradients through the model\n",
    "            pred = model(imgs)\n",
    "            loss = criterion(pred, labels)\n",
    "            all_pred += torch.sigmoid(pred).tolist()\n",
    "        \n",
    "        running_loss += loss.item()\n",
    "    return running_loss / (i+1), roc_auc_score(all_true, all_pred, average='weighted')"
   ]
  },
  {
   "cell_type": "markdown",
   "metadata": {},
   "source": [
    "> **At it's core, the fit function simply calls train and test over a number of epochs. The rest of the code logs losses and AUC scores, and saves the best performing model.**"
   ]
  },
  {
   "cell_type": "code",
   "execution_count": 33,
   "metadata": {},
   "outputs": [],
   "source": [
    "def fit(model, train_dataloader, val_dataloader, optimizer, criterion, device, num_epochs):\n",
    "    # Log start time\n",
    "    start_time = str(datetime.datetime.now().strftime('%Y-%m-%d-%H-%M-%S'))\n",
    "    msg = f'Start model training {start_time}'\n",
    "    with open('log.txt', 'a') as f: f.write(msg+'\\n')\n",
    "    print(msg)\n",
    "    \n",
    "    # Initialize best model weights, AUC score, and keep track of train/val loss and AUC\n",
    "    best_model_wts = copy.deepcopy(model.state_dict())\n",
    "    best_model_name = ''\n",
    "    best_score = -1\n",
    "    track_values = {'train_loss': [],\n",
    "                    'val_loss': [],\n",
    "                    'train_auc': [],\n",
    "                    'val_auc': []}\n",
    "\n",
    "    # Calculate initial loss and score on train and validation sets\n",
    "    start = time.time()\n",
    "    train_loss, train_score = test(model, train_dataloader, criterion, device)\n",
    "    val_loss, val_score = test(model, val_dataloader, criterion, device)\n",
    "    \n",
    "    # Store initial losses and AUC scores\n",
    "    track_values['train_loss'].append(train_loss)\n",
    "    track_values['val_loss'].append(val_loss)\n",
    "    track_values['train_auc'].append(train_score)\n",
    "    track_values['val_auc'].append(val_score)\n",
    "    \n",
    "    # Print training status and write to a log file\n",
    "    msg = f'Epoch 0/{num_epochs} Train Loss: {train_loss:.4f}, Train AUC: {train_score:.4f}, Val Loss: {val_loss:.4f}, Val AUC: {val_score:.4f} Time: {time.time()-start:.2f}s'\n",
    "    with open('log.txt', 'a') as f: f.write(msg+'\\n')\n",
    "    print(msg)\n",
    "\n",
    "    # Loop over the specified number of epochs\n",
    "    for epoch in range(num_epochs):\n",
    "        start = time.time() # Start timer to keep track of how long an epoch takes\n",
    "\n",
    "        # Run train and test functions on train and val sets\n",
    "        train_loss, train_score = train(model, train_dataloader, optimizer, criterion, device)\n",
    "        val_loss, val_score = test(model, val_dataloader, criterion, device)\n",
    "        \n",
    "        # Store losses and AUC scores\n",
    "        track_values['train_loss'].append(train_loss)\n",
    "        track_values['val_loss'].append(val_loss)\n",
    "        track_values['train_auc'].append(train_score)\n",
    "        track_values['val_auc'].append(val_score)\n",
    "\n",
    "        # Save the model weights if the AUC score on the validation set is higher than the previous best model\n",
    "        if val_score > best_score:\n",
    "            best_score = val_score\n",
    "            best_model_wts = copy.deepcopy(model.state_dict())\n",
    "            if os.path.exists(best_model_name): os.remove(best_model_name)\n",
    "            best_model_name = f'./best_model_weights_epoch_{epoch+1}_auc_{val_score:.4f}.pt'\n",
    "            torch.save(model.state_dict(), best_model_name)\n",
    "\n",
    "        # Print training status and write to a log file\n",
    "        msg = f'Epoch {epoch+1}/{num_epochs} Train Loss: {train_loss:.4f}, Train AUC: {train_score:.4f}, Val Loss: {val_loss:.4f}, Val AUC: {val_score:.4f} Time: {time.time()-start:.2f}s'\n",
    "        with open('log.txt', 'a') as f: f.write(msg+'\\n')\n",
    "        print(msg)\n",
    "    \n",
    "    return track_values"
   ]
  },
  {
   "cell_type": "markdown",
   "metadata": {},
   "source": [
    "> **Now we can train the model. The fit function returns train and val losses and AUC scores every epoch so we can later plot the training performance over time. This step can take a long time (or a *very* long time on CPU).**"
   ]
  },
  {
   "cell_type": "code",
   "execution_count": 50,
   "metadata": {},
   "outputs": [
    {
     "name": "stdout",
     "output_type": "stream",
     "text": [
      "Start model training 2020-05-31-11-16-51\n",
      "Epoch 0/50 Train Loss: 0.7438, Train AUC: 0.5186, Val Loss: 0.7494, Val AUC: 0.5349 Time: 121.98s\n",
      "Epoch 1/50 Train Loss: 0.1286, Train AUC: 0.7417, Val Loss: 0.0904, Val AUC: 0.8691 Time: 122.73s\n",
      "Epoch 2/50 Train Loss: 0.0877, Train AUC: 0.8667, Val Loss: 0.0774, Val AUC: 0.9020 Time: 122.67s\n",
      "Epoch 3/50 Train Loss: 0.0788, Train AUC: 0.8896, Val Loss: 0.0713, Val AUC: 0.9126 Time: 122.17s\n",
      "Epoch 4/50 Train Loss: 0.0743, Train AUC: 0.8981, Val Loss: 0.0681, Val AUC: 0.9178 Time: 122.76s\n",
      "Epoch 5/50 Train Loss: 0.0713, Train AUC: 0.9045, Val Loss: 0.0656, Val AUC: 0.9215 Time: 122.47s\n",
      "Epoch 6/50 Train Loss: 0.0688, Train AUC: 0.9090, Val Loss: 0.0644, Val AUC: 0.9235 Time: 123.69s\n",
      "Epoch 7/50 Train Loss: 0.0676, Train AUC: 0.9108, Val Loss: 0.0631, Val AUC: 0.9252 Time: 122.84s\n",
      "Epoch 8/50 Train Loss: 0.0662, Train AUC: 0.9131, Val Loss: 0.0624, Val AUC: 0.9276 Time: 122.42s\n",
      "Epoch 9/50 Train Loss: 0.0654, Train AUC: 0.9144, Val Loss: 0.0608, Val AUC: 0.9277 Time: 122.35s\n",
      "Epoch 10/50 Train Loss: 0.0646, Train AUC: 0.9152, Val Loss: 0.0600, Val AUC: 0.9300 Time: 122.93s\n",
      "Epoch 11/50 Train Loss: 0.0637, Train AUC: 0.9164, Val Loss: 0.0604, Val AUC: 0.9296 Time: 121.96s\n",
      "Epoch 12/50 Train Loss: 0.0637, Train AUC: 0.9164, Val Loss: 0.0593, Val AUC: 0.9305 Time: 122.73s\n",
      "Epoch 13/50 Train Loss: 0.0630, Train AUC: 0.9166, Val Loss: 0.0591, Val AUC: 0.9310 Time: 122.46s\n",
      "Epoch 14/50 Train Loss: 0.0625, Train AUC: 0.9180, Val Loss: 0.0590, Val AUC: 0.9308 Time: 122.72s\n",
      "Epoch 15/50 Train Loss: 0.0619, Train AUC: 0.9195, Val Loss: 0.0584, Val AUC: 0.9310 Time: 122.90s\n",
      "Epoch 16/50 Train Loss: 0.0617, Train AUC: 0.9193, Val Loss: 0.0582, Val AUC: 0.9321 Time: 122.50s\n",
      "Epoch 17/50 Train Loss: 0.0614, Train AUC: 0.9193, Val Loss: 0.0575, Val AUC: 0.9321 Time: 122.54s\n",
      "Epoch 18/50 Train Loss: 0.0614, Train AUC: 0.9193, Val Loss: 0.0572, Val AUC: 0.9325 Time: 122.26s\n",
      "Epoch 19/50 Train Loss: 0.0610, Train AUC: 0.9209, Val Loss: 0.0578, Val AUC: 0.9323 Time: 122.05s\n",
      "Epoch 20/50 Train Loss: 0.0609, Train AUC: 0.9197, Val Loss: 0.0574, Val AUC: 0.9328 Time: 122.60s\n",
      "Epoch 21/50 Train Loss: 0.0605, Train AUC: 0.9200, Val Loss: 0.0572, Val AUC: 0.9334 Time: 122.43s\n",
      "Epoch 22/50 Train Loss: 0.0603, Train AUC: 0.9206, Val Loss: 0.0568, Val AUC: 0.9329 Time: 122.18s\n",
      "Epoch 23/50 Train Loss: 0.0600, Train AUC: 0.9221, Val Loss: 0.0568, Val AUC: 0.9340 Time: 122.87s\n",
      "Epoch 24/50 Train Loss: 0.0601, Train AUC: 0.9220, Val Loss: 0.0567, Val AUC: 0.9332 Time: 122.41s\n",
      "Epoch 25/50 Train Loss: 0.0599, Train AUC: 0.9217, Val Loss: 0.0568, Val AUC: 0.9334 Time: 122.81s\n",
      "Epoch 26/50 Train Loss: 0.0594, Train AUC: 0.9227, Val Loss: 0.0567, Val AUC: 0.9334 Time: 123.04s\n",
      "Epoch 27/50 Train Loss: 0.0595, Train AUC: 0.9227, Val Loss: 0.0568, Val AUC: 0.9335 Time: 122.84s\n",
      "Epoch 28/50 Train Loss: 0.0596, Train AUC: 0.9220, Val Loss: 0.0567, Val AUC: 0.9331 Time: 122.22s\n",
      "Epoch 29/50 Train Loss: 0.0594, Train AUC: 0.9222, Val Loss: 0.0560, Val AUC: 0.9341 Time: 122.36s\n",
      "Epoch 30/50 Train Loss: 0.0592, Train AUC: 0.9224, Val Loss: 0.0562, Val AUC: 0.9342 Time: 122.83s\n",
      "Epoch 31/50 Train Loss: 0.0590, Train AUC: 0.9226, Val Loss: 0.0561, Val AUC: 0.9345 Time: 122.25s\n",
      "Epoch 32/50 Train Loss: 0.0587, Train AUC: 0.9235, Val Loss: 0.0555, Val AUC: 0.9345 Time: 122.09s\n",
      "Epoch 33/50 Train Loss: 0.0590, Train AUC: 0.9228, Val Loss: 0.0570, Val AUC: 0.9343 Time: 122.44s\n",
      "Epoch 34/50 Train Loss: 0.0592, Train AUC: 0.9227, Val Loss: 0.0564, Val AUC: 0.9338 Time: 122.28s\n",
      "Epoch 35/50 Train Loss: 0.0592, Train AUC: 0.9225, Val Loss: 0.0564, Val AUC: 0.9345 Time: 122.12s\n",
      "Epoch 36/50 Train Loss: 0.0588, Train AUC: 0.9224, Val Loss: 0.0566, Val AUC: 0.9344 Time: 121.88s\n",
      "Epoch 37/50 Train Loss: 0.0588, Train AUC: 0.9228, Val Loss: 0.0558, Val AUC: 0.9348 Time: 122.16s\n",
      "Epoch 38/50 Train Loss: 0.0587, Train AUC: 0.9230, Val Loss: 0.0558, Val AUC: 0.9355 Time: 122.98s\n",
      "Epoch 39/50 Train Loss: 0.0588, Train AUC: 0.9229, Val Loss: 0.0560, Val AUC: 0.9350 Time: 122.17s\n",
      "Epoch 40/50 Train Loss: 0.0586, Train AUC: 0.9230, Val Loss: 0.0558, Val AUC: 0.9349 Time: 122.14s\n",
      "Epoch 41/50 Train Loss: 0.0585, Train AUC: 0.9239, Val Loss: 0.0558, Val AUC: 0.9353 Time: 122.06s\n",
      "Epoch 42/50 Train Loss: 0.0585, Train AUC: 0.9237, Val Loss: 0.0551, Val AUC: 0.9356 Time: 122.20s\n",
      "Epoch 43/50 Train Loss: 0.0581, Train AUC: 0.9244, Val Loss: 0.0557, Val AUC: 0.9352 Time: 122.43s\n",
      "Epoch 44/50 Train Loss: 0.0583, Train AUC: 0.9233, Val Loss: 0.0559, Val AUC: 0.9355 Time: 123.07s\n",
      "Epoch 45/50 Train Loss: 0.0583, Train AUC: 0.9242, Val Loss: 0.0560, Val AUC: 0.9357 Time: 122.29s\n",
      "Epoch 46/50 Train Loss: 0.0585, Train AUC: 0.9231, Val Loss: 0.0554, Val AUC: 0.9359 Time: 122.36s\n",
      "Epoch 47/50 Train Loss: 0.0586, Train AUC: 0.9230, Val Loss: 0.0549, Val AUC: 0.9359 Time: 122.42s\n",
      "Epoch 48/50 Train Loss: 0.0579, Train AUC: 0.9243, Val Loss: 0.0547, Val AUC: 0.9361 Time: 122.73s\n",
      "Epoch 49/50 Train Loss: 0.0583, Train AUC: 0.9237, Val Loss: 0.0549, Val AUC: 0.9360 Time: 122.99s\n",
      "Epoch 50/50 Train Loss: 0.0580, Train AUC: 0.9242, Val Loss: 0.0558, Val AUC: 0.9357 Time: 123.21s\n"
     ]
    }
   ],
   "source": [
    "track_values = fit(model, train_dataloader, val_dataloader, optimizer, criterion, device, num_epochs)"
   ]
  },
  {
   "cell_type": "markdown",
   "metadata": {},
   "source": [
    "> **We can plot training progress using the values saved in `track_values`**"
   ]
  },
  {
   "cell_type": "code",
   "execution_count": 72,
   "metadata": {},
   "outputs": [
    {
     "data": {
      "image/png": "[encoded data removed]",
      "text/plain": [
       "<Figure size 720x360 with 2 Axes>"
      ]
     },
     "metadata": {
      "needs_background": "light"
     },
     "output_type": "display_data"
    }
   ],
   "source": [
    "fig, ax = plt.subplots(nrows=1, ncols=2, figsize=(10,5))\n",
    "ax[0].plot(track_values['train_loss'], label='Train')\n",
    "ax[0].plot(track_values['val_loss'], label='Val')\n",
    "ax[0].set_ylabel('Loss')\n",
    "ax[0].set_ylim([0, .5])\n",
    "ax[0].set_title('Loss')\n",
    "\n",
    "ax[1].plot(track_values['train_auc'], label='Train')\n",
    "ax[1].plot(track_values['val_auc'], label='Val')\n",
    "ax[1].set_ylabel('AUC')\n",
    "ax[1].set_ylim([.5, 1])\n",
    "ax[1].set_title('AUC')\n",
    "\n",
    "for i in range(0, 2):\n",
    "    ax[i].legend()\n",
    "    ax[i].set_xlabel('Epoch')"
   ]
  },
  {
   "cell_type": "markdown",
   "metadata": {},
   "source": [
    "> **Looking at the training log, the model that did best on the validation set was the model saved at Epoch 48. Let's load this model and summarize it's performance on the train/val/test sets.**"
   ]
  },
  {
   "cell_type": "markdown",
   "metadata": {},
   "source": [
    "<a id='3p4'></a>\n",
    "## **3.4 Evaluate Trained Model**\n",
    "---\n",
    "> **Let's summarize the results on the train/val/test sets:**"
   ]
  },
  {
   "cell_type": "code",
   "execution_count": 77,
   "metadata": {},
   "outputs": [
    {
     "name": "stdout",
     "output_type": "stream",
     "text": [
      "Train Loss: 0.0575, Train AUC: 0.9266\n",
      "Val Loss: 0.0547, Val AUC: 0.9361\n",
      "Test Loss: 0.0540, Test AUC: 0.9362\n"
     ]
    }
   ],
   "source": [
    "weights_path = 'C:/Users/matth/Documents/fashion_product_dataset/best_model_weights_epoch_48_auc_0.9361_classifier_only.pt'\n",
    "weights = torch.load(weights_path, map_location=lambda storage, loc:storage)\n",
    "model.load_state_dict(weights)\n",
    "\n",
    "train_loss, train_auc = test(model, train_dataloader, criterion, device)\n",
    "print(f'Train Loss: {train_loss:.4f}, Train AUC: {train_auc:.4f}')\n",
    "\n",
    "val_loss, val_auc = test(model, val_dataloader, criterion, device)\n",
    "print(f'Val Loss: {val_loss:.4f}, Val AUC: {val_auc:.4f}')\n",
    "\n",
    "test_dataloader = torch.utils.data.DataLoader(dataset=test_dataset, batch_size=batchsize, num_workers=16)\n",
    "test_loss, test_auc = test(model, test_dataloader, criterion, device)\n",
    "print(f'Test Loss: {test_loss:.4f}, Test AUC: {test_auc:.4f}')"
   ]
  },
  {
   "cell_type": "markdown",
   "metadata": {},
   "source": [
    "|       | **Loss**  | **AUC**   |\n",
    "|-------|-------|-------|\n",
    "| **Train** | .0575 | .9266 |\n",
    "| **Val**   | .0547 | .9361 |\n",
    "| **Test**  | .0540 | .9362 |\n",
    "\n",
    "> **Looking at the results table it is clear that the model is not overfitting on the training set, and we are getting equivalent performance on the validation and test sets.**"
   ]
  },
  {
   "cell_type": "markdown",
   "metadata": {},
   "source": [
    "<a id='4'></a>\n",
    "# **4. Fine-tune a Pretrained Model**\n",
    "---\n",
    "> **In section 3 we kept the weights of the pretrained feature extractor frozen, and only trained the weights of a new fully-connected layer for classification. Now that we have trained the classifier layer, we can unfreeze all of the model weights and train again with a lower learning rate. This process is called fine-tuning. You can see from the code before that the only differences in training this time are: 1) we are using a lower learning rate (.0001 instead of .001), 2) we are not setting `param.requires_grad = False` to the pretrained model, and 3) we are loading our best model that we just trained so that we start of with our trained fully-connected layer.**"
   ]
  },
  {
   "cell_type": "code",
   "execution_count": 79,
   "metadata": {},
   "outputs": [
    {
     "name": "stdout",
     "output_type": "stream",
     "text": [
      "Start model training 2020-05-31-13-34-46\n",
      "Epoch 0/50 Train Loss: 0.0576, Train AUC: 0.9268, Val Loss: 0.0547, Val AUC: 0.9361 Time: 123.50s\n",
      "Epoch 1/50 Train Loss: 0.0501, Train AUC: 0.9439, Val Loss: 0.0441, Val AUC: 0.9593 Time: 126.14s\n",
      "Epoch 2/50 Train Loss: 0.0428, Train AUC: 0.9598, Val Loss: 0.0391, Val AUC: 0.9677 Time: 125.40s\n",
      "Epoch 3/50 Train Loss: 0.0396, Train AUC: 0.9654, Val Loss: 0.0372, Val AUC: 0.9701 Time: 126.17s\n",
      "Epoch 4/50 Train Loss: 0.0375, Train AUC: 0.9693, Val Loss: 0.0362, Val AUC: 0.9720 Time: 126.11s\n",
      "Epoch 5/50 Train Loss: 0.0357, Train AUC: 0.9723, Val Loss: 0.0364, Val AUC: 0.9731 Time: 126.45s\n",
      "Epoch 6/50 Train Loss: 0.0346, Train AUC: 0.9738, Val Loss: 0.0353, Val AUC: 0.9748 Time: 126.87s\n",
      "Epoch 7/50 Train Loss: 0.0335, Train AUC: 0.9756, Val Loss: 0.0336, Val AUC: 0.9768 Time: 126.72s\n",
      "Epoch 8/50 Train Loss: 0.0322, Train AUC: 0.9771, Val Loss: 0.0326, Val AUC: 0.9779 Time: 125.93s\n",
      "Epoch 9/50 Train Loss: 0.0313, Train AUC: 0.9785, Val Loss: 0.0333, Val AUC: 0.9780 Time: 124.99s\n",
      "Epoch 10/50 Train Loss: 0.0305, Train AUC: 0.9796, Val Loss: 0.0332, Val AUC: 0.9782 Time: 126.59s\n",
      "Epoch 11/50 Train Loss: 0.0300, Train AUC: 0.9804, Val Loss: 0.0325, Val AUC: 0.9791 Time: 125.77s\n",
      "Epoch 12/50 Train Loss: 0.0295, Train AUC: 0.9808, Val Loss: 0.0327, Val AUC: 0.9787 Time: 125.58s\n",
      "Epoch 13/50 Train Loss: 0.0285, Train AUC: 0.9820, Val Loss: 0.0321, Val AUC: 0.9789 Time: 126.08s\n",
      "Epoch 14/50 Train Loss: 0.0282, Train AUC: 0.9825, Val Loss: 0.0315, Val AUC: 0.9802 Time: 125.39s\n",
      "Epoch 15/50 Train Loss: 0.0281, Train AUC: 0.9828, Val Loss: 0.0312, Val AUC: 0.9806 Time: 125.67s\n",
      "Epoch 16/50 Train Loss: 0.0272, Train AUC: 0.9835, Val Loss: 0.0305, Val AUC: 0.9810 Time: 125.76s\n",
      "Epoch 17/50 Train Loss: 0.0268, Train AUC: 0.9841, Val Loss: 0.0310, Val AUC: 0.9802 Time: 125.98s\n",
      "Epoch 18/50 Train Loss: 0.0267, Train AUC: 0.9844, Val Loss: 0.0314, Val AUC: 0.9807 Time: 125.78s\n",
      "Epoch 19/50 Train Loss: 0.0258, Train AUC: 0.9853, Val Loss: 0.0309, Val AUC: 0.9812 Time: 125.45s\n",
      "Epoch 20/50 Train Loss: 0.0255, Train AUC: 0.9857, Val Loss: 0.0309, Val AUC: 0.9817 Time: 125.31s\n",
      "Epoch 21/50 Train Loss: 0.0255, Train AUC: 0.9858, Val Loss: 0.0305, Val AUC: 0.9819 Time: 125.26s\n",
      "Epoch 22/50 Train Loss: 0.0249, Train AUC: 0.9864, Val Loss: 0.0302, Val AUC: 0.9824 Time: 126.30s\n",
      "Epoch 23/50 Train Loss: 0.0242, Train AUC: 0.9871, Val Loss: 0.0302, Val AUC: 0.9817 Time: 124.93s\n",
      "Epoch 24/50 Train Loss: 0.0241, Train AUC: 0.9872, Val Loss: 0.0299, Val AUC: 0.9822 Time: 125.70s\n",
      "Epoch 25/50 Train Loss: 0.0236, Train AUC: 0.9877, Val Loss: 0.0305, Val AUC: 0.9818 Time: 126.47s\n",
      "Epoch 26/50 Train Loss: 0.0233, Train AUC: 0.9878, Val Loss: 0.0304, Val AUC: 0.9817 Time: 124.99s\n",
      "Epoch 27/50 Train Loss: 0.0230, Train AUC: 0.9884, Val Loss: 0.0312, Val AUC: 0.9817 Time: 125.90s\n",
      "Epoch 28/50 Train Loss: 0.0233, Train AUC: 0.9883, Val Loss: 0.0307, Val AUC: 0.9822 Time: 125.85s\n",
      "Epoch 29/50 Train Loss: 0.0225, Train AUC: 0.9887, Val Loss: 0.0297, Val AUC: 0.9826 Time: 126.20s\n",
      "Epoch 30/50 Train Loss: 0.0221, Train AUC: 0.9892, Val Loss: 0.0305, Val AUC: 0.9817 Time: 126.32s\n",
      "Epoch 31/50 Train Loss: 0.0219, Train AUC: 0.9894, Val Loss: 0.0304, Val AUC: 0.9826 Time: 124.81s\n",
      "Epoch 32/50 Train Loss: 0.0217, Train AUC: 0.9896, Val Loss: 0.0297, Val AUC: 0.9830 Time: 125.92s\n",
      "Epoch 33/50 Train Loss: 0.0212, Train AUC: 0.9901, Val Loss: 0.0305, Val AUC: 0.9821 Time: 125.42s\n",
      "Epoch 34/50 Train Loss: 0.0209, Train AUC: 0.9903, Val Loss: 0.0299, Val AUC: 0.9831 Time: 125.01s\n",
      "Epoch 35/50 Train Loss: 0.0205, Train AUC: 0.9905, Val Loss: 0.0303, Val AUC: 0.9827 Time: 125.96s\n",
      "Epoch 36/50 Train Loss: 0.0206, Train AUC: 0.9908, Val Loss: 0.0312, Val AUC: 0.9818 Time: 126.38s\n",
      "Epoch 37/50 Train Loss: 0.0212, Train AUC: 0.9904, Val Loss: 0.0304, Val AUC: 0.9820 Time: 125.84s\n",
      "Epoch 38/50 Train Loss: 0.0200, Train AUC: 0.9912, Val Loss: 0.0304, Val AUC: 0.9826 Time: 126.76s\n",
      "Epoch 39/50 Train Loss: 0.0201, Train AUC: 0.9914, Val Loss: 0.0303, Val AUC: 0.9822 Time: 125.44s\n",
      "Epoch 40/50 Train Loss: 0.0200, Train AUC: 0.9911, Val Loss: 0.0305, Val AUC: 0.9822 Time: 125.95s\n",
      "Epoch 41/50 Train Loss: 0.0193, Train AUC: 0.9919, Val Loss: 0.0305, Val AUC: 0.9819 Time: 125.80s\n",
      "Epoch 42/50 Train Loss: 0.0191, Train AUC: 0.9919, Val Loss: 0.0309, Val AUC: 0.9824 Time: 125.41s\n",
      "Epoch 43/50 Train Loss: 0.0186, Train AUC: 0.9923, Val Loss: 0.0313, Val AUC: 0.9826 Time: 126.23s\n",
      "Epoch 44/50 Train Loss: 0.0187, Train AUC: 0.9924, Val Loss: 0.0311, Val AUC: 0.9821 Time: 125.55s\n",
      "Epoch 45/50 Train Loss: 0.0187, Train AUC: 0.9924, Val Loss: 0.0312, Val AUC: 0.9826 Time: 125.36s\n",
      "Epoch 46/50 Train Loss: 0.0182, Train AUC: 0.9929, Val Loss: 0.0327, Val AUC: 0.9816 Time: 125.85s\n",
      "Epoch 47/50 Train Loss: 0.0184, Train AUC: 0.9926, Val Loss: 0.0310, Val AUC: 0.9823 Time: 125.38s\n",
      "Epoch 48/50 Train Loss: 0.0177, Train AUC: 0.9932, Val Loss: 0.0311, Val AUC: 0.9832 Time: 126.12s\n",
      "Epoch 49/50 Train Loss: 0.0178, Train AUC: 0.9933, Val Loss: 0.0307, Val AUC: 0.9832 Time: 125.62s\n",
      "Epoch 50/50 Train Loss: 0.0173, Train AUC: 0.9934, Val Loss: 0.0319, Val AUC: 0.9829 Time: 125.68s\n"
     ]
    }
   ],
   "source": [
    "num_epochs = 50\n",
    "learning_rate = 0.0001\n",
    "batchsize = 256\n",
    "num_workers = 16\n",
    "\n",
    "device = torch.device(\"cuda:0\" if torch.cuda.is_available() else \"cpu\")\n",
    "\n",
    "model = torchvision.models.resnet18(pretrained=True)\n",
    "num_ftrs = model.fc.in_features\n",
    "model.fc = torch.nn.Linear(num_ftrs, len(categories))\n",
    "\n",
    "weights_path = 'C:/Users/matth/Documents/fashion_product_dataset/best_model_weights_epoch_48_auc_0.9361_classifier_only.pt'\n",
    "weights = torch.load(weights_path, map_location=lambda storage, loc:storage)\n",
    "model.load_state_dict(weights)\n",
    "\n",
    "model = model.to(device)\n",
    "\n",
    "criterion = torch.nn.BCEWithLogitsLoss()\n",
    "optimizer = torch.optim.Adam(model.parameters(), lr=learning_rate)\n",
    "\n",
    "train_dataloader = torch.utils.data.DataLoader(dataset=train_dataset, batch_size=batchsize, shuffle=True, num_workers=num_workers)\n",
    "val_dataloader = torch.utils.data.DataLoader(dataset=val_dataset, batch_size=batchsize, shuffle=True, num_workers=num_workers)\n",
    "\n",
    "track_values = fit(model, train_dataloader, val_dataloader, optimizer, criterion, device, num_epochs)"
   ]
  },
  {
   "cell_type": "markdown",
   "metadata": {},
   "source": [
    "> **Plot training progress:**"
   ]
  },
  {
   "cell_type": "code",
   "execution_count": 83,
   "metadata": {},
   "outputs": [
    {
     "data": {
      "image/png": "[encoded data removed]",
      "text/plain": [
       "<Figure size 720x360 with 2 Axes>"
      ]
     },
     "metadata": {
      "needs_background": "light"
     },
     "output_type": "display_data"
    }
   ],
   "source": [
    "fig, ax = plt.subplots(nrows=1, ncols=2, figsize=(10,5))\n",
    "ax[0].plot(track_values['train_loss'], label='Train')\n",
    "ax[0].plot(track_values['val_loss'], label='Val')\n",
    "ax[0].set_ylabel('Loss')\n",
    "ax[0].set_ylim([0, .1])\n",
    "ax[0].set_title('Loss')\n",
    "\n",
    "ax[1].plot(track_values['train_auc'], label='Train')\n",
    "ax[1].plot(track_values['val_auc'], label='Val')\n",
    "ax[1].set_ylabel('AUC')\n",
    "ax[1].set_ylim([.9, 1])\n",
    "ax[1].set_title('AUC')\n",
    "\n",
    "for i in range(0, 2):\n",
    "    ax[i].legend()\n",
    "    ax[i].set_xlabel('Epoch')"
   ]
  },
  {
   "cell_type": "markdown",
   "metadata": {},
   "source": [
    "> **Summarize finetuning results on train/val/test sets:**"
   ]
  },
  {
   "cell_type": "code",
   "execution_count": 84,
   "metadata": {},
   "outputs": [
    {
     "name": "stdout",
     "output_type": "stream",
     "text": [
      "Train Loss: 0.0167, Train AUC: 0.9941\n",
      "Val Loss: 0.0311, Val AUC: 0.9832\n",
      "Test Loss: 0.0308, Test AUC: 0.9836\n"
     ]
    }
   ],
   "source": [
    "weights_path = 'C:/Users/matth/Documents/fashion_product_dataset/best_model_weights_epoch_48_auc_0.9832_finetuning.pt'\n",
    "weights = torch.load(weights_path, map_location=lambda storage, loc:storage)\n",
    "model.load_state_dict(weights)\n",
    "\n",
    "train_loss, train_auc = test(model, train_dataloader, criterion, device)\n",
    "print(f'Train Loss: {train_loss:.4f}, Train AUC: {train_auc:.4f}')\n",
    "\n",
    "val_loss, val_auc = test(model, val_dataloader, criterion, device)\n",
    "print(f'Val Loss: {val_loss:.4f}, Val AUC: {val_auc:.4f}')\n",
    "\n",
    "test_dataloader = torch.utils.data.DataLoader(dataset=test_dataset, batch_size=batchsize, num_workers=16)\n",
    "test_loss, test_auc = test(model, test_dataloader, criterion, device)\n",
    "print(f'Test Loss: {test_loss:.4f}, Test AUC: {test_auc:.4f}')"
   ]
  },
  {
   "cell_type": "markdown",
   "metadata": {},
   "source": [
    "|       | **Loss**  | **AUC**   |\n",
    "|-------|-------|-------|\n",
    "| **Train** | .0167 | .9941 |\n",
    "| **Val**   | .0311 | .9832 |\n",
    "| **Test**  | .0308 | .9836 |\n",
    "\n",
    "> **Now the model has begun overfitting, the train loss is lower than that of the val or test loss, and the train AUC is higher than that of the val or test AUC. However we have still trained a very good classifer, and finetuning has increased our final AUC score by an addition .05 relative to training the classifier layer alone.**"
   ]
  },
  {
   "cell_type": "markdown",
   "metadata": {},
   "source": [
    "<a id='5'></a>\n",
    "## **5. Model Inference**\n",
    "---\n",
    "> **Now that the model has been fine-tuned we can use the following code to load in saved weights and prepare the model for inference.**"
   ]
  },
  {
   "cell_type": "code",
   "execution_count": 34,
   "metadata": {},
   "outputs": [
    {
     "name": "stdout",
     "output_type": "stream",
     "text": [
      "Model ready.\n"
     ]
    }
   ],
   "source": [
    "weights_path = 'C:/Users/matth/Documents/fashion_product_dataset/best_model_weights_epoch_48_auc_0.9832_finetuning.pt'\n",
    "\n",
    "model = torchvision.models.resnet18(pretrained=True)\n",
    "num_ftrs = model.fc.in_features\n",
    "model.fc = torch.nn.Linear(num_ftrs, len(categories))\n",
    "\n",
    "weights = torch.load(weights_path, map_location=lambda storage, loc:storage)\n",
    "model.load_state_dict(weights)\n",
    "model.eval()\n",
    "print('Model ready.')"
   ]
  },
  {
   "cell_type": "markdown",
   "metadata": {},
   "source": [
    "> **Let's see what the model predictions for images in the test set. We won't use data from the dataset class we created earlier because we are only looking at the predictions for a single image. However, we still need to preprocess the image similarly. Note that now model predictions are being performed on the CPU; since we're only predicted one image at a time it doesn't take very long.**"
   ]
  },
  {
   "cell_type": "code",
   "execution_count": 88,
   "metadata": {},
   "outputs": [
    {
     "name": "stdout",
     "output_type": "stream",
     "text": [
      "Random Index: 7573\n",
      "Image ID: 57416\n",
      "True Labels: ['gender_Women', 'masterCategory_Apparel', 'subCategory_Loungewear and Nightwear', 'articleType_Nightdress', 'baseColour_Black', 'usage_Casual']\n",
      "Pred Labels: ['gender_Women', 'masterCategory_Apparel', 'subCategory_Loungewear and Nightwear', 'baseColour_Black', 'usage_Casual']\n"
     ]
    },
    {
     "data": {
      "image/png": "[encoded data removed]",
      "text/plain": [
       "<Figure size 432x288 with 1 Axes>"
      ]
     },
     "metadata": {
      "needs_background": "light"
     },
     "output_type": "display_data"
    }
   ],
   "source": [
    "index = np.random.randint(0, len(X_test))                 # Pick a random index from the test set\n",
    "print(f'Random Index: {index}')\n",
    "\n",
    "img_id = X_test[index]                                    # Get the image ID\n",
    "true_label = y_test[index]                                # Get the true one-hot encoded label\n",
    "true_categories = categories[true_label.astype(bool)].tolist()\n",
    "\n",
    "img_path = os.path.join(img_dir, f'{img_id}.jpg')         # Get the image path from the ID and img_dir\n",
    "img = Image.open(img_path)                                # Use Pillow to open the iamge\n",
    "\n",
    "preprocessed_img = test_transform(img)                    # Preprocess the image using test_transform\n",
    "preprocessed_img = preprocessed_img.unsqueeze(0)          # Add the required batch dimension (here batchsize=1)\n",
    "\n",
    "with torch.no_grad():                                     # Without tracking gradients,\n",
    "    pred = model(preprocessed_img)                        #   Predict the image labels using the model\n",
    "\n",
    "pred = pred.squeeze()                                     # Remove the batchsize dimension (since batchsize=1)\n",
    "pred = torch.sigmoid(pred).numpy()                        # Apply a sigmoid function to the model output and convert to numpy datatype\n",
    "pred = np.round(pred, 0)                                  # Round the predictions to 0 or 1\n",
    "pred_categories = categories[pred.astype(bool)].tolist()  # Get the category names for the one-hot encoded vector\n",
    "\n",
    "print(f'Image ID: {img_id}')\n",
    "print(f'True Labels: {true_categories}')\n",
    "print(f'Pred Labels: {pred_categories}')\n",
    "plt.imshow(img);"
   ]
  },
  {
   "cell_type": "markdown",
   "metadata": {},
   "source": [
    "> **You can also try downloading images from shopping sites like Amazon to see how well the model does.**"
   ]
  },
  {
   "cell_type": "code",
   "execution_count": 92,
   "metadata": {},
   "outputs": [
    {
     "name": "stdout",
     "output_type": "stream",
     "text": [
      "['gender_Men', 'masterCategory_Apparel', 'subCategory_Topwear', 'articleType_Tshirts', 'baseColour_Black', 'usage_Sports']\n"
     ]
    },
    {
     "data": {
      "image/png": "[encoded data removed]",
      "text/plain": [
       "<Figure size 432x288 with 1 Axes>"
      ]
     },
     "metadata": {
      "needs_background": "light"
     },
     "output_type": "display_data"
    }
   ],
   "source": [
    "img = Image.open('C:/Users/matth/Documents/fashion_product_dataset/data/amazon_img.jpg')\n",
    "plt.imshow(img)\n",
    "\n",
    "preprocessed_img = test_transform(img)\n",
    "preprocessed_img = preprocessed_img.unsqueeze(0)\n",
    "model.eval()\n",
    "with torch.no_grad():\n",
    "    pred = model(preprocessed_img).squeeze()\n",
    "pred = torch.sigmoid(pred).numpy()\n",
    "pred = np.round(pred, 0).astype(bool)\n",
    "pred_categories = categories[pred]\n",
    "print(pred_categories.tolist())"
   ]
  },
  {
   "cell_type": "code",
   "execution_count": null,
   "metadata": {},
   "outputs": [],
   "source": []
  }
 ],
 "metadata": {
  "kernelspec": {
   "display_name": "Python 3",
   "language": "python",
   "name": "python3"
  },
  "language_info": {
   "codemirror_mode": {
    "name": "ipython",
    "version": 3
   },
   "file_extension": ".py",
   "mimetype": "text/x-python",
   "name": "python",
   "nbconvert_exporter": "python",
   "pygments_lexer": "ipython3",
   "version": "3.7.6"
  }
 },
 "nbformat": 4,
 "nbformat_minor": 4
}
