{
 "cells": [
  {
   "cell_type": "code",
   "execution_count": 25,
   "metadata": {},
   "outputs": [
    {
     "name": "stdout",
     "output_type": "stream",
     "text": [
      "is X.shape ==. y.shape?  True\n",
      "X.shape at 0 is  210\n",
      "[ 44 182 187 154 160 145   2  83 140 100 131  86   0  71  75  12  99  13\n",
      "  81  98 111 134   7  32 110  15 176 102  33 193 178 198  58 173 205  77\n",
      " 200 116 107 168 149  91  79 143 203  50  60   5 122 185  22  20  85 189\n",
      " 159 147 114 151  90 161  67 156 142 150  45 152  14  10 169 192 103  46\n",
      " 108 148  21 125 202  52 158 180  88  28 165  54 146  76 120  92 199  51\n",
      " 136  11 184 179 188 113  95  30  26 132  49 119  93 127 117  57  72  25\n",
      " 191  19  78 174 177 137  53  80 115 118  84 194 190 133  39  18  62  35\n",
      "  89 166 201 195  69 129  61 181 135 157  48  16 144  36  55  42 139 172\n",
      "  43  29  87 206   8 126 123  68 207 197  56  27   3  63  31  37   1   4\n",
      " 105 164 153 130 112 101 170 196 162 104  41  40 155  24  96  23  82 128\n",
      " 183  70  59 175  65  74  73  97 141 208 186  17 124  66 209 167 163  34\n",
      " 204 138  94   6 106  47  64   9 109 171  38 121]\n"
     ]
    }
   ],
   "source": [
    "import pandas as pd\n",
    "import os\n",
    "from imblearn.over_sampling import RandomOverSampler\n",
    "import numpy as np\n",
    "\n",
    "RANDOM_STATE = 42\n",
    "\n",
    "features_directory = '../features/processed'\n",
    "saves_directory = './saves'\n",
    "num_datapoints = None  # None if you want all\n",
    "\n",
    "def unison_shuffle(X, y):\n",
    "    print(\"is X.shape ==. y.shape? \", X.shape[0]==y.shape[0])\n",
    "    print(\"X.shape at 0 is \", X.shape[0])\n",
    "    assert X.shape[0] == y.shape[0]\n",
    "    p = np.random.permutation(X.shape[0])\n",
    "    print(p)\n",
    "    return X.iloc[p], y[p]\n",
    "\n",
    "# this script tests aggregate features over line, scatter, and bar outcomes\n",
    "def load_features():\n",
    "    features_df_file_name = 'features_aggregate_single.csv'\n",
    "    outcomes_df_file_name = 'chart_outcomes.csv'\n",
    "\n",
    "    features_df = pd.read_csv(\n",
    "        os.path.join(\n",
    "            features_directory,\n",
    "            features_df_file_name))\n",
    "    outcomes_df = pd.read_csv(\n",
    "        os.path.join(\n",
    "            features_directory,\n",
    "            outcomes_df_file_name))\n",
    "\n",
    "    features_df = features_df[:num_datapoints]\n",
    "    outcome_variable_name = 'all_one_trace_type'\n",
    "    # photon: add circos here? \n",
    "    outcomes = ['line', 'scatter', 'bar']\n",
    "    outcomes_df_subset = outcomes_df[outcomes_df[outcome_variable_name].isin(\n",
    "        outcomes)][['fid', outcome_variable_name]]\n",
    "\n",
    "    final_df = pd.merge(features_df, outcomes_df_subset, on='fid', how='inner')\n",
    "    final_df = final_df.drop(['fid'], axis=1, inplace=False, errors='ignore')\n",
    "    final_df.sample(frac=1.0)\n",
    "\n",
    "    last_index = final_df.columns.get_loc(outcome_variable_name)\n",
    "    X = final_df.iloc[:, :last_index]\n",
    "    y = final_df.iloc[:, last_index]\n",
    "    y = pd.get_dummies(y).values.argmax(1)\n",
    "\n",
    "    res = RandomOverSampler(random_state=RANDOM_STATE)\n",
    "    X, y = res.fit_sample(X, y)\n",
    "    # shuffle X and y in unison, and then return\n",
    "    return unison_shuffle(X, y)\n",
    "\n",
    "X, y = load_features()\n"
   ]
  },
  {
   "cell_type": "code",
   "execution_count": 17,
   "metadata": {
    "scrolled": true
   },
   "outputs": [
    {
     "name": "stdout",
     "output_type": "stream",
     "text": [
      "210\n",
      "[173 151 103  14 140 152 132   2 176 150  46  36  34  27 100 193 110 126\n",
      "  32 209 196 198 146 203  55 147  11  98 185 119   5   4  58  67  75  84\n",
      " 149 160 191  16 113  38  13  23  18  41 188  73  57 159  60 171  59  97\n",
      "  68  49  25 175  53 208  93  63  99  43 112 172  45 170  24 105  42 138\n",
      " 136  82 206 183  92  54 115 186 192 163 161 177 104 120  10 148 182  56\n",
      "  21  83  30 194 207  26 199  71  80 156 200 189  20  51   0 142  85  64\n",
      "   3  65 131 166 154  28 153 134 137  86  29 145 133 174  89  31  19 127\n",
      "  48  76 155   7  81  78 143 108  17 169 139 190  94 107 164 197  40 106\n",
      "  90  61 202 135  50 124  37 144 205  70 130 102  52  87 116 162 201 179\n",
      " 181   1  66  77  35 122 101 123 165 114  74 195 111  79  69 109 204  72\n",
      "  96   8 158  33 178  88 129 118 125 128  12 168  95 141 180 117 157 187\n",
      "   9 121   6  39  22  15 167 184  47  91  44  62]\n"
     ]
    }
   ],
   "source": [
    "print(X.shape[0])\n",
    "p = np.random.permutation(X.shape[0])\n",
    "print(p)\n"
   ]
  },
  {
   "cell_type": "code",
   "execution_count": 21,
   "metadata": {},
   "outputs": [
    {
     "ename": "KeyError",
     "evalue": "\"None of [Int64Index([173, 151, 103,  14, 140, 152, 132,   2, 176, 150,\\n            ...\\n              6,  39,  22,  15, 167, 184,  47,  91,  44,  62],\\n           dtype='int64', length=210)] are in the [columns]\"",
     "output_type": "error",
     "traceback": [
      "\u001b[0;31m---------------------------------------------------------------------------\u001b[0m",
      "\u001b[0;31mKeyError\u001b[0m                                  Traceback (most recent call last)",
      "\u001b[0;32m<ipython-input-21-4fa2c5409b29>\u001b[0m in \u001b[0;36m<module>\u001b[0;34m\u001b[0m\n\u001b[0;32m----> 1\u001b[0;31m \u001b[0mX\u001b[0m\u001b[0;34m[\u001b[0m\u001b[0mp\u001b[0m\u001b[0;34m]\u001b[0m\u001b[0;34m\u001b[0m\u001b[0;34m\u001b[0m\u001b[0m\n\u001b[0m",
      "\u001b[0;32m~/opt/anaconda3/envs/vizml/lib/python3.7/site-packages/pandas/core/frame.py\u001b[0m in \u001b[0;36m__getitem__\u001b[0;34m(self, key)\u001b[0m\n\u001b[1;32m   2804\u001b[0m             \u001b[0;32mif\u001b[0m \u001b[0mis_iterator\u001b[0m\u001b[0;34m(\u001b[0m\u001b[0mkey\u001b[0m\u001b[0;34m)\u001b[0m\u001b[0;34m:\u001b[0m\u001b[0;34m\u001b[0m\u001b[0;34m\u001b[0m\u001b[0m\n\u001b[1;32m   2805\u001b[0m                 \u001b[0mkey\u001b[0m \u001b[0;34m=\u001b[0m \u001b[0mlist\u001b[0m\u001b[0;34m(\u001b[0m\u001b[0mkey\u001b[0m\u001b[0;34m)\u001b[0m\u001b[0;34m\u001b[0m\u001b[0;34m\u001b[0m\u001b[0m\n\u001b[0;32m-> 2806\u001b[0;31m             \u001b[0mindexer\u001b[0m \u001b[0;34m=\u001b[0m \u001b[0mself\u001b[0m\u001b[0;34m.\u001b[0m\u001b[0mloc\u001b[0m\u001b[0;34m.\u001b[0m\u001b[0m_get_listlike_indexer\u001b[0m\u001b[0;34m(\u001b[0m\u001b[0mkey\u001b[0m\u001b[0;34m,\u001b[0m \u001b[0maxis\u001b[0m\u001b[0;34m=\u001b[0m\u001b[0;36m1\u001b[0m\u001b[0;34m,\u001b[0m \u001b[0mraise_missing\u001b[0m\u001b[0;34m=\u001b[0m\u001b[0;32mTrue\u001b[0m\u001b[0;34m)\u001b[0m\u001b[0;34m[\u001b[0m\u001b[0;36m1\u001b[0m\u001b[0;34m]\u001b[0m\u001b[0;34m\u001b[0m\u001b[0;34m\u001b[0m\u001b[0m\n\u001b[0m\u001b[1;32m   2807\u001b[0m \u001b[0;34m\u001b[0m\u001b[0m\n\u001b[1;32m   2808\u001b[0m         \u001b[0;31m# take() does not accept boolean indexers\u001b[0m\u001b[0;34m\u001b[0m\u001b[0;34m\u001b[0m\u001b[0;34m\u001b[0m\u001b[0m\n",
      "\u001b[0;32m~/opt/anaconda3/envs/vizml/lib/python3.7/site-packages/pandas/core/indexing.py\u001b[0m in \u001b[0;36m_get_listlike_indexer\u001b[0;34m(self, key, axis, raise_missing)\u001b[0m\n\u001b[1;32m   1551\u001b[0m \u001b[0;34m\u001b[0m\u001b[0m\n\u001b[1;32m   1552\u001b[0m         self._validate_read_indexer(\n\u001b[0;32m-> 1553\u001b[0;31m             \u001b[0mkeyarr\u001b[0m\u001b[0;34m,\u001b[0m \u001b[0mindexer\u001b[0m\u001b[0;34m,\u001b[0m \u001b[0mo\u001b[0m\u001b[0;34m.\u001b[0m\u001b[0m_get_axis_number\u001b[0m\u001b[0;34m(\u001b[0m\u001b[0maxis\u001b[0m\u001b[0;34m)\u001b[0m\u001b[0;34m,\u001b[0m \u001b[0mraise_missing\u001b[0m\u001b[0;34m=\u001b[0m\u001b[0mraise_missing\u001b[0m\u001b[0;34m\u001b[0m\u001b[0;34m\u001b[0m\u001b[0m\n\u001b[0m\u001b[1;32m   1554\u001b[0m         )\n\u001b[1;32m   1555\u001b[0m         \u001b[0;32mreturn\u001b[0m \u001b[0mkeyarr\u001b[0m\u001b[0;34m,\u001b[0m \u001b[0mindexer\u001b[0m\u001b[0;34m\u001b[0m\u001b[0;34m\u001b[0m\u001b[0m\n",
      "\u001b[0;32m~/opt/anaconda3/envs/vizml/lib/python3.7/site-packages/pandas/core/indexing.py\u001b[0m in \u001b[0;36m_validate_read_indexer\u001b[0;34m(self, key, indexer, axis, raise_missing)\u001b[0m\n\u001b[1;32m   1638\u001b[0m             \u001b[0;32mif\u001b[0m \u001b[0mmissing\u001b[0m \u001b[0;34m==\u001b[0m \u001b[0mlen\u001b[0m\u001b[0;34m(\u001b[0m\u001b[0mindexer\u001b[0m\u001b[0;34m)\u001b[0m\u001b[0;34m:\u001b[0m\u001b[0;34m\u001b[0m\u001b[0;34m\u001b[0m\u001b[0m\n\u001b[1;32m   1639\u001b[0m                 \u001b[0maxis_name\u001b[0m \u001b[0;34m=\u001b[0m \u001b[0mself\u001b[0m\u001b[0;34m.\u001b[0m\u001b[0mobj\u001b[0m\u001b[0;34m.\u001b[0m\u001b[0m_get_axis_name\u001b[0m\u001b[0;34m(\u001b[0m\u001b[0maxis\u001b[0m\u001b[0;34m)\u001b[0m\u001b[0;34m\u001b[0m\u001b[0;34m\u001b[0m\u001b[0m\n\u001b[0;32m-> 1640\u001b[0;31m                 \u001b[0;32mraise\u001b[0m \u001b[0mKeyError\u001b[0m\u001b[0;34m(\u001b[0m\u001b[0;34mf\"None of [{key}] are in the [{axis_name}]\"\u001b[0m\u001b[0;34m)\u001b[0m\u001b[0;34m\u001b[0m\u001b[0;34m\u001b[0m\u001b[0m\n\u001b[0m\u001b[1;32m   1641\u001b[0m \u001b[0;34m\u001b[0m\u001b[0m\n\u001b[1;32m   1642\u001b[0m             \u001b[0;31m# We (temporarily) allow for some missing keys with .loc, except in\u001b[0m\u001b[0;34m\u001b[0m\u001b[0;34m\u001b[0m\u001b[0;34m\u001b[0m\u001b[0m\n",
      "\u001b[0;31mKeyError\u001b[0m: \"None of [Int64Index([173, 151, 103,  14, 140, 152, 132,   2, 176, 150,\\n            ...\\n              6,  39,  22,  15, 167, 184,  47,  91,  44,  62],\\n           dtype='int64', length=210)] are in the [columns]\""
     ]
    }
   ],
   "source": [
    "X[p]"
   ]
  },
  {
   "cell_type": "code",
   "execution_count": null,
   "metadata": {},
   "outputs": [],
   "source": [
    "print(X)"
   ]
  },
  {
   "cell_type": "code",
   "execution_count": 22,
   "metadata": {},
   "outputs": [
    {
     "ename": "KeyError",
     "evalue": "\"None of [Int64Index([183, 112, 100,  21,  67,  56,  13,  85,  15,  45,\\n            ...\\n            194, 162, 107, 104, 193, 109,  49, 176, 130, 198],\\n           dtype='int64', length=210)] are in the [columns]\"",
     "output_type": "error",
     "traceback": [
      "\u001b[0;31m---------------------------------------------------------------------------\u001b[0m",
      "\u001b[0;31mKeyError\u001b[0m                                  Traceback (most recent call last)",
      "\u001b[0;32m<ipython-input-22-71dbdd247ef3>\u001b[0m in \u001b[0;36m<module>\u001b[0;34m\u001b[0m\n\u001b[0;32m----> 1\u001b[0;31m \u001b[0mprint\u001b[0m\u001b[0;34m(\u001b[0m\u001b[0mX\u001b[0m\u001b[0;34m[\u001b[0m\u001b[0mp\u001b[0m\u001b[0;34m]\u001b[0m\u001b[0;34m)\u001b[0m\u001b[0;34m\u001b[0m\u001b[0;34m\u001b[0m\u001b[0m\n\u001b[0m",
      "\u001b[0;32m~/opt/anaconda3/envs/vizml/lib/python3.7/site-packages/pandas/core/frame.py\u001b[0m in \u001b[0;36m__getitem__\u001b[0;34m(self, key)\u001b[0m\n\u001b[1;32m   2804\u001b[0m             \u001b[0;32mif\u001b[0m \u001b[0mis_iterator\u001b[0m\u001b[0;34m(\u001b[0m\u001b[0mkey\u001b[0m\u001b[0;34m)\u001b[0m\u001b[0;34m:\u001b[0m\u001b[0;34m\u001b[0m\u001b[0;34m\u001b[0m\u001b[0m\n\u001b[1;32m   2805\u001b[0m                 \u001b[0mkey\u001b[0m \u001b[0;34m=\u001b[0m \u001b[0mlist\u001b[0m\u001b[0;34m(\u001b[0m\u001b[0mkey\u001b[0m\u001b[0;34m)\u001b[0m\u001b[0;34m\u001b[0m\u001b[0;34m\u001b[0m\u001b[0m\n\u001b[0;32m-> 2806\u001b[0;31m             \u001b[0mindexer\u001b[0m \u001b[0;34m=\u001b[0m \u001b[0mself\u001b[0m\u001b[0;34m.\u001b[0m\u001b[0mloc\u001b[0m\u001b[0;34m.\u001b[0m\u001b[0m_get_listlike_indexer\u001b[0m\u001b[0;34m(\u001b[0m\u001b[0mkey\u001b[0m\u001b[0;34m,\u001b[0m \u001b[0maxis\u001b[0m\u001b[0;34m=\u001b[0m\u001b[0;36m1\u001b[0m\u001b[0;34m,\u001b[0m \u001b[0mraise_missing\u001b[0m\u001b[0;34m=\u001b[0m\u001b[0;32mTrue\u001b[0m\u001b[0;34m)\u001b[0m\u001b[0;34m[\u001b[0m\u001b[0;36m1\u001b[0m\u001b[0;34m]\u001b[0m\u001b[0;34m\u001b[0m\u001b[0;34m\u001b[0m\u001b[0m\n\u001b[0m\u001b[1;32m   2807\u001b[0m \u001b[0;34m\u001b[0m\u001b[0m\n\u001b[1;32m   2808\u001b[0m         \u001b[0;31m# take() does not accept boolean indexers\u001b[0m\u001b[0;34m\u001b[0m\u001b[0;34m\u001b[0m\u001b[0;34m\u001b[0m\u001b[0m\n",
      "\u001b[0;32m~/opt/anaconda3/envs/vizml/lib/python3.7/site-packages/pandas/core/indexing.py\u001b[0m in \u001b[0;36m_get_listlike_indexer\u001b[0;34m(self, key, axis, raise_missing)\u001b[0m\n\u001b[1;32m   1551\u001b[0m \u001b[0;34m\u001b[0m\u001b[0m\n\u001b[1;32m   1552\u001b[0m         self._validate_read_indexer(\n\u001b[0;32m-> 1553\u001b[0;31m             \u001b[0mkeyarr\u001b[0m\u001b[0;34m,\u001b[0m \u001b[0mindexer\u001b[0m\u001b[0;34m,\u001b[0m \u001b[0mo\u001b[0m\u001b[0;34m.\u001b[0m\u001b[0m_get_axis_number\u001b[0m\u001b[0;34m(\u001b[0m\u001b[0maxis\u001b[0m\u001b[0;34m)\u001b[0m\u001b[0;34m,\u001b[0m \u001b[0mraise_missing\u001b[0m\u001b[0;34m=\u001b[0m\u001b[0mraise_missing\u001b[0m\u001b[0;34m\u001b[0m\u001b[0;34m\u001b[0m\u001b[0m\n\u001b[0m\u001b[1;32m   1554\u001b[0m         )\n\u001b[1;32m   1555\u001b[0m         \u001b[0;32mreturn\u001b[0m \u001b[0mkeyarr\u001b[0m\u001b[0;34m,\u001b[0m \u001b[0mindexer\u001b[0m\u001b[0;34m\u001b[0m\u001b[0;34m\u001b[0m\u001b[0m\n",
      "\u001b[0;32m~/opt/anaconda3/envs/vizml/lib/python3.7/site-packages/pandas/core/indexing.py\u001b[0m in \u001b[0;36m_validate_read_indexer\u001b[0;34m(self, key, indexer, axis, raise_missing)\u001b[0m\n\u001b[1;32m   1638\u001b[0m             \u001b[0;32mif\u001b[0m \u001b[0mmissing\u001b[0m \u001b[0;34m==\u001b[0m \u001b[0mlen\u001b[0m\u001b[0;34m(\u001b[0m\u001b[0mindexer\u001b[0m\u001b[0;34m)\u001b[0m\u001b[0;34m:\u001b[0m\u001b[0;34m\u001b[0m\u001b[0;34m\u001b[0m\u001b[0m\n\u001b[1;32m   1639\u001b[0m                 \u001b[0maxis_name\u001b[0m \u001b[0;34m=\u001b[0m \u001b[0mself\u001b[0m\u001b[0;34m.\u001b[0m\u001b[0mobj\u001b[0m\u001b[0;34m.\u001b[0m\u001b[0m_get_axis_name\u001b[0m\u001b[0;34m(\u001b[0m\u001b[0maxis\u001b[0m\u001b[0;34m)\u001b[0m\u001b[0;34m\u001b[0m\u001b[0;34m\u001b[0m\u001b[0m\n\u001b[0;32m-> 1640\u001b[0;31m                 \u001b[0;32mraise\u001b[0m \u001b[0mKeyError\u001b[0m\u001b[0;34m(\u001b[0m\u001b[0;34mf\"None of [{key}] are in the [{axis_name}]\"\u001b[0m\u001b[0;34m)\u001b[0m\u001b[0;34m\u001b[0m\u001b[0;34m\u001b[0m\u001b[0m\n\u001b[0m\u001b[1;32m   1641\u001b[0m \u001b[0;34m\u001b[0m\u001b[0m\n\u001b[1;32m   1642\u001b[0m             \u001b[0;31m# We (temporarily) allow for some missing keys with .loc, except in\u001b[0m\u001b[0;34m\u001b[0m\u001b[0;34m\u001b[0m\u001b[0;34m\u001b[0m\u001b[0m\n",
      "\u001b[0;31mKeyError\u001b[0m: \"None of [Int64Index([183, 112, 100,  21,  67,  56,  13,  85,  15,  45,\\n            ...\\n            194, 162, 107, 104, 193, 109,  49, 176, 130, 198],\\n           dtype='int64', length=210)] are in the [columns]\""
     ]
    }
   ],
   "source": [
    "print(X[p])"
   ]
  },
  {
   "cell_type": "code",
   "execution_count": 24,
   "metadata": {},
   "outputs": [
    {
     "name": "stdout",
     "output_type": "stream",
     "text": [
      "     exists-agg-num  exists-agg-has  exists-agg-only_one  exists-agg-all  \\\n",
      "173              11            True                False           False   \n",
      "151               2            True                False           False   \n",
      "103               3            True                False           False   \n",
      "14                3            True                False           False   \n",
      "140               3            True                False           False   \n",
      "..              ...             ...                  ...             ...   \n",
      "184               3            True                False           False   \n",
      "47                2            True                False           False   \n",
      "91                2            True                False           False   \n",
      "44                5            True                False           False   \n",
      "62                2            True                False           False   \n",
      "\n",
      "     exists-agg-percentage  length-agg-mean  length-agg-var  length-agg-std  \\\n",
      "173                   0.44              7.0             0.0             0.0   \n",
      "151                   0.08             24.0             0.0             0.0   \n",
      "103                   0.12             30.0             0.0             0.0   \n",
      "14                    0.12           4203.0             0.0             0.0   \n",
      "140                   0.12              9.0             0.0             0.0   \n",
      "..                     ...              ...             ...             ...   \n",
      "184                   0.12           8439.0             0.0             0.0   \n",
      "47                    0.08             34.0             0.0             0.0   \n",
      "91                    0.08            395.0             0.0             0.0   \n",
      "44                    0.20             30.0             0.0             0.0   \n",
      "62                    0.08            898.0             0.0             0.0   \n",
      "\n",
      "     length-agg-avg_abs_dev  length-agg-med_abs_dev  ...  \\\n",
      "173                     0.0                     0.0  ...   \n",
      "151                     0.0                     0.0  ...   \n",
      "103                     0.0                     0.0  ...   \n",
      "14                      0.0                     0.0  ...   \n",
      "140                     0.0                     0.0  ...   \n",
      "..                      ...                     ...  ...   \n",
      "184                     0.0                     0.0  ...   \n",
      "47                      0.0                     0.0  ...   \n",
      "91                      0.0                     0.0  ...   \n",
      "44                      0.0                     0.0  ...   \n",
      "62                      0.0                     0.0  ...   \n",
      "\n",
      "     is_lin_space-agg-only_one  is_lin_space-agg-all  \\\n",
      "173                      False                 False   \n",
      "151                       True                 False   \n",
      "103                      False                 False   \n",
      "14                       False                 False   \n",
      "140                      False                 False   \n",
      "..                         ...                   ...   \n",
      "184                      False                 False   \n",
      "47                       False                 False   \n",
      "91                       False                 False   \n",
      "44                       False                 False   \n",
      "62                       False                 False   \n",
      "\n",
      "     is_lin_space-agg-percentage  is_log_space-agg-num  is_log_space-agg-has  \\\n",
      "173                         0.00                     0                 False   \n",
      "151                         0.04                     0                 False   \n",
      "103                         0.00                     0                 False   \n",
      "14                          0.00                     2                  True   \n",
      "140                         0.00                     0                 False   \n",
      "..                           ...                   ...                   ...   \n",
      "184                         0.00                     0                 False   \n",
      "47                          0.00                     0                 False   \n",
      "91                          0.00                     0                 False   \n",
      "44                          0.00                     0                 False   \n",
      "62                          0.00                     1                  True   \n",
      "\n",
      "     is_log_space-agg-only_one  is_log_space-agg-all  \\\n",
      "173                      False                 False   \n",
      "151                      False                 False   \n",
      "103                      False                 False   \n",
      "14                       False                 False   \n",
      "140                      False                 False   \n",
      "..                         ...                   ...   \n",
      "184                      False                 False   \n",
      "47                       False                 False   \n",
      "91                       False                 False   \n",
      "44                       False                 False   \n",
      "62                        True                 False   \n",
      "\n",
      "     is_log_space-agg-percentage  data_type_entropy  general_type_entropy  \n",
      "173                         0.00           0.304636              0.304636  \n",
      "151                         0.00           0.000000              0.000000  \n",
      "103                         0.00           1.098612              0.636514  \n",
      "14                          0.08           1.098612              0.636514  \n",
      "140                         0.00           0.636514              0.636514  \n",
      "..                           ...                ...                   ...  \n",
      "184                         0.00           0.636514              0.636514  \n",
      "47                          0.00           0.693147              0.693147  \n",
      "91                          0.00           0.000000              0.000000  \n",
      "44                          0.00           0.673012              0.673012  \n",
      "62                          0.04           0.693147              0.693147  \n",
      "\n",
      "[210 rows x 657 columns]\n"
     ]
    }
   ],
   "source": [
    "print(X.iloc[p])"
   ]
  },
  {
   "cell_type": "code",
   "execution_count": 1,
   "metadata": {},
   "outputs": [
    {
     "ename": "NameError",
     "evalue": "name 'X' is not defined",
     "output_type": "error",
     "traceback": [
      "\u001b[0;31m---------------------------------------------------------------------------\u001b[0m",
      "\u001b[0;31mNameError\u001b[0m                                 Traceback (most recent call last)",
      "\u001b[0;32m<ipython-input-1-19c40ecbd036>\u001b[0m in \u001b[0;36m<module>\u001b[0;34m\u001b[0m\n\u001b[0;32m----> 1\u001b[0;31m \u001b[0mX\u001b[0m\u001b[0;34m[\u001b[0m\u001b[0;36m0\u001b[0m\u001b[0;34m]\u001b[0m\u001b[0;34m\u001b[0m\u001b[0;34m\u001b[0m\u001b[0m\n\u001b[0m",
      "\u001b[0;31mNameError\u001b[0m: name 'X' is not defined"
     ]
    }
   ],
   "source": [
    "X[0]"
   ]
  },
  {
   "cell_type": "code",
   "execution_count": null,
   "metadata": {},
   "outputs": [],
   "source": []
  }
 ],
 "metadata": {
  "kernelspec": {
   "display_name": "Python 3",
   "language": "python",
   "name": "python3"
  },
  "language_info": {
   "codemirror_mode": {
    "name": "ipython",
    "version": 3
   },
   "file_extension": ".py",
   "mimetype": "text/x-python",
   "name": "python",
   "nbconvert_exporter": "python",
   "pygments_lexer": "ipython3",
   "version": "3.7.3"
  }
 },
 "nbformat": 4,
 "nbformat_minor": 4
}
