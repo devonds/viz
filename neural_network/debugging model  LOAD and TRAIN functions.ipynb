{
 "cells": [
  {
   "cell_type": "code",
   "execution_count": 26,
   "metadata": {},
   "outputs": [
    {
     "name": "stdout",
     "output_type": "stream",
     "text": [
      "is X.shape ==. y.shape?  True\n",
      "X.shape at 0 is  210\n",
      "[184  98 196 168  14 174 165 144 101  96  29  25 107 167 171  65 118   3\n",
      "   8  51  13  59  35 151  70 136  61 104  82  12  22 156 178  39 148  94\n",
      " 108  87  19  83  73  18  97  33 147 199 143 100  42  44 192  64 153  34\n",
      " 119   6  56 141  60   4 205  52  46 112  76   7  43  89   5 134 209  20\n",
      " 164 155 207 140  53 160 109  17 135   9  68  10 202 166 138 137  78  37\n",
      "  91 204 121 191  66 173  32 194 120  55 122 161  27 111  50  74  58 115\n",
      " 129  31  40 157  72  79 150 128 201 106 186  85 170  30  77  36 182  48\n",
      " 162 142 113 110 185  47 176 193 139  92  62 116 117 114  15 197  80 189\n",
      " 206  71 126  93   1 198 124  84 200  38 183 130  99 159  21  67  54  57\n",
      "  95 102 154  75 132 133  86  11  90  24 149 181 131  41 203 145  88 105\n",
      " 163 188 195  16 179  23 152 172 169  49 175   0 103  69 208  81 127 177\n",
      "   2 123 125  63  26 187 146 180 158 190  28  45]\n"
     ]
    }
   ],
   "source": [
    "import pandas as pd\n",
    "import os\n",
    "from imblearn.over_sampling import RandomOverSampler\n",
    "import numpy as np\n",
    "\n",
    "RANDOM_STATE = 42\n",
    "\n",
    "features_directory = '../features/processed'\n",
    "saves_directory = './saves'\n",
    "num_datapoints = None  # None if you want all\n",
    "\n",
    "def unison_shuffle(X, y):\n",
    "    print(\"is X.shape ==. y.shape? \", X.shape[0]==y.shape[0])\n",
    "    print(\"X.shape at 0 is \", X.shape[0])\n",
    "    assert X.shape[0] == y.shape[0]\n",
    "    p = np.random.permutation(X.shape[0])\n",
    "    print(p)\n",
    "    return X.iloc[p], y[p]\n",
    "\n",
    "# this script tests aggregate features over line, scatter, and bar outcomes\n",
    "def load_features():\n",
    "    features_df_file_name = 'features_aggregate_single.csv'\n",
    "    outcomes_df_file_name = 'chart_outcomes.csv'\n",
    "\n",
    "    features_df = pd.read_csv(\n",
    "        os.path.join(\n",
    "            features_directory,\n",
    "            features_df_file_name))\n",
    "    outcomes_df = pd.read_csv(\n",
    "        os.path.join(\n",
    "            features_directory,\n",
    "            outcomes_df_file_name))\n",
    "\n",
    "    features_df = features_df[:num_datapoints]\n",
    "    outcome_variable_name = 'all_one_trace_type'\n",
    "    # photon: add circos here? \n",
    "    outcomes = ['line', 'scatter', 'bar']\n",
    "    outcomes_df_subset = outcomes_df[outcomes_df[outcome_variable_name].isin(\n",
    "        outcomes)][['fid', outcome_variable_name]]\n",
    "\n",
    "    final_df = pd.merge(features_df, outcomes_df_subset, on='fid', how='inner')\n",
    "    final_df = final_df.drop(['fid'], axis=1, inplace=False, errors='ignore')\n",
    "    final_df.sample(frac=1.0)\n",
    "\n",
    "    last_index = final_df.columns.get_loc(outcome_variable_name)\n",
    "    X = final_df.iloc[:, :last_index]\n",
    "    y = final_df.iloc[:, last_index]\n",
    "    y = pd.get_dummies(y).values.argmax(1)\n",
    "\n",
    "    res = RandomOverSampler(random_state=RANDOM_STATE)\n",
    "    X, y = res.fit_sample(X, y)\n",
    "    # shuffle X and y in unison, and then return\n",
    "    return unison_shuffle(X, y)\n",
    "\n",
    "X, y = load_features()\n"
   ]
  },
  {
   "cell_type": "code",
   "execution_count": 27,
   "metadata": {
    "scrolled": true
   },
   "outputs": [
    {
     "name": "stdout",
     "output_type": "stream",
     "text": [
      "210\n",
      "[124  97 166 145  47  84  42 143 129  61 136 169  69 164 161  41 100  60\n",
      "  98  24 160  37 156 144 183 157 152  62 125  59  68   4  50  51 118  88\n",
      " 209  90 110 196  43 207  18  15 134  66  89 155  36 171 126 162 113  19\n",
      " 158  25  70 128  64  86 149  38  33  22  83  21 146   2  96  57  81 185\n",
      "  10  58 172 138  35  49 111 170 119 112  55 130  92  87 204 159 103   9\n",
      " 131 188 163 120 168 105 142 148 199 121  29 194 200  13 106 115  80 117\n",
      " 154 141 174 127  32 153 101 122  34 182 147  73  28  40  26 137  71 203\n",
      "   8 109  95 135  74 201 165  56  23  72  99  44  79 202  12 197 181  16\n",
      " 123  54  53 180 191 133  30   3  94  17 205 189  39   7 178  46 140 176\n",
      " 184  77 198 104 206 187 151  91  63  93   5  14  78  82 116   1  67  48\n",
      "  11  65 186  20 195 102   6  52 208  76 175 177  27 108  31 114 107 150\n",
      " 193  85 190  45 132  75 173 192 139   0 167 179]\n"
     ]
    }
   ],
   "source": [
    "print(X.shape[0])\n",
    "p = np.random.permutation(X.shape[0])\n",
    "print(p)\n"
   ]
  },
  {
   "cell_type": "code",
   "execution_count": 28,
   "metadata": {},
   "outputs": [
    {
     "ename": "KeyError",
     "evalue": "\"None of [Int64Index([124,  97, 166, 145,  47,  84,  42, 143, 129,  61,\\n            ...\\n            190,  45, 132,  75, 173, 192, 139,   0, 167, 179],\\n           dtype='int64', length=210)] are in the [columns]\"",
     "output_type": "error",
     "traceback": [
      "\u001b[0;31m---------------------------------------------------------------------------\u001b[0m",
      "\u001b[0;31mKeyError\u001b[0m                                  Traceback (most recent call last)",
      "\u001b[0;32m<ipython-input-28-4fa2c5409b29>\u001b[0m in \u001b[0;36m<module>\u001b[0;34m\u001b[0m\n\u001b[0;32m----> 1\u001b[0;31m \u001b[0mX\u001b[0m\u001b[0;34m[\u001b[0m\u001b[0mp\u001b[0m\u001b[0;34m]\u001b[0m\u001b[0;34m\u001b[0m\u001b[0;34m\u001b[0m\u001b[0m\n\u001b[0m",
      "\u001b[0;32m~/opt/anaconda3/envs/vizml/lib/python3.7/site-packages/pandas/core/frame.py\u001b[0m in \u001b[0;36m__getitem__\u001b[0;34m(self, key)\u001b[0m\n\u001b[1;32m   2804\u001b[0m             \u001b[0;32mif\u001b[0m \u001b[0mis_iterator\u001b[0m\u001b[0;34m(\u001b[0m\u001b[0mkey\u001b[0m\u001b[0;34m)\u001b[0m\u001b[0;34m:\u001b[0m\u001b[0;34m\u001b[0m\u001b[0;34m\u001b[0m\u001b[0m\n\u001b[1;32m   2805\u001b[0m                 \u001b[0mkey\u001b[0m \u001b[0;34m=\u001b[0m \u001b[0mlist\u001b[0m\u001b[0;34m(\u001b[0m\u001b[0mkey\u001b[0m\u001b[0;34m)\u001b[0m\u001b[0;34m\u001b[0m\u001b[0;34m\u001b[0m\u001b[0m\n\u001b[0;32m-> 2806\u001b[0;31m             \u001b[0mindexer\u001b[0m \u001b[0;34m=\u001b[0m \u001b[0mself\u001b[0m\u001b[0;34m.\u001b[0m\u001b[0mloc\u001b[0m\u001b[0;34m.\u001b[0m\u001b[0m_get_listlike_indexer\u001b[0m\u001b[0;34m(\u001b[0m\u001b[0mkey\u001b[0m\u001b[0;34m,\u001b[0m \u001b[0maxis\u001b[0m\u001b[0;34m=\u001b[0m\u001b[0;36m1\u001b[0m\u001b[0;34m,\u001b[0m \u001b[0mraise_missing\u001b[0m\u001b[0;34m=\u001b[0m\u001b[0;32mTrue\u001b[0m\u001b[0;34m)\u001b[0m\u001b[0;34m[\u001b[0m\u001b[0;36m1\u001b[0m\u001b[0;34m]\u001b[0m\u001b[0;34m\u001b[0m\u001b[0;34m\u001b[0m\u001b[0m\n\u001b[0m\u001b[1;32m   2807\u001b[0m \u001b[0;34m\u001b[0m\u001b[0m\n\u001b[1;32m   2808\u001b[0m         \u001b[0;31m# take() does not accept boolean indexers\u001b[0m\u001b[0;34m\u001b[0m\u001b[0;34m\u001b[0m\u001b[0;34m\u001b[0m\u001b[0m\n",
      "\u001b[0;32m~/opt/anaconda3/envs/vizml/lib/python3.7/site-packages/pandas/core/indexing.py\u001b[0m in \u001b[0;36m_get_listlike_indexer\u001b[0;34m(self, key, axis, raise_missing)\u001b[0m\n\u001b[1;32m   1551\u001b[0m \u001b[0;34m\u001b[0m\u001b[0m\n\u001b[1;32m   1552\u001b[0m         self._validate_read_indexer(\n\u001b[0;32m-> 1553\u001b[0;31m             \u001b[0mkeyarr\u001b[0m\u001b[0;34m,\u001b[0m \u001b[0mindexer\u001b[0m\u001b[0;34m,\u001b[0m \u001b[0mo\u001b[0m\u001b[0;34m.\u001b[0m\u001b[0m_get_axis_number\u001b[0m\u001b[0;34m(\u001b[0m\u001b[0maxis\u001b[0m\u001b[0;34m)\u001b[0m\u001b[0;34m,\u001b[0m \u001b[0mraise_missing\u001b[0m\u001b[0;34m=\u001b[0m\u001b[0mraise_missing\u001b[0m\u001b[0;34m\u001b[0m\u001b[0;34m\u001b[0m\u001b[0m\n\u001b[0m\u001b[1;32m   1554\u001b[0m         )\n\u001b[1;32m   1555\u001b[0m         \u001b[0;32mreturn\u001b[0m \u001b[0mkeyarr\u001b[0m\u001b[0;34m,\u001b[0m \u001b[0mindexer\u001b[0m\u001b[0;34m\u001b[0m\u001b[0;34m\u001b[0m\u001b[0m\n",
      "\u001b[0;32m~/opt/anaconda3/envs/vizml/lib/python3.7/site-packages/pandas/core/indexing.py\u001b[0m in \u001b[0;36m_validate_read_indexer\u001b[0;34m(self, key, indexer, axis, raise_missing)\u001b[0m\n\u001b[1;32m   1638\u001b[0m             \u001b[0;32mif\u001b[0m \u001b[0mmissing\u001b[0m \u001b[0;34m==\u001b[0m \u001b[0mlen\u001b[0m\u001b[0;34m(\u001b[0m\u001b[0mindexer\u001b[0m\u001b[0;34m)\u001b[0m\u001b[0;34m:\u001b[0m\u001b[0;34m\u001b[0m\u001b[0;34m\u001b[0m\u001b[0m\n\u001b[1;32m   1639\u001b[0m                 \u001b[0maxis_name\u001b[0m \u001b[0;34m=\u001b[0m \u001b[0mself\u001b[0m\u001b[0;34m.\u001b[0m\u001b[0mobj\u001b[0m\u001b[0;34m.\u001b[0m\u001b[0m_get_axis_name\u001b[0m\u001b[0;34m(\u001b[0m\u001b[0maxis\u001b[0m\u001b[0;34m)\u001b[0m\u001b[0;34m\u001b[0m\u001b[0;34m\u001b[0m\u001b[0m\n\u001b[0;32m-> 1640\u001b[0;31m                 \u001b[0;32mraise\u001b[0m \u001b[0mKeyError\u001b[0m\u001b[0;34m(\u001b[0m\u001b[0;34mf\"None of [{key}] are in the [{axis_name}]\"\u001b[0m\u001b[0;34m)\u001b[0m\u001b[0;34m\u001b[0m\u001b[0;34m\u001b[0m\u001b[0m\n\u001b[0m\u001b[1;32m   1641\u001b[0m \u001b[0;34m\u001b[0m\u001b[0m\n\u001b[1;32m   1642\u001b[0m             \u001b[0;31m# We (temporarily) allow for some missing keys with .loc, except in\u001b[0m\u001b[0;34m\u001b[0m\u001b[0;34m\u001b[0m\u001b[0;34m\u001b[0m\u001b[0m\n",
      "\u001b[0;31mKeyError\u001b[0m: \"None of [Int64Index([124,  97, 166, 145,  47,  84,  42, 143, 129,  61,\\n            ...\\n            190,  45, 132,  75, 173, 192, 139,   0, 167, 179],\\n           dtype='int64', length=210)] are in the [columns]\""
     ]
    }
   ],
   "source": [
    "X[p]"
   ]
  },
  {
   "cell_type": "code",
   "execution_count": null,
   "metadata": {},
   "outputs": [],
   "source": [
    "print(X)"
   ]
  },
  {
   "cell_type": "code",
   "execution_count": null,
   "metadata": {},
   "outputs": [],
   "source": [
    "print(X[p])"
   ]
  },
  {
   "cell_type": "code",
   "execution_count": 24,
   "metadata": {},
   "outputs": [
    {
     "name": "stdout",
     "output_type": "stream",
     "text": [
      "     exists-agg-num  exists-agg-has  exists-agg-only_one  exists-agg-all  \\\n",
      "173              11            True                False           False   \n",
      "151               2            True                False           False   \n",
      "103               3            True                False           False   \n",
      "14                3            True                False           False   \n",
      "140               3            True                False           False   \n",
      "..              ...             ...                  ...             ...   \n",
      "184               3            True                False           False   \n",
      "47                2            True                False           False   \n",
      "91                2            True                False           False   \n",
      "44                5            True                False           False   \n",
      "62                2            True                False           False   \n",
      "\n",
      "     exists-agg-percentage  length-agg-mean  length-agg-var  length-agg-std  \\\n",
      "173                   0.44              7.0             0.0             0.0   \n",
      "151                   0.08             24.0             0.0             0.0   \n",
      "103                   0.12             30.0             0.0             0.0   \n",
      "14                    0.12           4203.0             0.0             0.0   \n",
      "140                   0.12              9.0             0.0             0.0   \n",
      "..                     ...              ...             ...             ...   \n",
      "184                   0.12           8439.0             0.0             0.0   \n",
      "47                    0.08             34.0             0.0             0.0   \n",
      "91                    0.08            395.0             0.0             0.0   \n",
      "44                    0.20             30.0             0.0             0.0   \n",
      "62                    0.08            898.0             0.0             0.0   \n",
      "\n",
      "     length-agg-avg_abs_dev  length-agg-med_abs_dev  ...  \\\n",
      "173                     0.0                     0.0  ...   \n",
      "151                     0.0                     0.0  ...   \n",
      "103                     0.0                     0.0  ...   \n",
      "14                      0.0                     0.0  ...   \n",
      "140                     0.0                     0.0  ...   \n",
      "..                      ...                     ...  ...   \n",
      "184                     0.0                     0.0  ...   \n",
      "47                      0.0                     0.0  ...   \n",
      "91                      0.0                     0.0  ...   \n",
      "44                      0.0                     0.0  ...   \n",
      "62                      0.0                     0.0  ...   \n",
      "\n",
      "     is_lin_space-agg-only_one  is_lin_space-agg-all  \\\n",
      "173                      False                 False   \n",
      "151                       True                 False   \n",
      "103                      False                 False   \n",
      "14                       False                 False   \n",
      "140                      False                 False   \n",
      "..                         ...                   ...   \n",
      "184                      False                 False   \n",
      "47                       False                 False   \n",
      "91                       False                 False   \n",
      "44                       False                 False   \n",
      "62                       False                 False   \n",
      "\n",
      "     is_lin_space-agg-percentage  is_log_space-agg-num  is_log_space-agg-has  \\\n",
      "173                         0.00                     0                 False   \n",
      "151                         0.04                     0                 False   \n",
      "103                         0.00                     0                 False   \n",
      "14                          0.00                     2                  True   \n",
      "140                         0.00                     0                 False   \n",
      "..                           ...                   ...                   ...   \n",
      "184                         0.00                     0                 False   \n",
      "47                          0.00                     0                 False   \n",
      "91                          0.00                     0                 False   \n",
      "44                          0.00                     0                 False   \n",
      "62                          0.00                     1                  True   \n",
      "\n",
      "     is_log_space-agg-only_one  is_log_space-agg-all  \\\n",
      "173                      False                 False   \n",
      "151                      False                 False   \n",
      "103                      False                 False   \n",
      "14                       False                 False   \n",
      "140                      False                 False   \n",
      "..                         ...                   ...   \n",
      "184                      False                 False   \n",
      "47                       False                 False   \n",
      "91                       False                 False   \n",
      "44                       False                 False   \n",
      "62                        True                 False   \n",
      "\n",
      "     is_log_space-agg-percentage  data_type_entropy  general_type_entropy  \n",
      "173                         0.00           0.304636              0.304636  \n",
      "151                         0.00           0.000000              0.000000  \n",
      "103                         0.00           1.098612              0.636514  \n",
      "14                          0.08           1.098612              0.636514  \n",
      "140                         0.00           0.636514              0.636514  \n",
      "..                           ...                ...                   ...  \n",
      "184                         0.00           0.636514              0.636514  \n",
      "47                          0.00           0.693147              0.693147  \n",
      "91                          0.00           0.000000              0.000000  \n",
      "44                          0.00           0.673012              0.673012  \n",
      "62                          0.04           0.693147              0.693147  \n",
      "\n",
      "[210 rows x 657 columns]\n"
     ]
    }
   ],
   "source": [
    "print(X.iloc[p])"
   ]
  },
  {
   "cell_type": "code",
   "execution_count": 1,
   "metadata": {},
   "outputs": [
    {
     "ename": "NameError",
     "evalue": "name 'X' is not defined",
     "output_type": "error",
     "traceback": [
      "\u001b[0;31m---------------------------------------------------------------------------\u001b[0m",
      "\u001b[0;31mNameError\u001b[0m                                 Traceback (most recent call last)",
      "\u001b[0;32m<ipython-input-1-19c40ecbd036>\u001b[0m in \u001b[0;36m<module>\u001b[0;34m\u001b[0m\n\u001b[0;32m----> 1\u001b[0;31m \u001b[0mX\u001b[0m\u001b[0;34m[\u001b[0m\u001b[0;36m0\u001b[0m\u001b[0;34m]\u001b[0m\u001b[0;34m\u001b[0m\u001b[0;34m\u001b[0m\u001b[0m\n\u001b[0m",
      "\u001b[0;31mNameError\u001b[0m: name 'X' is not defined"
     ]
    }
   ],
   "source": [
    "X[0]"
   ]
  },
  {
   "cell_type": "markdown",
   "metadata": {},
   "source": [
    "Debugging TRAIN function"
   ]
  },
  {
   "cell_type": "code",
   "execution_count": 32,
   "metadata": {},
   "outputs": [
    {
     "name": "stdout",
     "output_type": "stream",
     "text": [
      "[[4 True False ... 0.04 0.6931471805599453 0.6931471805599453]\n",
      " [2 True False ... 0.0 0.6931471805599453 0.6931471805599453]\n",
      " [2 True False ... 0.0 0.6931471805599453 0.6931471805599453]\n",
      " ...\n",
      " [11 True False ... 0.0 0.3046360973492381 0.3046360973492381]\n",
      " [2 True False ... 0.0 0.0 0.0]\n",
      " [3 True False ... 0.0 0.6365141682948128 0.6365141682948128]]\n",
      "object\n"
     ]
    },
    {
     "data": {
      "text/plain": [
       "'\\n    print(\"y_train.dtype is \", y_train.dtype, \"X_train.dtype is \", X_train.dtype)\\n    print(\"X_train is \", X_train) # debugging\\n    np.vstack(arr[:, :]).astype(np.float)\\n    print(\"X_train_fl is \", X_train_fl) # debugging\\n    print(\"X_train_fl.dtype is \", X_train_fl.dtype) # debugging\\n    X_train, y_train = torch.from_numpy(\\n        X_train).float(), torch.from_numpy(y_train)\\n    X_val, y_val = torch.from_numpy(X_val).float(), torch.from_numpy(y_val)\\n    train_dataset = torch.utils.data.TensorDataset(X_train, y_train)\\n    val_dataset = torch.utils.data.TensorDataset(X_val, y_val)\\n    train_dataloader = torch.utils.data.DataLoader(\\n        train_dataset, shuffle=True, batch_size=batch_size, num_workers=0)\\n    val_dataloader = torch.utils.data.DataLoader(\\n        val_dataset, shuffle=True, batch_size=batch_size, num_workers=0)\\n    test_dataloader = None\\n'"
      ]
     },
     "execution_count": 32,
     "metadata": {},
     "output_type": "execute_result"
    }
   ],
   "source": [
    "# we need to look at X_train\n",
    "# here's code from agg.py that loads it\n",
    "features_directory = '../features/processed'\n",
    "saves_directory = './saves'\n",
    "num_datapoints = None  # None if you want all\n",
    "prefix = 'agg'\n",
    "\n",
    "X_train = np.load(\n",
    "    saves_directory +\n",
    "    '/' +\n",
    "    prefix +\n",
    "    '_X_train_' +\n",
    "    str(num_datapoints) +\n",
    "    '.npy', allow_pickle=True)\n",
    "\n",
    "print(X_train)\n",
    "print(X_train.dtype)\n",
    "\n",
    "'''\n",
    "    print(\"y_train.dtype is \", y_train.dtype, \"X_train.dtype is \", X_train.dtype)\n",
    "    print(\"X_train is \", X_train) # debugging\n",
    "    np.vstack(arr[:, :]).astype(np.float)\n",
    "    print(\"X_train_fl is \", X_train_fl) # debugging\n",
    "    print(\"X_train_fl.dtype is \", X_train_fl.dtype) # debugging\n",
    "    X_train, y_train = torch.from_numpy(\n",
    "        X_train).float(), torch.from_numpy(y_train)\n",
    "    X_val, y_val = torch.from_numpy(X_val).float(), torch.from_numpy(y_val)\n",
    "    train_dataset = torch.utils.data.TensorDataset(X_train, y_train)\n",
    "    val_dataset = torch.utils.data.TensorDataset(X_val, y_val)\n",
    "    train_dataloader = torch.utils.data.DataLoader(\n",
    "        train_dataset, shuffle=True, batch_size=batch_size, num_workers=0)\n",
    "    val_dataloader = torch.utils.data.DataLoader(\n",
    "        val_dataset, shuffle=True, batch_size=batch_size, num_workers=0)\n",
    "    test_dataloader = None\n",
    "'''"
   ]
  },
  {
   "cell_type": "code",
   "execution_count": 33,
   "metadata": {},
   "outputs": [
    {
     "data": {
      "text/plain": [
       "array([4, True, False, False, 0.16, 171.0, 0.0, 0.0, 0.0, 0.0, nan, 171,\n",
       "       171, 0, 0.0, 0, False, False, False, 0.0, 2, True, False, False,\n",
       "       0.08, 0, False, False, False, 0.0, 2, True, False, False, 0.08, 0,\n",
       "       False, False, False, 0.0, 2, True, False, False, 0.08, 2, True,\n",
       "       False, False, 0.08, 0, False, False, False, 0.0, 0.0, 0.0, 0.0,\n",
       "       0.0, 0.0, nan, 0.0, 0.0, nan, nan, 0.0, 0.0, 0.0, 0.0, 0.0, nan, 0,\n",
       "       0, nan, nan, 110.5, 110.25, 10.5, 10.5, 10.5, 1.002267573696145,\n",
       "       100.0, 121.0, 21.0, 0.19004524886877827, 0.6461988304093567,\n",
       "       0.0037703908895044655, 0.06140350877192985, 0.06140350877192985,\n",
       "       0.06140350877192985, 171.3877551020407, 0.5847953216374269,\n",
       "       0.7076023391812866, 0.1228070175438597, 0.1900452488687784, 0,\n",
       "       False, False, False, 0.0, nan, nan, nan, nan, nan, nan, nan, nan,\n",
       "       nan, nan, nan, nan, nan, nan, nan, nan, nan, nan, nan, nan, nan,\n",
       "       nan, nan, nan, nan, nan, nan, nan, nan, nan, nan, nan, nan, nan,\n",
       "       nan, nan, nan, nan, nan, nan, nan, nan, nan, nan, nan, nan, nan,\n",
       "       nan, nan, nan, nan, nan, nan, nan, nan, nan, nan, nan, nan, nan,\n",
       "       nan, nan, nan, nan, nan, nan, nan, nan, nan, nan,\n",
       "       6207.0964912280715, 60290.351090933895, 245.54093567251445,\n",
       "       245.54093567251445, 245.54093567251445, 0.1029533976650114,\n",
       "       5961.555555555556, 6452.637426900585, 491.0818713450289,\n",
       "       0.07911619741034003, 0.9114898568433392, 0.0026151154913914305,\n",
       "       0.05113819992326119, 0.05113819992326119, 0.05113819992326119,\n",
       "       348.54669319340866, 0.860351656920078, 0.9626280567666003,\n",
       "       0.10227639984652236, 0.11220794074519357, 6293.0, 104329.0, 323.0,\n",
       "       323.0, 323.0, 0.060318799183352666, 5970.0, 6616.0, 646.0,\n",
       "       0.10265374225329732, 0.9230624683782764, 0.0016751940955271993,\n",
       "       0.04092913504494322, 0.04092913504494322, 0.04092913504494322,\n",
       "       551.0182198247184, 0.8821333333333333, 0.9639916034232198,\n",
       "       0.08185827008988644, 0.0886811812787739, 266810.4203002634,\n",
       "       52323185212.23728, 228742.61783112763, 228742.61783112763,\n",
       "       228742.61783112763, 5.099277102837044e-06, 38067.8024691358,\n",
       "       495553.03813139093, 457485.23566225526, 1.7146453093826317,\n",
       "       449.53250019849474, 64730.95156555372, 254.4227811449944,\n",
       "       254.4227811449944, 254.4227811449944, 0.006944629876841039,\n",
       "       195.10971905350024, 703.9552813434891, 508.8455622899888,\n",
       "       1.1319438796200585, 41.592036885356265, 1239.4968204869388,\n",
       "       35.2064883293824, 35.2064883293824, 35.2064883293824,\n",
       "       0.033555581747290605, 6.385548555973872, 76.79852521473866,\n",
       "       70.4129766587648, 1.6929436962380606, 5069.0, 241081.0, 491.0,\n",
       "       491.0, 491.0, 0.021026128147800947, 4578.0, 5560.0, 982.0,\n",
       "       0.1937265732886171, 6846.5, 427062.25, 653.5, 653.5, 653.5,\n",
       "       0.016031620682933227, 6193.0, 7500.0, 1307.0, 0.1909004600890966,\n",
       "       1777.5, 1309880.25, 1144.5, 1144.5, 1144.5, 0.0013569942748583314,\n",
       "       633.0, 2922.0, 2289.0, 1.287763713080169, 0.27950921474169915,\n",
       "       0.03004289857603212, 0.1733288740401671, 0.1733288740401671,\n",
       "       0.1733288740401671, 9.303670018201519, 0.10618034070153204,\n",
       "       0.4528380887818663, 0.3466577480803342, 1.2402372794782046,\n",
       "       5.1383355894257985, 7.781572581596862e-06, 0.002789547020861427,\n",
       "       0.002789547020861427, 0.002789547020861427, 660320.974397614,\n",
       "       5.135546042404936, 5.141125136446659, 0.005579094041722854,\n",
       "       0.0010857784480258737, 0.039858039424047226,\n",
       "       0.00045725500855467335, 0.021383521893146445, 0.021383521893146445,\n",
       "       0.021383521893146445, 87.16807619020635, 0.018474517530900774,\n",
       "       0.061241561317193674, 0.04276704378629289, 1.0729841307871906,\n",
       "       5069.0, 241081.0, 491.0, 491.0, 491.0, 0.021026128147800947,\n",
       "       4578.0, 5560.0, 982.0, 0.1937265732886171, 5069.0, 241081.0, 491.0,\n",
       "       491.0, 491.0, 0.021026128147800947, 4578.0, 5560.0, 982.0,\n",
       "       0.1937265732886171, 374.0, 34969.0, 187.0, 187.0, 187.0,\n",
       "       0.0106951871657754, 187.0, 561.0, 374.0, 1.0, 384.9221982832325,\n",
       "       47396.39164850169, 217.70712355938582, 217.70712355938582,\n",
       "       217.70712355938582, 0.008121339724295252, 167.2150747238466,\n",
       "       602.6293218426183, 435.41424711877164, 1.1311746868866892, 0.0,\n",
       "       0.0, 0.0, 0.0, 0.0, nan, 0.0, 0.0, nan, nan, -0.5342798180417616,\n",
       "       0.005881563297467473, 0.07669135086479748, 0.07669135086479748,\n",
       "       0.07669135086479748, -90.83976334520037, -0.6109711689065591,\n",
       "       -0.4575884671769642, 0.15338270172959495, -0.2870830912007346,\n",
       "       -0.7636235673210103, 0.11085817213099854, 0.3329537086908607,\n",
       "       0.3329537086908607, 0.3329537086908607, -6.888292966067076,\n",
       "       -1.096577276011871, -0.4306698586301496, 0.6659074173817214,\n",
       "       -0.8720362307804321, -359625713606644.1, 1.2892485302266873e+29,\n",
       "       359061071438646.4, 359061071438646.4, 359061071438646.4,\n",
       "       -2.789421164152202e-15, -718686785045290.5, -564642167997.7646,\n",
       "       718122142877292.8, -1.9968598342852903, 7.184450763042253e+17,\n",
       "       5.1576678173101485e+35, 7.181690481571973e+17,\n",
       "       7.181690481571973e+17, 7.181690481571973e+17,\n",
       "       1.3929650023077916e-18, 276028147027980.25, 1.4366141244614226e+18,\n",
       "       1.4363380963143946e+18, 1.999231595688712, -1.1435639895557824e+21,\n",
       "       1.3075501117478552e+42, 1.1434815747303737e+21,\n",
       "       1.1434815747303737e+21, 1.1434815747303737e+21,\n",
       "       -8.74585210372652e-22, -2.2870455642861561e+21,\n",
       "       -8.241482540893085e+16, 2.2869631494607476e+21,\n",
       "       -1.9998558632028265, 2.1222963344990207e+24, 4.503996348823917e+48,\n",
       "       2.1222620829727693e+24, 2.1222620829727687e+24,\n",
       "       2.1222620829727687e+24, 4.712029429271618e-25,\n",
       "       3.425152625211211e+19, 4.244558417471791e+24,\n",
       "       4.2445241659455385e+24, 1.9999677222019419, -3.745639537961526e+27,\n",
       "       1.402972515125151e+55, 3.7456274709655145e+27,\n",
       "       3.7456274709655145e+27, 3.7456274709655145e+27,\n",
       "       -2.6697882514308547e-28, -7.491267008927041e+27,\n",
       "       -1.2066996012047703e+22, 7.491254941931029e+27, -1.999993556776679,\n",
       "       6.903479051014227e+30, 4.7657956873813425e+61,\n",
       "       6.903474261110372e+30, 6.903474261110374e+30,\n",
       "       6.903474261110374e+30, 1.4485470011425257e-31,\n",
       "       4.7899038532097055e+24, 1.38069533121246e+31,\n",
       "       1.3806948522220749e+31, 1.9999986123217532, 0.9766081871345028,\n",
       "       3.419855682090216e-05, 0.005847953216374269, 0.005847953216374269,\n",
       "       0.005847953216374269, 28557.0, 0.9707602339181286,\n",
       "       0.9824561403508772, 0.011695906432748536, 0.011976047904191616,\n",
       "       0.9766081871345028, 3.419855682090216e-05, 0.005847953216374269,\n",
       "       0.005847953216374269, 0.005847953216374269, 28557.0,\n",
       "       0.9707602339181286, 0.9824561403508772, 0.011695906432748536,\n",
       "       0.011976047904191616, 0.9766081871345028, 3.419855682090216e-05,\n",
       "       0.005847953216374269, 0.005847953216374269, 0.005847953216374269,\n",
       "       28557.0, 0.9707602339181286, 0.9824561403508772,\n",
       "       0.011695906432748536, 0.011976047904191616, 0.0, 0.0, 0.0, 0.0,\n",
       "       0.0, nan, 0.0, 0.0, nan, nan, 2, True, False, False,\n",
       "       0.08695652173913042, 2, True, False, False, 0.08695652173913042, 2,\n",
       "       True, False, False, 0.08695652173913042, 0, False, False, False,\n",
       "       0.0, 30.623159824243785, 363.7085780775385, 19.071145169536585,\n",
       "       19.071145169536585, 19.071145169536585, 0.08419696886476863,\n",
       "       11.552014654707198, 49.694304993780364, 38.142290339073156,\n",
       "       1.24553738275162, 0.00155053615300865, 2.404162311606862e-06,\n",
       "       0.0015505361368271498, 0.0015505361368271498,\n",
       "       0.0015505361368271498, 644.9382163271345, 1.6181500075394772e-11,\n",
       "       0.0031010722898358, 0.0031010722736543, 1.9999999791278649, 2,\n",
       "       True, False, False, 0.08695652173913042, 2, True, False, False,\n",
       "       0.08695652173913042, 12.0, 0.0, 0.0, 0.0, 0.0, nan, 12, 12, 0, 0.0,\n",
       "       2, True, False, False, 0.08, 2, True, False, False, 0.08, 0, False,\n",
       "       False, False, 0.0, 0, False, False, False, 0.0, 0, False, False,\n",
       "       False, 0.0, 0, False, False, False, 0.0, 0, False, False, False,\n",
       "       0.0, 0, False, False, False, 0.0, 0, False, False, False, 0.0, 4,\n",
       "       True, False, False, 0.16, 1.0, 0.0, 0.0, 0.0, 0.0, nan, 1, 1, 0.0,\n",
       "       0.0, 4, True, False, False, 0.16, 2.0, 0.0, 0.0, 0.0, 0.0, nan, 2,\n",
       "       2, 0, 0.0, 0, False, False, False, 0.0, 2, True, False, False,\n",
       "       0.08, 0.6917328048887643, 0.09500299845853444, 0.3082255642521146,\n",
       "       0.3082255642521146, 0.3082255642521146, 7.28116813271617,\n",
       "       0.3835072406366497, 0.9999583691408788, 0.6164511285042292,\n",
       "       0.8911694286399487, 1.8663603524635597, 0.11515278188196235,\n",
       "       0.3393416889831875, 0.3393416889831875, 0.3393416889831875,\n",
       "       16.207687925218142, 1.5270186634803717, 2.205702041446747,\n",
       "       0.678683377966375, 0.3636400532568784, 0.0039930326587727435,\n",
       "       9.10696873785168e-06, 0.00301777546180157, 0.00301777546180157,\n",
       "       0.00301777546180157, 438.45902777466813, 0.0009752571969711736,\n",
       "       0.007010808120574314, 0.00603555092360314, 1.5115205507630791, 0,\n",
       "       False, False, False, 0.0, 1, True, True, False, 0.04,\n",
       "       0.6931471805599453, 0.6931471805599453], dtype=object)"
      ]
     },
     "execution_count": 33,
     "metadata": {},
     "output_type": "execute_result"
    }
   ],
   "source": [
    "X_train[0]"
   ]
  },
  {
   "cell_type": "code",
   "execution_count": 40,
   "metadata": {},
   "outputs": [],
   "source": [
    "X_slice = X_train[0]\n",
    "X_slice = X_slice.astype(np.float64, copy=False)"
   ]
  },
  {
   "cell_type": "code",
   "execution_count": 41,
   "metadata": {},
   "outputs": [
    {
     "data": {
      "text/plain": [
       "dtype('float64')"
      ]
     },
     "execution_count": 41,
     "metadata": {},
     "output_type": "execute_result"
    }
   ],
   "source": [
    "X_slice.dtype"
   ]
  },
  {
   "cell_type": "code",
   "execution_count": 42,
   "metadata": {},
   "outputs": [
    {
     "data": {
      "text/plain": [
       "dtype('float64')"
      ]
     },
     "execution_count": 42,
     "metadata": {},
     "output_type": "execute_result"
    }
   ],
   "source": [
    "X_train.astype(np.float64, copy=False).dtype"
   ]
  },
  {
   "cell_type": "code",
   "execution_count": null,
   "metadata": {},
   "outputs": [],
   "source": []
  }
 ],
 "metadata": {
  "kernelspec": {
   "display_name": "Python 3",
   "language": "python",
   "name": "python3"
  },
  "language_info": {
   "codemirror_mode": {
    "name": "ipython",
    "version": 3
   },
   "file_extension": ".py",
   "mimetype": "text/x-python",
   "name": "python",
   "nbconvert_exporter": "python",
   "pygments_lexer": "ipython3",
   "version": "3.7.3"
  }
 },
 "nbformat": 4,
 "nbformat_minor": 4
}
